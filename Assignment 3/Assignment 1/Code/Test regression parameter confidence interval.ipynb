{
 "cells": [
  {
   "cell_type": "code",
   "execution_count": 11,
   "id": "d91ce8d7",
   "metadata": {},
   "outputs": [
    {
     "name": "stdout",
     "output_type": "stream",
     "text": [
      "[[ 1.46443652e-04 -4.26064528e-06]\n",
      " [-4.26064528e-06  1.53977134e-07]]\n"
     ]
    }
   ],
   "source": [
    "import numpy as np\n",
    "import scipy.stats as scistats\n",
    "N = 11\n",
    "K = 1\n",
    "\n",
    "sig_ub = 0.00025693997315943056 * (N)/(N - K - 1)\n",
    "\n",
    "Sigma = np.array([[0.46632500232639523, -0.013567303132596577],\n",
    "                  [-0.013567303132596577, 0.0004903140988266602]])\n",
    "\n",
    "print(sig_ub * Sigma)"
   ]
  },
  {
   "cell_type": "code",
   "execution_count": 19,
   "id": "9af84b39",
   "metadata": {},
   "outputs": [
    {
     "name": "stdout",
     "output_type": "stream",
     "text": [
      "[[0.26883427]\n",
      " [0.00150742]]\n",
      "11 1\n",
      "[[ 1.46443652e-04 -4.26064528e-06]\n",
      " [-4.26064528e-06  1.53977134e-07]] 0.025000000000000022\n"
     ]
    },
    {
     "data": {
      "text/plain": [
       "(array([0.24145902]), array([0.29620952]))"
      ]
     },
     "execution_count": 19,
     "metadata": {},
     "output_type": "execute_result"
    }
   ],
   "source": [
    "def feature_transform(X, K):\n",
    "    \n",
    "    return X**np.arange(K + 1)\n",
    "\n",
    "def f_x(X, omega):\n",
    "    \n",
    "    K = omega.shape[0] - 1 #Index starts at zero\n",
    "    \n",
    "    Xtransform = feature_transform(X, K)\n",
    "    \n",
    "    return np.dot(Xtransform, omega)\n",
    "\n",
    "def log_likelihood_function(X, t, omega, sigma):\n",
    "    \n",
    "    term1 = -1/2 * np.log(2 * np.pi)\n",
    "    term2 = -1/2 * np.log(sigma**2)\n",
    "    \n",
    "    t_pred = f_x(X, omega)\n",
    "    \n",
    "    term3 = -1/(2 * sigma**2) * np.sum((t - t_pred)**2, axis = 0)\n",
    "    \n",
    "    log_likelihood = term1 + term2 + term3\n",
    "    \n",
    "    return log_likelihood\n",
    "\n",
    "def Phi_func(X, K):\n",
    "    \n",
    "    return X**np.arange(K + 1)\n",
    "\n",
    "def maximum_likelihood_solution(X, t, K, biased = True, verbose = False):\n",
    "\n",
    "    #calculate Phi\n",
    "    Phi = Phi_func(X, K)\n",
    "\n",
    "    #calculate ATA\n",
    "    ATA = np.dot(Phi.T, Phi)\n",
    "\n",
    "    #Calculate ATb\n",
    "    ATb = np.dot(Phi.T, t)\n",
    "\n",
    "    #Check shapes are K + 1 x K + 1 and K + 1 x 1\n",
    "    #print(ATA.shape, ATb.shape)\n",
    "\n",
    "    #Calculate Omega\n",
    "    omega_ML = np.linalg.solve(ATA, ATb)\n",
    "\n",
    "    #Calculate sigma\n",
    "    t_pred = f_x(X, omega_ML)\n",
    "\n",
    "    if biased:\n",
    "        divisor = X.shape[0]\n",
    "    \n",
    "    else:\n",
    "        divisor = X.shape[0] - K - 1\n",
    "    \n",
    "    sigma_ML = np.sqrt(1/divisor * np.sum((t_pred - t)**2, axis = 0))\n",
    "\n",
    "    #Calculate the log-likelihood:\n",
    "    LL = log_likelihood_function(X, t, omega_ML, sigma_ML)[0]\n",
    "\n",
    "    if verbose: \n",
    "        print(\"For a {}th order polynomial:\".format(K))\n",
    "        print(\"\\nOptimal weights:\\n{}\\n\".format(omega_ML))\n",
    "        print(\"Optimal sigma:\\n{}\\n\".format(sigma_ML))\n",
    "        print(\"Optimal model log-likelihood:\\n{}\\n\".format(LL))\n",
    "    \n",
    "    return omega_ML, sigma_ML, LL\n",
    "\n",
    "def confidence_interval(parameters, X, gamma = 0.9, weight_index = 0):\n",
    "    \n",
    "    #Define the student-t distribution\n",
    "    pdf_t = scistats.t\n",
    "    N = X.shape[0]\n",
    "    K = parameters[0].shape[0] - 1\n",
    "    print(N, K)\n",
    "    dof = N - K - 1\n",
    "    \n",
    "    #Unbiased variance\n",
    "    mean = parameters[0][weight_index]\n",
    "    sigma_unbiased = parameters[1]**2 * (N)/(N - K - 1) #parameter[1] is the standard deviation\n",
    "    \n",
    "    Phi = Phi_func(X, K)\n",
    "    \n",
    "    A = np.linalg.inv(np.dot(Phi.T, Phi))\n",
    "    \n",
    "    Sigma = sigma_unbiased * A\n",
    "    \n",
    "    print(Sigma, (1 - gamma)/2)\n",
    "\n",
    "    lower_bound = pdf_t.ppf(q = (1 - gamma)/2, df = dof, loc = mean, scale = np.sqrt(Sigma[weight_index, weight_index]))\n",
    "    upper_bound = pdf_t.ppf(q = (1 + gamma)/2, df = dof, loc = mean, scale = np.sqrt(Sigma[weight_index, weight_index]))\n",
    "    \n",
    "    return lower_bound, upper_bound\n",
    "\n",
    "x = np.array([[5.133, 10.124, 15.060, 19.946, 24.899, 29.792, 29.877, 35.011, 39.878, 44.862, 49.795]]).T\n",
    "y = np.array([[0.265,0.287,0.282,0.286,0.310,0.333, 0.343,0.335,0.311, 0.345,0.319]]).T\n",
    "\n",
    "omega = np.array([[0.26883427, 0.00150742]]).T\n",
    "\n",
    "omega_ML, sigma_ML, LL = maximum_likelihood_solution(x, \n",
    "                                                     y, \n",
    "                                                     K = 1, \n",
    "                                                     biased = True, \n",
    "                                                     verbose = False)\n",
    "\n",
    "print(omega_ML)\n",
    "\n",
    "confidence_interval((omega_ML, sigma_ML), x, gamma = 0.95, weight_index = 0)"
   ]
  }
 ],
 "metadata": {
  "kernelspec": {
   "display_name": "Python 3 (ipykernel)",
   "language": "python",
   "name": "python3"
  },
  "language_info": {
   "codemirror_mode": {
    "name": "ipython",
    "version": 3
   },
   "file_extension": ".py",
   "mimetype": "text/x-python",
   "name": "python",
   "nbconvert_exporter": "python",
   "pygments_lexer": "ipython3",
   "version": "3.8.12"
  },
  "toc": {
   "base_numbering": 1,
   "nav_menu": {},
   "number_sections": true,
   "sideBar": true,
   "skip_h1_title": false,
   "title_cell": "Table of Contents",
   "title_sidebar": "Contents",
   "toc_cell": false,
   "toc_position": {},
   "toc_section_display": true,
   "toc_window_display": false
  },
  "varInspector": {
   "cols": {
    "lenName": 16,
    "lenType": 16,
    "lenVar": 40
   },
   "kernels_config": {
    "python": {
     "delete_cmd_postfix": "",
     "delete_cmd_prefix": "del ",
     "library": "var_list.py",
     "varRefreshCmd": "print(var_dic_list())"
    },
    "r": {
     "delete_cmd_postfix": ") ",
     "delete_cmd_prefix": "rm(",
     "library": "var_list.r",
     "varRefreshCmd": "cat(var_dic_list()) "
    }
   },
   "types_to_exclude": [
    "module",
    "function",
    "builtin_function_or_method",
    "instance",
    "_Feature"
   ],
   "window_display": false
  }
 },
 "nbformat": 4,
 "nbformat_minor": 5
}
