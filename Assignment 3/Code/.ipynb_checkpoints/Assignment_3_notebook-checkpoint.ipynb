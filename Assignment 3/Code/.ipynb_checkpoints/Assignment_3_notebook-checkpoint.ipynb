{
 "cells": [
  {
   "cell_type": "code",
   "execution_count": 1,
   "id": "73f541eb",
   "metadata": {},
   "outputs": [],
   "source": [
    "import numpy as np\n",
    "import scipy.stats as scistats\n",
    "import scipy.integrate as sciintg\n",
    "import scipy.io as io\n",
    "from matplotlib import pyplot as plt"
   ]
  },
  {
   "cell_type": "markdown",
   "id": "c19771e7",
   "metadata": {},
   "source": [
    "# Problem 1"
   ]
  },
  {
   "cell_type": "markdown",
   "id": "4e4db9a6",
   "metadata": {},
   "source": [
    "Consider the following mixture distribution\n",
    "\\begin{equation}\n",
    "p(x) = 0.4 \\cdot \\mathcal{N}(x \\vert 0, 1^2) + 0.6 \\cdot L(x \\vert 5, 2),\n",
    "\\end{equation}\n",
    "where $\\mathcal{N}(x \\vert 0, 1^2)$ is a Gaussian distribution with a mean of zero and a variance of $1^2$, and $L(x \\vert 5, 2)$ is a Laplacian distribution with a location of 5 and a scaling parameter of 2."
   ]
  },
  {
   "cell_type": "markdown",
   "id": "57920553",
   "metadata": {},
   "source": [
    "## Q1a) Plot the distribution"
   ]
  },
  {
   "cell_type": "code",
   "execution_count": 2,
   "id": "59df2cf8",
   "metadata": {},
   "outputs": [
    {
     "data": {
      "image/png": "[encoded data removed]",
      "text/plain": [
       "<Figure size 432x288 with 1 Axes>"
      ]
     },
     "metadata": {
      "needs_background": "light"
     },
     "output_type": "display_data"
    }
   ],
   "source": [
    "class mixture_dist(object):\n",
    "    \n",
    "    #Global object methods\n",
    "    _gauss = scistats.norm(loc = 0, scale = 1)\n",
    "    _laplace = scistats.laplace(loc = 5, scale = 2)\n",
    "    \n",
    "    def pdf(self, x):\n",
    "\n",
    "        return 0.4 * self._gauss.pdf(x) + 0.6 * self._laplace.pdf(x)\n",
    "\n",
    "x_range = np.linspace(-50, 50, 10000)\n",
    "mixture_instance = mixture_dist()\n",
    "y_range = mixture_instance.pdf(x_range)\n",
    "\n",
    "plt.figure()\n",
    "plt.plot(x_range, y_range, \"b\")\n",
    "plt.xlabel(\"x\")\n",
    "plt.ylabel(r\"$p(x)$\")\n",
    "plt.grid()\n",
    "plt.savefig(\"./images/Q1a.pdf\")\n",
    "plt.show()"
   ]
  },
  {
   "cell_type": "markdown",
   "id": "a9fc3047",
   "metadata": {},
   "source": [
    "## Q1b) Is $p(x)$ a valid PDF?"
   ]
  },
  {
   "cell_type": "code",
   "execution_count": 3,
   "id": "556df04c",
   "metadata": {},
   "outputs": [
    {
     "name": "stdout",
     "output_type": "stream",
     "text": [
      "Yes, pretty easy to say from the PDF form.\n",
      "0.9999993935780693\n"
     ]
    }
   ],
   "source": [
    "print(\"Yes, pretty easy to say from the PDF form.\")\n",
    "\n",
    "print(sciintg.trapezoid(y_range, x_range))"
   ]
  },
  {
   "cell_type": "markdown",
   "id": "90fefdbf",
   "metadata": {},
   "source": [
    "## Q1c) Draw samples from the distribution using rejection sampling and check the accuracy of the model. Investigate different proposal distributions and scaling choices. Motivate your choices and summarise the results of the inference procedure (e.g. histogram of the samples, efficiency of the sampling process).\n",
    "\n",
    "- Initialise a proposal distribution $q(x)$.\n",
    "- Define/find a scale $k$ such that $k \\cdot q(x) > \\tilde{p}(x)$ $\\forall x$.\n",
    "- Draw a sample $x_i \\sim q(x)$.\n",
    "- Evaluate $q(x_i)$ and $\\tilde{x}(x_i)$.\n",
    "- Sample from a uniform distribution $u_i \\sim U[0, 1]$.\n",
    "- Accept if $\\frac{\\tilde{p}(x_i)}{k \\cdot q(x_i)} > u_i$, reject otherwise (alternatively, if $\\tilde{p}(x_i) > u_i \\cdot k \\cdot q(x_i)$).\n",
    "- Repeat until a suitable number of samples is drawn."
   ]
  },
  {
   "cell_type": "code",
   "execution_count": 4,
   "id": "a682e415",
   "metadata": {},
   "outputs": [],
   "source": [
    "def rejection_sampler(n_samples, unnorm_dist, proposal_dist, domain_range = [-50, 50], K = None, max_iter = 1000, visualise = False):\n",
    "    \n",
    "    #Initialise range\n",
    "    x_range = np.linspace(domain_range[0], domain_range[1], 10000)\n",
    "    q_x = proposal_dist.pdf(x_range)\n",
    "    p_x = unnorm_dist.pdf(x_range)\n",
    "        \n",
    "    if K is None:\n",
    "        \n",
    "        k_init = 0\n",
    "        k_iter = 0.1\n",
    "        \n",
    "        check_flag = False\n",
    "        \n",
    "        cnt_while = 0\n",
    "        while not check_flag and cnt_while < max_iter:\n",
    "            \n",
    "            if np.sum(k_init * q_x / p_x < 1) == 0:\n",
    "                \n",
    "                K = k_init\n",
    "                check_flag = True\n",
    "            \n",
    "            else:\n",
    "                k_init += k_iter\n",
    "                cnt_while += 1\n",
    "        \n",
    "        if cnt_while == max_iter:\n",
    "            print(\"Hit iteration cap ({} iterations)\".format(cnt_while))\n",
    "            raise SystemExit\n",
    "        \n",
    "        else:\n",
    "            print(\"Optimal K: {}\".format(K))\n",
    "    \n",
    "    #Check the K-value\n",
    "    try:\n",
    "        assert np.sum((K * q_x / p_x) < 1) == 0\n",
    "\n",
    "    except AssertionError:\n",
    "        print(\"The K-value used is not sufficient to ensure that k.q(x) > p(x) across the whole domain.\")\n",
    "        raise SystemExit\n",
    "    \n",
    "    if visualise:\n",
    "        plt.figure()\n",
    "        plt.plot(x_range, K * q_x)\n",
    "        plt.plot(x_range, p_x, label = r\"$p(x)$\")\n",
    "        plt.plot(x_range, K * q_x, label = r\"$k \\cdot q(x)$\")\n",
    "        plt.legend()\n",
    "        plt.xlabel(r\"$x$\")\n",
    "        plt.show()\n",
    "    \n",
    "    #perform rejection sampling\n",
    "    \n",
    "    samples = np.zeros(n_samples)\n",
    "    cnt_drawn = 0\n",
    "    cnt_samples = 0\n",
    "    \n",
    "    while cnt_samples < n_samples:\n",
    "        \n",
    "        #Sample from proposal\n",
    "        x_i = proposal_dist.rvs(1)[0]\n",
    "        u_i = np.random.random(1)[0]\n",
    "\n",
    "        #determine q(x_i) and p(x_i)\n",
    "        q_i = proposal_dist.pdf(x_i)\n",
    "        p_i = unnorm_dist.pdf(x_i)\n",
    "        \n",
    "        r_i = p_i / (K * q_i)\n",
    "        \n",
    "        if r_i > u_i:\n",
    "            samples[cnt_samples] = x_i\n",
    "            cnt_samples += 1\n",
    "        \n",
    "        cnt_drawn += 1\n",
    "    \n",
    "    efficiency = cnt_samples / cnt_drawn * 100\n",
    "    \n",
    "    return samples, efficiency, K\n",
    "    \n",
    "    \n",
    "    "
   ]
  },
  {
   "cell_type": "code",
   "execution_count": 5,
   "id": "4c2879aa",
   "metadata": {},
   "outputs": [
    {
     "data": {
      "image/png": "[encoded data removed]",
      "text/plain": [
       "<Figure size 720x720 with 1 Axes>"
      ]
     },
     "metadata": {
      "needs_background": "light"
     },
     "output_type": "display_data"
    }
   ],
   "source": [
    "x_range = np.linspace(-10, 20, 50000)\n",
    "mixture_instance = mixture_dist()\n",
    "y_range = mixture_instance.pdf(x_range)\n",
    "\n",
    "proposal_1 = scistats.norm(3, 10)\n",
    "proposal_2 = scistats.norm(3, 15)\n",
    "proposal_3 = scistats.norm(3, 20)\n",
    "proposal_4 = scistats.norm(3, 25)\n",
    "proposal_5 = scistats.laplace(3, 2)\n",
    "proposal_6 = scistats.laplace(3, 5)\n",
    "proposal_7 = scistats.laplace(3, 10)\n",
    "proposal_8 = scistats.laplace(3, 15)\n",
    "proposal_9 = scistats.t(loc = 3, scale = 2, df = 2)\n",
    "proposal_10 = scistats.t(loc = 3, scale = 5, df = 2)\n",
    "proposal_11 = scistats.t(loc = 3, scale = 10, df = 2)\n",
    "proposal_12 = scistats.t(loc = 3, scale = 15, df = 2)\n",
    "\n",
    "proposal_dists = [proposal_1, \n",
    "                  proposal_2, \n",
    "                  proposal_3, \n",
    "                  proposal_4, \n",
    "                  proposal_5, \n",
    "                  proposal_6, \n",
    "                  proposal_7, \n",
    "                  proposal_8, \n",
    "                  proposal_9, \n",
    "                  proposal_10, \n",
    "                  proposal_11, \n",
    "                  proposal_12]\n",
    "\n",
    "K_vals = [4.6, 6.6, 8.8, 10.9, 3.5, 3.2, 4.7, 6.4, 3.5, 3.2, 5.2, 7.6]\n",
    "K_limit = 20\n",
    "\n",
    "prop_labels = [r'$\\mathcal{N}(x \\vert 3, 10^2)$',\n",
    "               r'$\\mathcal{N}(x \\vert 3, 15^2)$',\n",
    "               r'$\\mathcal{N}(x \\vert 3, 20^2)$',\n",
    "               r'$\\mathcal{N}(x \\vert 3, 25^2)$',\n",
    "               r'$L(x \\vert 3, 2)$', \n",
    "               r'$L(x \\vert 3, 5)$',\n",
    "               r'$L(x \\vert 3, 10)$',\n",
    "               r'$L(x \\vert 3, 15)$',\n",
    "               r'$st(x \\vert 3, 2)$',\n",
    "               r'$st(x \\vert 3, 5)$',\n",
    "               r'$st(x \\vert 3, 10)$',\n",
    "               r'$st(x \\vert 3, 15)$']\n",
    "\n",
    "eff_dists = []\n",
    "\n",
    "fig, ax = plt.subplots(figsize = (10, 10))\n",
    "\n",
    "cnt = 0\n",
    "\n",
    "for prop_dist, k_start in zip(proposal_dists, K_vals):\n",
    "    \n",
    "    k_iter = np.linspace(k_start, K_limit, 10)\n",
    "    eff_iter = []\n",
    "    \n",
    "    for k_val in k_iter:\n",
    "        \n",
    "        _, eff, _ = rejection_sampler(1000, \n",
    "                                     mixture_instance, \n",
    "                                     prop_dist, \n",
    "                                     domain_range = [-50, 50], \n",
    "                                     K = k_val, \n",
    "                                     max_iter = 1000, \n",
    "                                     visualise = False)\n",
    "    \n",
    "        eff_iter.append(eff)\n",
    "    \n",
    "    ax.plot(k_iter, eff_iter, label = prop_labels[cnt])\n",
    "    \n",
    "    cnt += 1\n",
    "\n",
    "ax.set_xlabel(\"K range\")\n",
    "ax.set_ylabel(\"Efficiency (%)\")\n",
    "ax.grid()\n",
    "ax.legend()\n",
    "plt.savefig(\"./images/Q1c.pdf\")\n",
    "plt.show()\n",
    "\n",
    "#plt.figure()\n",
    "#plt.title(\"Rejection sampling efficiency: {:.2f}%\".format(eff))\n",
    "#plt.hist(samples, bins = 50, density = True)\n",
    "#plt.plot(x_range, y_range, \"b\")\n",
    "#plt.xlabel(\"x\")\n",
    "#plt.ylabel(r\"$p(x)$\")\n",
    "#plt.show()"
   ]
  },
  {
   "cell_type": "code",
   "execution_count": 62,
   "id": "a776eff2",
   "metadata": {},
   "outputs": [
    {
     "name": "stdout",
     "output_type": "stream",
     "text": [
      "Optimal K: 3.2000000000000015\n"
     ]
    },
    {
     "data": {
      "image/png": "[encoded data removed]",
      "text/plain": [
       "<Figure size 432x288 with 1 Axes>"
      ]
     },
     "metadata": {
      "needs_background": "light"
     },
     "output_type": "display_data"
    },
    {
     "data": {
      "image/png": "[encoded data removed]",
      "text/plain": [
       "<Figure size 432x288 with 1 Axes>"
      ]
     },
     "metadata": {
      "needs_background": "light"
     },
     "output_type": "display_data"
    }
   ],
   "source": [
    "proposal_dist = scistats.t(loc = 3, scale = 5, df = 2)\n",
    "\n",
    "samples, eff, _ = rejection_sampler(10000, \n",
    "                              mixture_instance, \n",
    "                              proposal_dist, \n",
    "                              domain_range = [-50, 50], \n",
    "                              K = None, \n",
    "                              max_iter = 1000, \n",
    "                              visualise = True)\n",
    "\n",
    "\n",
    "x_range = np.linspace(-30, 30, 10000)\n",
    "y_range = mixture_instance.pdf(x_range)\n",
    "\n",
    "plt.figure()\n",
    "plt.plot(x_range, y_range, \"b\", label = \"True distribution\")\n",
    "plt.hist(samples, bins = 40, density = True, color = \"r\", alpha = 0.8, label = \"Empirical distribution\")\n",
    "plt.xlabel(\"x\")\n",
    "plt.ylabel(r\"$p(x)$\")\n",
    "plt.grid()\n",
    "plt.legend()\n",
    "plt.savefig(\"./images/Q1c_2.pdf\")\n",
    "plt.show()"
   ]
  },
  {
   "cell_type": "code",
   "execution_count": 63,
   "id": "13e239e3",
   "metadata": {},
   "outputs": [
    {
     "data": {
      "text/plain": [
       "(31.73696404201974, 3.2000000000000015)"
      ]
     },
     "execution_count": 63,
     "metadata": {},
     "output_type": "execute_result"
    }
   ],
   "source": [
    "eff, _"
   ]
  },
  {
   "cell_type": "markdown",
   "id": "acf5e695",
   "metadata": {},
   "source": [
    "## Q1d) Estimate $\\mathbb{E}_{x \\sim p(x)} \\{ x^2 \\}$ using the samples obtained with rejection sampling. Include sufficient evidence of the calculation process"
   ]
  },
  {
   "cell_type": "code",
   "execution_count": 65,
   "id": "362923a5",
   "metadata": {},
   "outputs": [
    {
     "name": "stdout",
     "output_type": "stream",
     "text": [
      "20.527072582045484\n",
      "20.19999971005236\n"
     ]
    }
   ],
   "source": [
    "E = np.mean(samples**2)\n",
    "print(E)\n",
    "\n",
    "x_range = np.linspace(-50, 50, 100000)\n",
    "y_range = mixture_instance.pdf(x_range)\n",
    "print(sciintg.trapezoid(x_range**2 * y_range, x_range))"
   ]
  },
  {
   "cell_type": "markdown",
   "id": "68e26673",
   "metadata": {},
   "source": [
    "## Q1e) Estimate $P(x > 5 \\vert x)$ using the samples obtained with rejection sampling. Include sufficient evidence of the calculation process."
   ]
  },
  {
   "cell_type": "code",
   "execution_count": 68,
   "id": "83c68b38",
   "metadata": {},
   "outputs": [
    {
     "name": "stdout",
     "output_type": "stream",
     "text": [
      "0.30369999999999997\n",
      "0.30000011277038285\n"
     ]
    }
   ],
   "source": [
    "P = 1 - np.mean((samples <= 5))\n",
    "print(P)\n",
    "\n",
    "x_range = np.linspace(-50, 5, 100000)\n",
    "y_range = mixture_instance.pdf(x_range)\n",
    "print(1 - sciintg.trapezoid(y_range, x_range))\n",
    "\n"
   ]
  },
  {
   "cell_type": "markdown",
   "id": "3777334a",
   "metadata": {},
   "source": [
    "## Q1f) Estimate the third percentile of x using the samples obtained with rejection sampling. Include sufficient evidence of the calculation process."
   ]
  },
  {
   "cell_type": "code",
   "execution_count": 83,
   "id": "70cd2d24",
   "metadata": {},
   "outputs": [
    {
     "name": "stdout",
     "output_type": "stream",
     "text": [
      "[5.041494013304393e-11, 5.2753564988729394e-11, 5.519994193634028e-11, 5.7759035651287106e-11, 6.043603955629656e-11, 6.323638636094111e-11, 6.61657590867737e-11, 6.923010260044883e-11, 7.243563567822841e-11, 7.578886362636318e-11, 7.9296591482954e-11, 8.296593782809282e-11, 8.68043492303011e-11, 9.081961535859244e-11, 9.5019884790818e-11, 9.941368155038659e-11, 1.0400992240490804e-10, 1.088179349618773e-10, 1.1384747659811029e-10, 1.1910875426135992e-10, 1.2461244518428445e-10, 1.3036971855281793e-10, 1.3639225817290397e-10, 1.4269228618160563e-10, 1.4928258785069674e-10, 1.5617653753308622e-10, 1.6338812580471481e-10, 1.7093198785702318e-10, 1.7882343319759292e-10, 1.8707847671925385e-10, 1.957138712006896e-10, 2.0474714130451836e-10, 2.1419661914182377e-10, 2.24081481475332e-10, 2.344217886367128e-10, 2.4523852523700644e-10, 2.565536427527703e-10, 2.6839010407439435e-10, 2.8077193010696517e-10, 2.937242485182794e-10, 3.072733447329042e-10, 3.214467152758051e-10, 3.3627312357376323e-10, 3.5178265832785947e-10, 3.6800679457545063e-10, 3.849784575655948e-10, 4.027320895775154e-10, 4.213037198177452e-10, 4.4073103753775827e-10, 4.6105346852051817e-10, 4.823122550911177e-10, 5.045505398139339e-10, 5.27813453046099e-10, 5.521482045250259e-10, 5.776041791757962e-10, 6.042330373329023e-10, 6.320888195796741e-10, 6.612280564182108e-10, 6.917098829923192e-10, 7.235961590963454e-10, 7.569515947133733e-10, 7.918438813376305e-10, 8.283438293475335e-10, 8.66525511708233e-10, 9.064664142952073e-10, 9.482475931440603e-10, 9.919538389455493e-10, 1.0376738491197712e-09, 1.0855004078186075e-09, 1.1355305742218374e-09, 1.187865879508928e-09, 1.2426125329063607e-09, 1.299881637228516e-09, 1.3597894143496715e-09, 1.422457441064543e-09, 1.4880128958161724e-09, 1.5565888167917178e-09, 1.6283243719100848e-09, 1.703365141249147e-09, 1.7818634124858833e-09, 1.86397848994882e-09, 1.949877017910156e-09, 2.0397333187734655e-09, 2.1337297468434942e-09, 2.2320570583957845e-09, 2.334914798797367e-09, 2.4425117074639065e-09, 2.5550661414753653e-09, 2.6728065187096233e-09, 2.795971781393603e-09, 2.9248118810123604e-09, 3.0595882855605045e-09, 3.2005745101650547e-09, 3.348056672156905e-09, 3.502334071717015e-09, 3.6637197992760513e-09, 3.832541370899764e-09, 4.009141392949897e-09, 4.193878257369229e-09, 4.387126869001905e-09, 4.589279406425017e-09, 4.800746117835506e-09, 5.02195615360751e-09, 5.253358437209801e-09, 5.495422576250696e-09, 5.7486398154993795e-09, 6.013524033817622e-09, 6.29061278702515e-09, 6.580468398814976e-09, 6.8836791019326604e-09, 7.200860231935373e-09, 7.53265547595337e-09, 7.879738178988144e-09, 8.242812710398232e-09, 8.622615893345816e-09, 9.019918500105068e-09, 9.435526816266775e-09, 9.870284277013671e-09, 1.0325073178787117e-08, 1.08008164698188e-08, 1.129847962316112e-08, 1.1819072596017431e-08, 1.2363651879348384e-08, 1.2933322641913822e-08, 1.352924097310138e-08, 1.4152616229093363e-08, 1.4804713487133201e-08, 1.5486856112872195e-08, 1.6200428446006707e-08, 1.6946878609656027e-08, 1.7727721449182265e-08, 1.8544541606416312e-08, 1.9398996735528705e-08, 2.0292820867071656e-08, 2.1227827927019265e-08, 2.220591541794745e-08, 2.322906826982413e-08, 2.4299362868224498e-08, 2.5418971268146274e-08, 2.6590165601976355e-08, 2.7815322690554428e-08, 2.909692886669131e-08, 3.043758502093075e-08, 3.184001187979457e-08, 3.330705552722296e-08, 3.484169318041485e-08, 3.644703923179014e-08, 3.8126351569335217e-08, 3.9883038188158145e-08, 4.1720664106671206e-08, 4.364295860143649e-08, 4.565382277535663e-08, 4.775733747456997e-08, 4.995777157011644e-08, 5.2259590621180977e-08, 5.466746593749579e-08, 5.718628405929253e-08, 5.982115667404313e-08, 6.25774309901143e-08, 6.546070058838777e-08, 6.847681677386903e-08, 7.163190045032074e-08, 7.49323545420203e-08, 7.838487698784841e-08, 8.199647433408241e-08, 8.577447595347352e-08, 8.972654891947238e-08, 9.386071356577932e-08, 9.818535976280564e-08, 1.0270926394406724e-07, 1.0744160691707449e-07, 1.1239199249485282e-07, 1.1757046698591604e-07, 1.2298753958223365e-07, 1.2865420368658e-07, 1.345819592225334e-07, 1.4078283597241556e-07, 1.4726941799051834e-07, 1.5405486914117695e-07, 1.611529598135032e-07, 1.6857809486700314e-07, 1.7634534286478705e-07, 1.8447046665369962e-07, 1.929699553534283e-07, 2.0186105781950983e-07, 2.1116181764814373e-07, 2.2089110979385173e-07, 2.3106867887429562e-07, 2.417151792399883e-07, 2.528522168902161e-07, 2.645023933202365e-07, 2.7668935138873423e-07, 2.894378232986203e-07, 3.02773680788543e-07, 3.1672398763697603e-07, 3.3131705458542697e-07, 3.4658249679223396e-07, 3.6255129393354435e-07, 3.7925585307344407e-07, 3.967300744308281e-07, 4.1500942017647685e-07, 4.3413098639995764e-07, 4.541335783923985e-07, 4.750577893979153e-07, 4.969460829935083e-07, 5.198428792646116e-07, 5.437946449511784e-07, 5.688499877472462e-07, 5.950597549453518e-07, 6.224771366259858e-07, 6.511577736014993e-07, 6.81159870333524e-07, 7.125443130530595e-07, 7.453747933229418e-07, 7.797179372934497e-07, 8.15643440913361e-07, 8.532242113708541e-07, 8.925365150512976e-07, 9.336601323121923e-07, 9.766785193893628e-07, 1.0216789777629772e-06, 1.0687528313271e-06, 1.117995611722329e-06, 1.1695072522076309e-06, 1.223392290464816e-06, 1.2797600807472263e-06, 1.3387250158031683e-06, 1.400406759024466e-06, 1.4649304872912511e-06, 1.5324271450058234e-06, 1.603033709831115e-06, 1.676893470673051e-06, 1.7541563184709372e-06, 1.8349790503860158e-06, 1.9195256880054943e-06, 2.0079678102078267e-06, 2.1004849013647483e-06, 2.1972647155867174e-06, 2.2985036577509567e-06, 2.404407182085351e-06, 2.5151902091170947e-06, 2.631077561832236e-06, 2.7523044219312625e-06, 2.8791168071066607e-06, 3.0117720703110155e-06, 3.150539422028892e-06, 3.2957004766123736e-06, 3.447549823789003e-06, 3.606395626501939e-06, 3.7725602462955824e-06, 3.94638089751584e-06, 4.1282103316526465e-06, 4.318417553213548e-06, 4.517388568581165e-06, 4.725527169374224e-06, 4.943255751901953e-06, 5.171016174374806e-06, 5.409270653611162e-06, 5.658502703059768e-06, 5.919218114041538e-06, 6.191945982202057e-06, 6.477239781257861e-06, 6.775678486215549e-06, 7.087867748343194e-06, 7.414441124278549e-06, 7.75606136176837e-06, 8.113421744648163e-06, 8.487247499791849e-06, 8.87829726888659e-06, 9.287364648019626e-06, 9.715279798201533e-06, 1.0162911130094314e-05, 1.0631167066363297e-05, 1.112099788522937e-05, 1.1633397648962823e-05, 1.2169406221232536e-05, 1.2730111377404463e-05, 1.3316651012072093e-05, 1.393021544829883e-05, 1.4572049853258639e-05, 1.524345676517733e-05, 1.5945798736702583e-05, 1.6680501100067192e-05, 1.7449054859657156e-05, 1.8253019717854773e-05, 1.909402724029743e-05, 1.9973784166975566e-05, 2.089407587588944e-05, 2.1856770006293846e-05, 2.2863820248883665e-05, 2.3917270310612233e-05, 2.5019258062188574e-05, 2.6172019876670496e-05, 2.7377895167958286e-05, 2.8639331138399404e-05, 2.9958887745138946e-05, 3.1339242895294636e-05, 3.278319788049937e-05, 3.4293683061840195e-05, 3.587376381673078e-05, 3.752664675978584e-05, 3.9255686250322284e-05, 4.106439119969329e-05, 4.295643219227024e-05, 4.4935648934523626e-05, 4.7006058047320345e-05, 4.9171861217250814e-05, 5.143745372352837e-05, 5.380743335776539e-05, 5.628660975472789e-05, 5.8880014153004464e-05, 6.159290960539781e-05, 6.443080165975989e-05, 6.739944953194629e-05, 7.050487779356428e-05, 7.375338859823361e-05, 7.71515744711719e-05, 8.070633168806022e-05, 8.442487427033919e-05, 8.831474862533846e-05, 9.238384886094962e-05, 9.664043280592261e-05, 0.00010109313876829605, 0.00010575100306597365, 0.00011062347836501989, 0.00011572045286289304, 0.00012105227035554511, 0.00012662975122911321, 0.00013246421441880232, 0.00013856750037952333, 0.00014495199511490285, 0.00015163065531342886, 0.00015861703464274405, 0.00016592531125544794, 0.00017357031656222853, 0.00018156756533071504, 0.0001899332871711351, 0.0001986844594726725, 0.00020783884185736728, 0.00021741501222147846, 0.0002274324044374518, 0.00023791134779300473, 0.00024887310824736684, 0.0002603399315884002, 0.0002723350885781835, 0.00028488292217867796, 0.00029800889695331473, 0.0003117396507447594, 0.00032610304873372897, 0.00034112823998856673, 0.0003568457166203388, 0.0003732873756635002, 0.0003904865838077117, 0.0004084782451121752, 0.000427298871839907, 0.00044698665855570305, 0.00046758155963817224, 0.000489125370363155, 0.000511661811723073, 0.0005352366191544039, 0.000559897635353348, 0.0005856949073681965, 0.0006126807881655599, 0.0006409100428769585, 0.000670439959941921, 0.0007013304673742809, 0.0007336442543894522, 0.0007674468986429762, 0.0008028069993444008, 0.0008397963165270232, 0.0008784899167737842, 0.0009189663257253958, 0.000961307687731213, 0.0010055999330524353, 0.0010519329530984975, 0.0011004007842847492, 0.0011511018012619286, 0.001204138920516851, 0.0012596198157242679, 0.0013176571468112588, 0.001378368805577242, 0.0014418781820413548, 0.0015083144576714725, 0.001577812934580139, 0.0016505154140583965, 0.0017265706440175743, 0.001806134863770495, 0.0018893724870999021, 0.0019764569820209313, 0.0020675720296836203, 0.0021629130775199876, 0.002262689445489122, 0.0023671272020283993, 0.0024764731013939808, 0.002590999970084486, 0.0027110140506987194, 0.0028368649603772813, 0.0029689591007263623, 0.003107777568313023, 0.003253899858806644, 0.0034080349298450338, 0.0035710614796661804, 0.0037440795969018643, 0.003928476221375727, 0.004126007098206858, 0.004338898071426992, 0.004569968603542791, 0.0048227802710625045, 0.005101812614095545, 0.005412668049195388, 0.005762306529268524, 0.006159309201729763, 0.006614168441586448, 0.0071395993104084714, 0.00775086474037532, 0.008466103633433105, 0.009306647718564764, 0.010297309600174135, 0.011466621188262112, 0.012846998907648186, 0.01447481005919256, 0.016390313791390478, 0.01863745067147111, 0.02126345712062268, 0.024318285226359995, 0.027853814787080065, 0.03192285285938884, 0.03657792637975128, 0.041869885246498435, 0.047846346018721134, 0.05455001938823794, 0.06201697694790072, 0.0702749235708491, 0.07934154997485512, 0.08922304488487558, 0.09991284688763596, 0.11139071208888032, 0.12362216483089875, 0.13655838514726681, 0.1501365688332835, 0.1642807748611895, 0.1789032515466814, 0.19390620879065246, 0.20918398042237182, 0.22462549971508805, 0.24011699397500358, 0.2555447919275925, 0.2707981313097124, 0.28577185407645767, 0.3003688829479034, 0.31450238519885987, 0.3280975467654841, 0.34109290069882403, 0.35344117729379765, 0.36510966730570205, 0.37608011298965666, 0.38634816284880497, 0.3959224437763336, 0.4048233178580747, 0.41308139995631876, 0.42073591617970785, 0.4278329826642692, 0.43442387925275644, 0.44056338440090115, 0.44630822684895205, 0.4517156972308407, 0.45684244979483063, 0.4617435116401266, 0.46647150506067786, 0.4710760782876411, 0.4756035315077476, 0.48009661869408143, 0.4845945015387857, 0.48913282950311904, 0.4937439194710287, 0.4984570094084951, 0.5032985624568231, 0.5082926006831046, 0.5134610509551533, 0.5188240888199726, 0.5244004696137439, 0.5302078391423924, 0.5362630190256035, 0.5425822641249656, 0.5491814913536432, 0.556076480599881, 0.563283049524411, 0.5708172046632332, 0.5786952716417799, 0.5869340074455722, 0.5955506976551181, 0.6045632413918147, 0.613990226482291, 0.6238509970673614, 0.6341657155868213, 0.6449554207828239, 0.6562420830963057, 0.6680486585907277, 0.6803991423292841, 0.6933186219561176, 0.7066811432747364, 0.719600574023021, 0.7319509473037916, 0.7437573380132683, 0.7550436980575969, 0.7658329468824684, 0.7761469706215155, 0.7860067088967877, 0.7954321708860163, 0.8044424792108231, 0.8130559246215195, 0.821289985897824, 0.8291613695514717, 0.8366860559767468, 0.8438793186547839, 0.8507557450400431, 0.8573292894199425, 0.863613303706874, 0.8696205375631444, 0.8753631757343207, 0.8808528767750337, 0.8861007822747546, 0.8911175362351573, 0.895913327583303, 0.9004978869787498, 0.9048805137298482, 0.9090701105967515, 0.9130751671167744, 0.9169038258288837, 0.9205638408319967, 0.9240626549420021, 0.9274073562095785, 0.9306047415699994, 0.9336612979976018, 0.9365832242121236, 0.939376451848257, 0.9420466505959373, 0.9445992448188719, 0.9470394007577727, 0.9493720812453431, 0.9516020173882732, 0.9537337368835799, 0.9557715563121069, 0.9577196241107162, 0.9595818895522198, 0.9613621302551746, 0.9630639534860547, 0.964690824865094, 0.9662460360916011, 0.9677327536014129, 0.9691539820117818, 0.970512609706908, 0.9718113984567186, 0.9730529849597237, 0.9742398788257998, 0.9753744996652822, 0.9764591432708789, 0.977496014086704, 0.9784872150862407, 0.979434757104538, 0.9803405661100528, 0.981206477195986, 0.9820342486326701, 0.9828255610386457, 0.983582017712985, 0.9843051588240699, 0.9849964460879718, 0.9856572862731381, 0.9862890202451757, 0.9868929267084207, 0.9874702361607449, 0.9880221178922292, 0.9885496916848597, 0.9890540241274322, 0.9895361485057017, 0.9899970336828586, 0.9904376203467705, 0.990858799383488, 0.991261431023272, 0.9916463243675582, 0.9920142671232113, 0.9923660032339736, 0.9927022468093271, 0.9930236800850267, 0.9933309594138554, 0.9936246982310826, 0.9939055039856443, 0.994173938121909, 0.9944305522441624, 0.9946758590401473, 0.9949103710447166, 0.9951345453280273, 0.9953488434574674, 0.9955537086576586, 0.995749548134422, 0.9959367598125541, 0.9961157304670188, 0.9962868164713011, 0.9964503605965231, 0.9966067116390017, 0.9967561695187498, 0.9968990415704022, 0.9970356266224545, 0.9971661931730821, 0.9972910111484942, 0.9974103279810267, 0.9975243917274931, 0.9976334386475049, 0.9977376696670972, 0.997837316558665, 0.9979325725506242, 0.9980236372218882, 0.9981106888684171, 0.9981938978715696, 0.9982734543261529, 0.9983495008187917, 0.9984221924839218, 0.998491693993326, 0.998558129376806, 0.9986216313981265, 0.998682346203804, 0.9987403810496438, 0.9987958660350239, 0.9988488957391498, 0.9988995969411603, 0.9989480644030118, 0.9989944053586334, 0.9990386916333864, 0.9990810341281884, 0.9991215108261488, 0.9991602047614125, 0.9991971933271702, 0.9992325565302587, 0.9992663535120323, 0.9992986667166646, 0.999329557903111, 0.9993590928221446, 0.9993873200983282, 0.9994143067464208, 0.9994401028833544, 0.9994647635703875, 0.9994883366764741, 0.9995108769045635, 0.9995324162305036, 0.9995530154955459, 0.9995727022306196, 0.9995915188521689, 0.9996095163295455, 0.9996267177202146, 0.9996431558045626, 0.9996588690927348, 0.9996738952917801, 0.9996882587267752, 0.9997019883550402, 0.9997151191556666, 0.9997276689074814, 0.9997396649271674, 0.9997511243117415, 0.9997620938490543, 0.9997725709956838, 0.9997825881259191, 0.9997921581474246, 0.9998013154003237, 0.9998100674007504, 0.9998184297103282, 0.9998264323081673, 0.9998340723743736, 0.9998413807479194, 0.9998483728135502, 0.9998550450167774, 0.9998614320627754, 0.9998675345997327, 0.9998733673146482, 0.9998789500340145, 0.9998842831293236, 0.9998893820151004, 0.9998942475716573, 0.9998989081969966, 0.9999033572844793, 0.9999076146311081, 0.9999116911459329, 0.9999155720916186, 0.9999192912406208, 0.9999228456109532, 0.9999262447194589, 0.9999294950851232, 0.9999326063498993, 0.9999355754404798, 0.9999384063592991, 0.9999411189241088, 0.9999437101788189, 0.9999461894769586, 0.9999485600107964, 0.9999508319162236, 0.9999529931374858, 0.9999550620597316, 0.9999570438576413, 0.9999589364904944, 0.9999607441294507, 0.9999624705676317, 0.9999641242321136, 0.9999657121117335, 0.9999672134482366, 0.9999686599158629, 0.9999700407690245, 0.9999713574985416, 0.9999726238373262, 0.9999738245861547, 0.9999749779350565, 0.999976079343469, 0.9999771362659116, 0.9999781409861503, 0.9999791094829161, 0.9999800305942251, 0.999980904905733, 0.9999817447545263, 0.9999825491121428, 0.9999833212283326, 0.9999840543087234, 0.9999847530624258, 0.9999854337050608, 0.9999860674910791, 0.9999866801180779, 0.9999872681707945, 0.9999878359855245, 0.9999883633674375, 0.9999888765569299, 0.9999893669777128, 0.9999898335584307, 0.9999902862418724, 0.9999907092807214, 0.9999911216558155, 0.9999915129209765, 0.9999918833986444, 0.9999922441814876, 0.9999925823724736, 0.9999929123886813, 0.9999932244927243, 0.9999935194733844, 0.9999938086469001, 0.9999940774407987, 0.9999943414532302, 0.9999945907514305, 0.9999948256877912, 0.9999950569008859, 0.9999952713946644, 0.9999954840398096, 0.9999956838300743, 0.9999958698050894, 0.9999960510511801, 0.9999962273622852, 0.9999963993080464, 0.9999965556257991, 0.9999967111734402, 0.9999968469976689, 0.9999969894194654, 0.9999971170890771, 0.9999972443497114, 0.99999736515728, 0.9999974830416506, 0.9999975974809282, 0.9999977009573292, 0.9999977991100977, 0.9999978958072273, 0.9999979906315238, 0.9999980846684956, 0.999998161777054, 0.9999982432211773, 0.9999983226055884, 0.9999983948068476, 0.999998463812395, 0.9999985427208553, 0.9999985961752534, 0.9999986578310044, 0.9999987171870689, 0.9999987726253102, 0.9999988314107393, 0.9999988796911452, 0.9999989382843485, 0.9999989792292755, 0.9999990246631697, 0.9999990734799852, 0.9999991041407689, 0.9999991508083657, 0.9999991808652259, 0.9999992162297252, 0.9999992505626633, 0.9999992859600729, 0.9999993222820385, 0.9999993459172158, 0.9999993742517095, 0.9999994039077532, 0.9999994290515347, 0.9999994520646327, 0.9999994835441239, 0.9999994991195744, 0.9999995272775132, 0.9999995537107218, 0.9999995721101859, 0.9999995841651795, 0.9999995995633505, 0.9999996238327732, 0.9999996378230505, 0.9999996502157475, 0.9999996654958806, 0.9999996837744162, 0.9999997001634742, 0.999999706830178, 0.9999997225320003, 0.9999997424849405, 0.9999997548444286, 0.9999997627388074, 0.999999765768282, 0.9999997785060638, 0.999999785830491, 0.9999998036013498, 0.9999998131035758, 0.9999998232417427, 0.9999998251258726, 0.9999998270350374, 0.9999998473862691, 0.9999998425277048, 0.9999998485792928, 0.9999998556605219, 0.999999861048928, 0.9999998691801203, 0.9999998812098692, 0.9999998789707745, 0.9999998847918438, 0.9999998943283126, 0.9999998997525981, 0.9999999001922554, 0.9999999017299982, 0.9999999174037166, 0.9999999097391303, 0.9999999171920084, 0.999999926134976, 0.999999929695751, 0.9999999277571586, 0.9999999269571477, 0.9999999406888015, 0.9999999328299319, 0.999999939910617, 0.9999999484040396, 0.9999999513413387, 0.9999999483116203, 0.999999945461969, 0.9999999554974556, 0.9999999499870487, 0.9999999600373563, 0.9999999644857949, 0.9999999646094226, 0.9999999710190107, 0.9999999625972362, 0.999999961197348, 0.9999999699136083, 0.999999967594398, 0.9999999649576039, 0.9999999662055709, 0.9999999674238489, 0.9999999708703797, 0.9999999833779546, 0.9999999709763325, 0.9999999839310868, 0.9999999768367978, 0.9999999745664436, 0.9999999752443237, 0.9999999778204516, 0.9999999872288069, 0.9999999798468391, 0.9999999832196702, 0.9999999792727389, 0.999999985727782, 0.9999999915644796, 0.9999999915609553, 0.999999986293782, 0.9999999821379819, 0.9999999912670319, 0.9999999837912411, 0.9999999958105017, 0.9999999904890605, 0.9999999876689016, 0.9999999888108442, 0.9999999950254023, 0.9999999925062064, 0.9999999866218113, 0.9999999969468869, 0.9999999903576675, 0.9999999874040592, 0.9999999884689876, 0.9999999886293599, 0.9999999883982484, 0.9999999937248903, 0.9999999957651626, 0.9999999907246286, 0.9999999924108346, 1.0000000041579375, 0.999999998315036, 0.9999999974484881, 1.0000000022626154, 0.9999999979268354, 0.9999999906267925, 1.0000000024627849, 0.999999990951139, 0.9999999974603397, 1.0000000058463847, 1.000000001389256, 1.0000000032465157, 1.0000000028754998, 0.9999999933649247, 0.9999999950244546, 0.9999999972006194, 0.9999999987645374, 0.9999999923636713, 0.999999993255798, 0.9999999943022062, 0.9999999932788084, 0.9999999928761425, 1.0000000006993732, 0.9999999967274641, 0.9999999972958926, 0.999999993748152, 1.0000000024075903, 1.0000000069567712, 1.0000000044375994, 1.000000008320109, 1.0000000008992453, 0.9999999934640759, 1.0000000006102172, 0.9999999950943632, 1.0000000065287946, 0.9999999952173646, 0.9999999934471612, 0.999999993834642, 0.9999999935777985, 0.9999999944561557, 1.0000000028307736, 0.9999999983209987, 0.9999999963612937, 0.9999999970256932, 1.0000000075808482, 0.9999999975439305, 0.9999999948227949, 0.9999999947369859, 0.9999999970254174, 1.0000000058463745, 0.9999999988286942, 0.9999999950642997, 1.0000000022296176, 0.9999999985726773, 0.99999999385212, 0.9999999965603055, 0.9999999991434358, 0.9999999983078388, 0.9999999950199706, 0.9999999945064146, 1.0000000062538814, 0.999999995445053, 1.000000003767245, 0.9999999938854934, 0.999999998935991, 1.0000000075945792, 1.0000000102241913, 1.0000000109584266, 1.0000000035344012, 0.9999999954598967, 0.9999999959297871, 1.0000000059716272, 0.9999999946119061, 0.9999999997555278, 1.0000000064866417, 0.9999999975207093, 0.9999999950378846, 0.999999994992814, 0.9999999972905512, 1.0000000057865561, 1.0000000006942906, 0.9999999942237142, 1.000000008768458, 0.9999999947913245, 0.9999999974367033, 1.0000000095764494, 1.0000000046195259, 1.0000000017351236, 1.0000000036548624, 1.0000000119248018, 0.9999999995038082, 0.9999999938966408, 1.0000000083454765, 0.999999994004812, 1.0000000096073858, 0.9999999973462297, 0.9999999937607342, 0.9999999952034628, 0.9999999962506468, 0.9999999951308897, 0.9999999937251709, 0.9999999975668415, 1.0000000092933476, 0.99999999388628]\n",
      "-1.621621621621621\n"
     ]
    }
   ],
   "source": [
    "np.percentile(samples, 3)\n",
    "\n",
    "#Numerically\n",
    "x_range = np.linspace(-50, 50, 100000)\n",
    "y_range = mixture_instance.pdf(x_range)\n",
    "percentage = []\n",
    "\n",
    "x_iter_range = np.linspace(-40, 50, 1000)\n",
    "for x_iter in x_iter_range:\n",
    "    x_range = np.linspace(-50, x_iter, 100000)\n",
    "    y_range = mixture_instance.pdf(x_range)\n",
    "    percentage.append(sciintg.trapezoid(y_range, x_range))\n",
    "\n",
    "pos = np.argmin(np.abs(np.array(percentage) - 0.03))\n",
    "print(x_iter_range[pos])"
   ]
  },
  {
   "cell_type": "markdown",
   "id": "21b244db",
   "metadata": {},
   "source": [
    "## Q1g) How does the number of samples impact the accuracy of the aforementioned estimates?"
   ]
  },
  {
   "cell_type": "code",
   "execution_count": 85,
   "id": "112f7b88",
   "metadata": {},
   "outputs": [
    {
     "data": {
      "image/png": "[encoded data removed]",
      "text/plain": [
       "<Figure size 432x288 with 1 Axes>"
      ]
     },
     "metadata": {
      "needs_background": "light"
     },
     "output_type": "display_data"
    },
    {
     "data": {
      "image/png": "[encoded data removed]",
      "text/plain": [
       "<Figure size 432x288 with 1 Axes>"
      ]
     },
     "metadata": {
      "needs_background": "light"
     },
     "output_type": "display_data"
    }
   ],
   "source": [
    "proposal_dist = scistats.t(loc = 3, scale = 5, df = 2)\n",
    "\n",
    "sample_range = np.logspace(1, 5, 100, dtype = np.int32)\n",
    "\n",
    "estimate_mat = np.zeros((100, 3))\n",
    "\n",
    "for cnt, n_samples in enumerate(sample_range):\n",
    "    \n",
    "    samples, eff, _ = rejection_sampler(n_samples, \n",
    "                                  mixture_instance, \n",
    "                                  proposal_dist, \n",
    "                                  domain_range = [-50, 50], \n",
    "                                  K = 3.2, \n",
    "                                  max_iter = 1000, \n",
    "                                  visualise = False)\n",
    "    \n",
    "    estimate_mat[cnt, 0] = np.mean(samples**2)\n",
    "    estimate_mat[cnt, 1] = 1 - np.mean((samples <= 5))\n",
    "    estimate_mat[cnt, 2] = np.percentile(samples, 3)\n",
    "\n",
    "plt.figure()\n",
    "plt.semilogx(sample_range, estimate_mat[:, 0], color = \"b\", label = r\"$\\mathbb{E}_{x \\sim p(x)} \\{ x^2 \\}$\")\n",
    "plt.semilogx(sample_range, estimate_mat[:, 1], color = \"r\", label = r\"$P(x > 5 \\vert x)$\")\n",
    "plt.semilogx(sample_range, estimate_mat[:, 2], color = \"k\", label = r\"$3^{rd}$ percentile\")\n",
    "plt.xlabel(\"Number of samples\")\n",
    "plt.ylabel(\"Estimate values\")\n",
    "plt.legend()\n",
    "plt.savefig(\"./images/Q1g_1.pdf\")\n",
    "plt.grid()\n",
    "\n",
    "plt.figure()\n",
    "plt.semilogx(sample_range, np.abs((estimate_mat[:, 0] - 20.12)), color = \"b\", label = r\"$\\mathbb{E}_{x \\sim p(x)} \\{ x^2 \\}$\")\n",
    "plt.semilogx(sample_range, np.abs((estimate_mat[:, 1] - 0.3)), color = \"r\", label = r\"$P(x > 5 \\vert x)$\")\n",
    "plt.semilogx(sample_range, np.abs((estimate_mat[:, 2] - (-1.6216))), color = \"k\", label = r\"$3^{rd}$ percentile\")\n",
    "plt.xlabel(\"Number of samples\")\n",
    "plt.ylabel(\"Estimate values - absolute error\")\n",
    "plt.legend()\n",
    "plt.savefig(\"./images/Q1g_2.pdf\")\n",
    "plt.grid()"
   ]
  },
  {
   "cell_type": "code",
   "execution_count": 12,
   "id": "0fc088af",
   "metadata": {},
   "outputs": [
    {
     "data": {
      "text/plain": [
       "array([    10,     10,     12,     13,     14,     15,     17,     19,\n",
       "           21,     23,     25,     27,     30,     33,     36,     40,\n",
       "           44,     48,     53,     58,     64,     70,     77,     84,\n",
       "           93,    102,    112,    123,    135,    148,    162,    178,\n",
       "          196,    215,    236,    259,    284,    312,    343,    376,\n",
       "          413,    453,    497,    546,    599,    657,    722,    792,\n",
       "          869,    954,   1047,   1149,   1261,   1384,   1519,   1668,\n",
       "         1830,   2009,   2205,   2420,   2656,   2915,   3199,   3511,\n",
       "         3853,   4229,   4641,   5094,   5590,   6135,   6734,   7390,\n",
       "         8111,   8902,   9770,  10722,  11768,  12915,  14174,  15556,\n",
       "        17073,  18738,  20565,  22570,  24770,  27185,  29836,  32745,\n",
       "        35938,  39442,  43287,  47508,  52140,  57223,  62802,  68926,\n",
       "        75646,  83021,  91116, 100000])"
      ]
     },
     "execution_count": 12,
     "metadata": {},
     "output_type": "execute_result"
    }
   ],
   "source": [
    "np.logspace(1, 5, 100, dtype = np.int32)"
   ]
  },
  {
   "cell_type": "markdown",
   "id": "8232e715",
   "metadata": {},
   "source": [
    "# Problem 2"
   ]
  },
  {
   "cell_type": "markdown",
   "id": "b2a2e4ca",
   "metadata": {},
   "source": [
    "Consider the generative model\n",
    "\\begin{equation}\n",
    "x_n = \\theta + \\epsilon_n,\n",
    "\\end{equation}\n",
    "where $\\epsilon_n$ is a Laplacian distribution with a known scale parameter of $2$ and a location of $0$, $\\epsilon \\sim L(\\epsilon \\vert 0, 2)$. The population parameter $\\theta$ is three and not known during the inference process. Use the following measured data to infere the posterior distribution over the unknown parameter:\n",
    "\n",
    "\\begin{equation}\n",
    "\\mathbf{x} = [4.171206 , 3.06754327, 2.16931111, 2.00839214, 4.10014516, 3.51408053, 2.86609886,\n",
    "6.3492669 , 2.90566741, 5.99086803]^T\n",
    "\\end{equation}\n",
    "\n",
    "In this problem, Markov Chain Monte Carlo (MCMC) will be used to sample from the posterior distribution over the unknown parameter. Use a Gaussian prior with a mean of 0 and a variance of 25. The model evidence cannot be used in this problem, and only the unnormalised posterior may be used."
   ]
  },
  {
   "cell_type": "code",
   "execution_count": 86,
   "id": "5b1c47ef",
   "metadata": {},
   "outputs": [
    {
     "name": "stdout",
     "output_type": "stream",
     "text": [
      "[4.171206   3.06754327 2.16931111 2.00839214 4.10014516 3.51408053\n",
      " 2.86609886 6.3492669  2.90566741 5.99086803]\n"
     ]
    }
   ],
   "source": [
    "Q2_data = np.array([4.171206 , 3.06754327, 2.16931111, 2.00839214, 4.10014516, 3.51408053, 2.86609886,\n",
    "6.3492669 , 2.90566741, 5.99086803])\n",
    "\n",
    "print(Q2_data)"
   ]
  },
  {
   "cell_type": "markdown",
   "id": "42c96c35",
   "metadata": {},
   "source": [
    "## Q2a) Provide the mathematical form of the prior, the likelihood function and the unnormalised posterior distribution and include plots of them.\n",
    "\n",
    "The prior:\n",
    "\\begin{equation}\n",
    "\\begin{aligned}\n",
    "p(\\theta) &= \\mathcal{N}(\\theta \\vert \\theta_0, \\sigma_0^2) \\\\\n",
    "&= \\frac{1}{\\sqrt{2 \\cdot \\pi \\cdot \\sigma_0^2}} \\exp \\left( -\\frac{1}{2 \\cdot \\sigma_0^2} \\cdot \\left( \\theta - \\theta_0 \\right)^2 \\right),\n",
    "\\end{aligned}\n",
    "\\end{equation}\n",
    "where $\\theta_0 = 0$ and $\\sigma_0 = 5$.\n",
    "\n",
    "The model likelihood:\n",
    "\\begin{equation}\n",
    "\\begin{aligned}\n",
    "p(x \\vert \\theta) = L(x \\vert \\theta, b)\n",
    "&= \\frac{1}{2 \\cdot b} \\cdot \\exp \\left( -\\frac{\\vert x - \\theta \\vert}{b} \\right),\n",
    "\\end{aligned}\n",
    "\\end{equation}\n",
    "gives rise to the likelihood function\n",
    "\\begin{equation}\n",
    "\\begin{aligned}\n",
    "p(\\mathbf{x} \\vert \\theta) &= \\prod_{n=1}^{N} p(x_n \\vert \\theta) \\\\\n",
    "\\mathcal{L}(\\theta \\vert \\mathbf{x}, b) &= \\prod_{n=1}^{N} \\frac{1}{2 \\cdot b} \\cdot \\exp \\left( -\\frac{\\vert x_n - \\theta \\vert}{b} \\right),\n",
    "\\end{aligned}\n",
    "\\end{equation}\n",
    "\n",
    "The unnormalised posterior is given by:\n",
    "\\begin{equation}\n",
    "\\begin{aligned}\n",
    "p(\\theta, \\mathbf{x}) &= p(\\mathbf{x} \\vert \\theta) p(\\theta) \\\\\n",
    "F(\\theta \\vert \\theta_0, \\sigma_0, \\mathbf{x}, b) &=  \\frac{1}{\\sqrt{2 \\cdot \\pi \\cdot \\sigma_0^2}} \\exp \\left( -\\frac{1}{2 \\cdot \\sigma_0^2} \\cdot \\left( \\theta - \\theta_0 \\right)^2 \\right) \\prod_{n=1}^{N} \\frac{1}{2 \\cdot b} \\cdot \\exp \\left( -\\frac{\\vert x_n - \\theta \\vert}{b} \\right),\n",
    "\\end{aligned}\n",
    "\\end{equation}"
   ]
  },
  {
   "cell_type": "markdown",
   "id": "251ef556",
   "metadata": {},
   "source": [
    "## Q2 b) Plot the unnormalised posterior distribution."
   ]
  },
  {
   "cell_type": "code",
   "execution_count": 87,
   "id": "206b8f53",
   "metadata": {},
   "outputs": [],
   "source": [
    "def prior(theta, theta_0, sigma_0):\n",
    "    \n",
    "    p1 = 1 / np.sqrt(2 * np.pi * sigma_0**2)\n",
    "    p2 = np.exp(-1/ (2 * sigma_0**2) * (theta - theta_0)**2)\n",
    "    \n",
    "    \n",
    "    return p1 * p2\n",
    "\n",
    "def log_prior(theta, theta_0, sigma_0):\n",
    "    \n",
    "    p1 = -1/2 * np.log(2 * np.pi) \n",
    "    p2 = -1/2 * np.log(sigma_0**2)\n",
    "    p3 = -1/ (2 * sigma_0**2) * (theta - theta_0)**2\n",
    "    \n",
    "    return p1 + p2 + p3\n",
    "\n",
    "def generative_model(x, theta, b):\n",
    "    \n",
    "    p1 = 1/(2 * b)\n",
    "    p2 = np.exp( -1/b * np.abs(x - theta))\n",
    "    \n",
    "    return p1 * p2\n",
    "\n",
    "def log_generative_model(x, theta, b):\n",
    "    \n",
    "    p1 = - np.log(2 * b)\n",
    "    p2 = -1/b * np.abs(x - theta)\n",
    "    \n",
    "    return p1 + p2\n",
    "\n",
    "def likelihood_function(X, theta, b):\n",
    "    \n",
    "    individual_likelihoods = generative_model(X, theta, b)\n",
    "    \n",
    "    return np.product(individual_likelihoods)\n",
    "\n",
    "def log_likelihood_function(X, theta, b):\n",
    "    \n",
    "    individual_log_likelihoods = log_generative_model(X, theta, b)\n",
    "    \n",
    "    return np.sum(individual_log_likelihoods)\n",
    "\n",
    "def unnormalised_posterior(X, theta, theta_0, sigma_0, b):\n",
    "    \n",
    "    return prior(theta, theta_0, sigma_0) * likelihood_function(X, theta, b)\n",
    "\n",
    "def log_unnormalised_posterior(X, theta, theta_0, sigma_0, b):\n",
    "    \n",
    "    return log_prior(theta, theta_0, sigma_0) + log_likelihood_function(X, theta, b)"
   ]
  },
  {
   "cell_type": "code",
   "execution_count": 90,
   "id": "10fff294",
   "metadata": {},
   "outputs": [
    {
     "data": {
      "image/png": "[encoded data removed]",
      "text/plain": [
       "<Figure size 432x288 with 2 Axes>"
      ]
     },
     "metadata": {
      "needs_background": "light"
     },
     "output_type": "display_data"
    },
    {
     "data": {
      "image/png": "[encoded data removed]",
      "text/plain": [
       "<Figure size 432x288 with 2 Axes>"
      ]
     },
     "metadata": {
      "needs_background": "light"
     },
     "output_type": "display_data"
    },
    {
     "data": {
      "image/png": "[encoded data removed]",
      "text/plain": [
       "<Figure size 432x288 with 2 Axes>"
      ]
     },
     "metadata": {
      "needs_background": "light"
     },
     "output_type": "display_data"
    }
   ],
   "source": [
    "theta_0 = 0\n",
    "sigma_0 = 5\n",
    "b = 2\n",
    "\n",
    "x_range = np.linspace(-10, 10, 10000)\n",
    "theta_range = np.linspace(-50, 50, 10000)\n",
    "\n",
    "prior_range = prior(theta_range, theta_0, sigma_0)\n",
    "log_prior_range = log_prior(theta_range, theta_0, sigma_0)\n",
    "\n",
    "fig, ax = plt.subplots(1, 2)\n",
    "#fig.suptitle(\"The prior\")\n",
    "ax = ax.flatten()\n",
    "\n",
    "ax[0].plot(theta_range, prior_range, color = \"b\")\n",
    "ax[1].plot(theta_range, log_prior_range, color = \"b\")\n",
    "\n",
    "ax[0].set_ylabel(r\"$p(\\theta)$\")\n",
    "ax[1].set_ylabel(r\"$\\log p(\\theta)$\")\n",
    "\n",
    "for axs in ax:\n",
    "    axs.set_xlabel(r\"$\\theta$\")\n",
    "    axs.grid()\n",
    "    \n",
    "fig.tight_layout()\n",
    "plt.savefig(\"./images/Q2b_1.pdf\")\n",
    "plt.show()\n",
    "\n",
    "#######################\n",
    "#Likelihood function + unnormalised posterior\n",
    "#######################\n",
    "\n",
    "theta_range = np.linspace(-5, 15, 10000)\n",
    "lf_range = np.zeros(len(theta_range))\n",
    "llf_range = np.zeros(len(theta_range))\n",
    "up_range = np.zeros(len(theta_range))\n",
    "lup_range = np.zeros(len(theta_range))\n",
    "\n",
    "for cnt, theta in enumerate(theta_range):\n",
    "    \n",
    "    lf_range[cnt] = likelihood_function(Q2_data, theta, b)\n",
    "    llf_range[cnt] = log_likelihood_function(Q2_data, theta, b)\n",
    "    up_range[cnt] = unnormalised_posterior(Q2_data, theta, theta_0, sigma_0, b)\n",
    "    lup_range[cnt] = log_unnormalised_posterior(Q2_data, theta, theta_0, sigma_0, b)\n",
    "\n",
    "fig, ax = plt.subplots(1, 2)\n",
    "#fig.suptitle(\"The likelihood function\")\n",
    "ax = ax.flatten()\n",
    "\n",
    "ax[0].plot(theta_range, lf_range, color = \"b\")\n",
    "ax[1].plot(theta_range, llf_range, color = \"b\")\n",
    "\n",
    "ax[0].set_ylabel(r\"$\\mathcal{L}(\\theta \\vert \\mathbf{x}, b)$\")\n",
    "ax[1].set_ylabel(r\"$\\log \\mathcal{L}(\\theta \\vert \\mathbf{x}, b)$\")\n",
    "\n",
    "for axs in ax:\n",
    "    axs.set_xlabel(r\"$\\theta$\")\n",
    "    axs.grid()\n",
    "    \n",
    "fig.tight_layout()\n",
    "plt.savefig(\"./images/Q2b_2.pdf\")\n",
    "plt.show()\n",
    "\n",
    "fig, ax = plt.subplots(1, 2)\n",
    "#fig.suptitle(\"The unnormalised posterior\")\n",
    "ax = ax.flatten()\n",
    "\n",
    "ax[0].plot(theta_range, up_range, color = \"b\")\n",
    "#ax[0].plot(theta_range, np.exp(lup_range), \"k--\")\n",
    "ax[1].plot(theta_range, lup_range, color = \"b\")\n",
    "\n",
    "ax[0].set_ylabel(r\"$F(\\theta \\vert \\theta_0, \\sigma_0, \\mathbf{x}, b)$\")\n",
    "ax[1].set_ylabel(r\"$\\log F(\\theta \\vert \\theta_0, \\sigma_0, \\mathbf{x}, b)$\")\n",
    "\n",
    "for axs in ax:\n",
    "    axs.set_xlabel(r\"$\\theta$\")\n",
    "    axs.grid()\n",
    "    \n",
    "fig.tight_layout()\n",
    "plt.savefig(\"./images/Q2b_3.pdf\")\n",
    "plt.show()"
   ]
  },
  {
   "cell_type": "markdown",
   "id": "6511b46e",
   "metadata": {},
   "source": [
    "## Q2 c) Use MCMC to sample from the posterior distribution. Document the process. Check the accuracy of the results.\n",
    "\n",
    "Distinction part: Investigate different proposal distributions. Motivate the choice of your proposal distribution and associated parameters. Summarise the results (e.g. acceptance ratio)."
   ]
  },
  {
   "cell_type": "code",
   "execution_count": 16,
   "id": "42953d3f",
   "metadata": {},
   "outputs": [],
   "source": [
    "def MCMC(n_iter, X, theta_start, theta_0, sigma_0, b, proposal_distribution, proposal_scale, met_hastings = False, warming_period = 0.5, M_thinning = 5, visualise = False):\n",
    "    \n",
    "    #Sample a proposal value for warming up\n",
    "    theta_i = theta_start\n",
    "    samples = np.zeros(n_iter)\n",
    "    n_accept = 0\n",
    "    \n",
    "    for i in range(n_iter):\n",
    "        #Sample from the proposal distribution\n",
    "        theta_prop = proposal_distribution.rvs(loc = theta_i, scale = proposal_scale, size = 1)[0]\n",
    "        \n",
    "        #Determine the Acceptance probability\n",
    "        \n",
    "        p_i = unnormalised_posterior(X, theta_i, theta_0, sigma_0, b)\n",
    "        p_prop = unnormalised_posterior(X, theta_prop, theta_0, sigma_0, b)\n",
    "        \n",
    "        if met_hastings:\n",
    "            \n",
    "            q_i = proposal_distribution.pdf(theta_i, loc = theta_prop, scale = proposal_scale)\n",
    "            q_prop = proposal_distribution.pdf(theta_prop, loc = theta_i, scale = proposal_scale)\n",
    "            \n",
    "            r1 = p_prop / p_i\n",
    "            r2 = q_i / q_prop\n",
    "            \n",
    "            r = r1 * r2\n",
    "        \n",
    "        else:\n",
    "            r = p_prop / p_i\n",
    "        \n",
    "        #print(r)\n",
    "        A_i = np.min([1, r])\n",
    "\n",
    "        if A_i > np.random.random():\n",
    "            theta_i = theta_prop\n",
    "            n_accept += 1\n",
    "\n",
    "        samples[i] = theta_i\n",
    "    \n",
    "    if visualise:\n",
    "        plt.figure()\n",
    "        plt.plot(samples)\n",
    "        plt.show()\n",
    "        \n",
    "    #Adjust for warming\n",
    "    samples = samples[int(len(samples) * warming_period):]\n",
    "        \n",
    "    #Perform thinning\n",
    "    samples = samples[np.arange(0, len(samples), M_thinning)]\n",
    "    \n",
    "    return samples, n_accept / n_iter\n"
   ]
  },
  {
   "cell_type": "code",
   "execution_count": 122,
   "id": "1cf2f1e4",
   "metadata": {},
   "outputs": [
    {
     "data": {
      "image/png": "[encoded data removed]",
      "text/plain": [
       "<Figure size 720x432 with 2 Axes>"
      ]
     },
     "metadata": {
      "needs_background": "light"
     },
     "output_type": "display_data"
    },
    {
     "data": {
      "image/png": "[encoded data removed]",
      "text/plain": [
       "<Figure size 432x288 with 1 Axes>"
      ]
     },
     "metadata": {
      "needs_background": "light"
     },
     "output_type": "display_data"
    },
    {
     "name": "stdout",
     "output_type": "stream",
     "text": [
      "0.15875\n"
     ]
    },
    {
     "data": {
      "image/png": "[encoded data removed]",
      "text/plain": [
       "<Figure size 432x288 with 1 Axes>"
      ]
     },
     "metadata": {
      "needs_background": "light"
     },
     "output_type": "display_data"
    }
   ],
   "source": [
    "theta_0 = 0\n",
    "sigma_0 = 5\n",
    "b = 2\n",
    "\n",
    "proposal_distribution = scistats.laplace#scistats.norm#\n",
    "proposal_scale = 5\n",
    "n_iter = 100000\n",
    "theta_start = 0\n",
    "\n",
    "fig, ax = plt.subplots(1, 2, figsize = (10, 6))\n",
    "fig.suptitle(\"The unnormalised posterior\")\n",
    "ax = ax.flatten()\n",
    "\n",
    "ax[0].plot(theta_range, up_range * 0.5e10, color = \"b\", label = \"unnormalised posterior (scaled)\")\n",
    "ax[0].plot(theta_range, proposal_distribution.pdf(theta_range, loc = theta_start, scale = proposal_scale), color = \"k\", label = \"proposal distribution\")\n",
    "#ax[0].plot(theta_range, np.exp(lup_range), \"k--\")\n",
    "ax[1].plot(theta_range, lup_range, color = \"b\", label = \"log unnormalised posterior\")\n",
    "ax[1].plot(theta_range, proposal_distribution.logpdf(theta_range, loc = theta_start, scale = proposal_scale), color = \"k\", label = \"log proposal distribution\")\n",
    "\n",
    "ax[0].set_ylabel(r\"$F(\\theta \\vert \\theta_0, \\sigma_0, \\mathbf{x}, b)$\")\n",
    "ax[1].set_ylabel(r\"$\\log F(\\theta \\vert \\theta_0, \\sigma_0, \\mathbf{x}, b)$\")\n",
    "\n",
    "for axs in ax:\n",
    "    axs.set_xlabel(r\"$\\theta$\")\n",
    "    axs.grid()\n",
    "    axs.legend()\n",
    "    \n",
    "fig.tight_layout()\n",
    "#plt.savefig(\"./images/Q2c_3.pdf\")\n",
    "plt.show()\n",
    "\n",
    "samples, acc = MCMC(n_iter, \n",
    "                    Q2_data, \n",
    "                    theta_start, \n",
    "                    theta_0, \n",
    "                    sigma_0, \n",
    "                    b, \n",
    "                    proposal_distribution, \n",
    "                    proposal_scale, \n",
    "                    met_hastings = True, \n",
    "                    warming_period = 0.5, \n",
    "                    M_thinning = 10,\n",
    "                    visualise = True)\n",
    "\n",
    "print(acc)\n",
    "\n",
    "plt.figure()\n",
    "plt.hist(samples, density = True, bins = 20, color = \"b\", label = \"Empirical distribution\")\n",
    "plt.xlabel(r\"$x$\")\n",
    "plt.ylabel(r\"$p(x)$\")\n",
    "plt.legend()\n",
    "plt.grid()\n",
    "#plt.savefig(\"./images/Q2c_4.pdf\")\n",
    "plt.show()"
   ]
  },
  {
   "cell_type": "code",
   "execution_count": 18,
   "id": "c5a0a0d9",
   "metadata": {},
   "outputs": [
    {
     "data": {
      "text/plain": [
       "3.0688068806880686"
      ]
     },
     "execution_count": 18,
     "metadata": {},
     "output_type": "execute_result"
    }
   ],
   "source": [
    "theta_range[np.argmax(up_range)]"
   ]
  },
  {
   "cell_type": "code",
   "execution_count": 19,
   "id": "8fbb0028",
   "metadata": {},
   "outputs": [
    {
     "name": "stdout",
     "output_type": "stream",
     "text": [
      "3.3595359227968427\n"
     ]
    }
   ],
   "source": [
    "print(np.median(samples))"
   ]
  },
  {
   "cell_type": "markdown",
   "id": "e537e4fe",
   "metadata": {},
   "source": [
    "## Q2 d) Estimate $\\mathbb{E}_{\\theta \\sim p(\\theta \\vert \\mathbf{x})} \\{ \\theta^2 \\}$ using the MCMC samples."
   ]
  },
  {
   "cell_type": "code",
   "execution_count": 123,
   "id": "3205350c",
   "metadata": {},
   "outputs": [
    {
     "name": "stdout",
     "output_type": "stream",
     "text": [
      "11.65138487012073\n"
     ]
    }
   ],
   "source": [
    "print(np.mean(samples**2))"
   ]
  },
  {
   "cell_type": "markdown",
   "id": "59c417cf",
   "metadata": {},
   "source": [
    "## Q2 e) Estimate $P(\\theta > 3 \\vert \\mathbf{x})$ using the MCMC samples."
   ]
  },
  {
   "cell_type": "code",
   "execution_count": 124,
   "id": "f6cae1ae",
   "metadata": {},
   "outputs": [
    {
     "name": "stdout",
     "output_type": "stream",
     "text": [
      "0.7314\n",
      "0.7314\n"
     ]
    }
   ],
   "source": [
    "P = 1 - np.mean((samples <= 3))\n",
    "print(P)\n",
    "print(np.mean((samples > 3)))"
   ]
  },
  {
   "cell_type": "markdown",
   "id": "2dced919",
   "metadata": {},
   "source": [
    "## Q2 f) Estimate $P(x > 3 \\vert \\mathbf{x})$ using the MCMC samples.\n",
    "\n",
    "\\begin{equation}\n",
    "\\begin{aligned}\n",
    "P(x > 3 \\vert \\mathbf{x}) &= 1 - P(x \\leq 3 \\vert \\mathbf{x}) \\\\\n",
    "&= 1 - \\mathbb{E}_{x \\sim p(x \\vert \\mathbf{x})} \\{ f_3(x) \\} \\\\\n",
    "&= 1 - \\int_{-\\infty}^{\\infty} f_3(x) p(x \\vert \\mathbf{x}) dx \\\\\n",
    "&= 1 - \\int_{-\\infty}^{\\infty} f_3(x)\\int_{-\\infty}^{\\infty} p(x \\vert \\theta) p(\\theta \\vert \\mathbf{x})d\\theta dx \\\\\n",
    "&= 1 - \\int_{-\\infty}^{\\infty} f_3(x) \\mathbb{E}_{\\theta \\sim p(\\theta \\vert \\mathbf{x})} \\{ p(x \\vert \\theta) \\} dx \\\\\n",
    "&= 1 - \\mathbb{E}_{x \\sim p(x \\vert \\theta), \\theta \\sim p(\\theta \\vert \\mathbf{x})} \\{ f_3(x) \\}. (\\text{Not quite right, but I will get there})\n",
    "\\end{aligned}\n",
    "\\end{equation}\n",
    "\n",
    "where $f_3(x)$ is an indicator function $f_3(x) = I(x; -\\infty, 3)$, defined by\n",
    "\\begin{equation}\n",
    "f_3(x) = I(x; -\\infty, 3) = \\begin{cases} \n",
    "1 & \\text{if } x \\leq 3, \\\\\n",
    "0 & \\text{otherwise,}\n",
    "\\end{cases}\n",
    "\\end{equation}"
   ]
  },
  {
   "cell_type": "code",
   "execution_count": 125,
   "id": "d3df9bab",
   "metadata": {},
   "outputs": [
    {
     "name": "stdout",
     "output_type": "stream",
     "text": [
      "0.5714374799999999\n"
     ]
    }
   ],
   "source": [
    "#For each sample from the posterior, sample N times from the sampled posterior and determine above\n",
    "\n",
    "generative_model_method = scistats.laplace\n",
    "N_per_sample = 10000\n",
    "b = 2\n",
    "probability = np.zeros_like(samples)\n",
    "\n",
    "for cnt, theta in enumerate(samples):\n",
    "    \n",
    "    #Sample the generative model\n",
    "    local_samples = generative_model_method.rvs(loc = theta, scale = b, size = N_per_sample)\n",
    "    \n",
    "    probability[cnt] = 1 - np.mean(local_samples <= 3)\n",
    "\n",
    "print(np.mean(probability))"
   ]
  },
  {
   "cell_type": "markdown",
   "id": "9473e429",
   "metadata": {},
   "source": [
    "## Q2 g) How does the number of samples impact the accuracy of the aforementioned results?"
   ]
  },
  {
   "cell_type": "code",
   "execution_count": 126,
   "id": "581d8739",
   "metadata": {},
   "outputs": [
    {
     "data": {
      "image/png": "[encoded data removed]",
      "text/plain": [
       "<Figure size 432x288 with 1 Axes>"
      ]
     },
     "metadata": {
      "needs_background": "light"
     },
     "output_type": "display_data"
    },
    {
     "data": {
      "image/png": "[encoded data removed]",
      "text/plain": [
       "<Figure size 432x288 with 1 Axes>"
      ]
     },
     "metadata": {
      "needs_background": "light"
     },
     "output_type": "display_data"
    }
   ],
   "source": [
    "theta_0 = 0\n",
    "sigma_0 = 5\n",
    "b = 2\n",
    "\n",
    "proposal_distribution = scistats.norm\n",
    "proposal_scale = 2\n",
    "\n",
    "iter_range = np.logspace(2, 6, 100, dtype = np.int32)\n",
    "\n",
    "len_samples = []\n",
    "estimate_mat = np.zeros((100, 3))\n",
    "\n",
    "for cnt, n_iters in enumerate(iter_range):\n",
    "\n",
    "    theta_start = 0\n",
    "    \n",
    "    samples, acc = MCMC(n_iters, \n",
    "                        Q2_data, \n",
    "                        theta_start, \n",
    "                        theta_0, \n",
    "                        sigma_0, \n",
    "                        b, \n",
    "                        proposal_distribution, \n",
    "                        proposal_scale, \n",
    "                        met_hastings = True, \n",
    "                        warming_period = 0.5, \n",
    "                        M_thinning = 5,\n",
    "                       visualise = False)\n",
    "    \n",
    "    len_samples.append(len(samples))\n",
    "    \n",
    "    estimate_mat[cnt, 0] = np.mean(samples**2)\n",
    "    estimate_mat[cnt, 1] = 1 - np.mean((samples <= 3))\n",
    "    \n",
    "    probability = np.zeros_like(samples)\n",
    "    \n",
    "    for cnt_theta, theta in enumerate(samples):\n",
    "    \n",
    "        #Sample the generative model\n",
    "        local_samples = generative_model_method.rvs(loc = theta, scale = b, size = N_per_sample)\n",
    "\n",
    "        probability[cnt_theta] = 1 - np.mean(local_samples <= 3)\n",
    "    \n",
    "    estimate_mat[cnt, 2] = np.mean(probability)\n",
    "\n",
    "plt.figure()\n",
    "plt.semilogx(len_samples, estimate_mat[:, 0], color = \"b\", label = r\"$\\mathbb{E}_{\\theta \\sim p(\\theta \\vert \\mathbf{x})} \\{ \\theta^2 \\}$\")\n",
    "plt.semilogx(len_samples, estimate_mat[:, 1], color = \"r\", label = r\"$P(\\theta > 3 \\vert \\mathbf{x})$\")\n",
    "plt.semilogx(len_samples, estimate_mat[:, 2], color = \"k\", label = r\"$P(x > 3 \\vert \\mathbf{x})$\")\n",
    "plt.xlabel(\"Number of samples\")\n",
    "plt.ylabel(\"Estimate values\")\n",
    "plt.legend()\n",
    "plt.savefig(\"./images/Q2g_1.pdf\")\n",
    "plt.grid()\n",
    "\n",
    "plt.figure()\n",
    "plt.semilogx(len_samples, np.abs((estimate_mat[:, 0] - estimate_mat[-1, 0])), color = \"b\", label = r\"$\\mathbb{E}_{x \\sim p(x)} \\{ x^2 \\}$\")\n",
    "plt.semilogx(len_samples, np.abs((estimate_mat[:, 1] - estimate_mat[-1, 1])), color = \"r\", label = r\"$P(x > 5 \\vert x)$\")\n",
    "plt.semilogx(len_samples, np.abs((estimate_mat[:, 2] - estimate_mat[-1, 2])), color = \"k\", label = r\"$3^{rd}$ percentile\")\n",
    "plt.xlabel(\"Number of samples\")\n",
    "plt.ylabel(\"Estimate values - absolute error\")\n",
    "plt.legend()\n",
    "plt.savefig(\"./images/Q2g_2.pdf\")\n",
    "plt.grid()"
   ]
  },
  {
   "cell_type": "code",
   "execution_count": 127,
   "id": "cb66aefe",
   "metadata": {},
   "outputs": [
    {
     "data": {
      "text/plain": [
       "array([11.75355748,  0.73571   ,  0.57423201])"
      ]
     },
     "execution_count": 127,
     "metadata": {},
     "output_type": "execute_result"
    }
   ],
   "source": [
    "estimate_mat[-1, :]"
   ]
  },
  {
   "cell_type": "markdown",
   "id": "e4b96900",
   "metadata": {},
   "source": [
    "# Problem 3"
   ]
  },
  {
   "cell_type": "markdown",
   "id": "c99db42b",
   "metadata": {},
   "source": [
    "## Load in the data"
   ]
  },
  {
   "cell_type": "code",
   "execution_count": 128,
   "id": "6cb8f64f",
   "metadata": {},
   "outputs": [
    {
     "name": "stdout",
     "output_type": "stream",
     "text": [
      "dict_keys(['__header__', '__version__', '__globals__', 'strain_measurements', 'stress_measurements_in_MPa'])\n",
      "dict_keys(['__header__', '__version__', '__globals__', 'mean_of_posterior_MPa', 'covariance_of_posterior_MPa'])\n"
     ]
    },
    {
     "data": {
      "image/png": "[encoded data removed]",
      "text/plain": [
       "<Figure size 432x288 with 1 Axes>"
      ]
     },
     "metadata": {
      "needs_background": "light"
     },
     "output_type": "display_data"
    }
   ],
   "source": [
    "Q3_measurements = io.loadmat(r\"G:\\My Drive\\Engineering\\PhD\\2022\\MIL780\\Block 3\\Assignment\\problem3_material_model_measurements.mat\")\n",
    "Q3_post_normal = io.loadmat(r\"G:\\My Drive\\Engineering\\PhD\\2022\\MIL780\\Block 3\\Assignment\\problem3_partB_posterior_normal.mat\")\n",
    "Q3_post_normal_updated = io.loadmat(r\"G:\\My Drive\\Engineering\\PhD\\2022\\MIL780\\Block 3\\Assignment\\problem3_partB_posterior_normal_updated.mat\")\n",
    "\n",
    "def normalise_parameters_method(E, yield_stress, plastic_modulus):\n",
    "    \n",
    "    E_norm = E / 1e11\n",
    "    yield_norm = yield_stress / 1e8\n",
    "    plastic_norm = plastic_modulus / 1e11\n",
    "    \n",
    "    return E_norm, yield_norm, plastic_norm\n",
    "\n",
    "def scale_parameters_method(E, yield_stress, plastic_modulus):\n",
    "    \n",
    "    E_scale = E * 1e11\n",
    "    yield_scale = yield_stress * 1e8\n",
    "    plastic_scale = plastic_modulus * 1e11\n",
    "    \n",
    "    return E_scale, yield_scale, plastic_scale\n",
    "\n",
    "def material_model(strain_input,scaled_parameters):\n",
    "\n",
    "    e = strain_input\n",
    "\n",
    "    E, yield_strength, H = scaled_parameters #scale_parameters_method(*scaled_parameters)\n",
    "\n",
    "    E = 1E11 * E # in Pa\n",
    "    yield_strength = 1E8 * yield_strength # in Pa\n",
    "    H = 1E11 * H # in Pa\n",
    "\n",
    "    h = lambda x: x > 0\n",
    "    \n",
    "    factor = e - yield_strength/E\n",
    "    h_factor = h(factor)\n",
    "    stress = E * e * (1 - h_factor) + (yield_strength + H * E/ (H + E) * (factor)) *  h_factor\n",
    "\n",
    "    return stress / 1E6 # Stress in MPa\n",
    "\n",
    "print(Q3_measurements.keys())\n",
    "print(Q3_post_normal.keys())\n",
    "strain = Q3_measurements['strain_measurements'][0, :]\n",
    "stress = Q3_measurements['stress_measurements_in_MPa'][0, :]\n",
    "\n",
    "plt.figure()\n",
    "plt.scatter(strain, stress, color = \"k\", marker = \"x\", label = \"Observed data\")\n",
    "plt.plot(strain, material_model(strain, normalise_parameters_method(200e9, 300e6, 45e9)), color = \"b\", linestyle = \"-\", label = r\"$\\sigma_{meas} = \\sigma_{l}(\\epsilon, \\tilde{E} = 2, \\tilde{\\sigma}_{y_0} = 3, \\tilde{H} = 0.45) + 0$\")\n",
    "plt.plot(strain, material_model(strain, normalise_parameters_method(100e9, 200e6, 25e9)), color = \"r\", linestyle = \"--\", label = r\"$\\sigma_{meas} = \\sigma_{l}(\\epsilon, \\tilde{E} = 1, \\tilde{\\sigma}_{y_0} = 2, \\tilde{H} = 0.25) + 0$\")\n",
    "plt.xlabel(r\"Strain ($\\epsilon$)\")\n",
    "plt.ylabel(\"Stress (MPa)\")\n",
    "plt.grid()\n",
    "plt.legend()\n",
    "plt.savefig(\"./images/Q3a.pdf\")\n",
    "plt.show()"
   ]
  },
  {
   "cell_type": "markdown",
   "id": "f10d1603",
   "metadata": {},
   "source": [
    "## Q3a) PyMC implementation"
   ]
  },
  {
   "cell_type": "code",
   "execution_count": 25,
   "id": "a7471d9c",
   "metadata": {},
   "outputs": [],
   "source": [
    "import pymc3 as pm"
   ]
  },
  {
   "cell_type": "markdown",
   "id": "640576b3",
   "metadata": {},
   "source": [
    "### Define the model"
   ]
  },
  {
   "cell_type": "code",
   "execution_count": 26,
   "id": "746db29d",
   "metadata": {},
   "outputs": [],
   "source": [
    "def linear_regression(strain, stress, alphas = [3, 3, 3, 3], betas = [1, 1, 1, 1]):\n",
    "    \n",
    "    with pm.Model() as linear_model:\n",
    "\n",
    "        #Define the priors\n",
    "        _E = pm.Gamma(\"E_norm\", alpha = alphas[0], beta = betas[0]) #Prior over E\n",
    "        _yield = pm.Gamma(\"yield_norm\", alpha = alphas[1], beta = betas[1]) #Prior over yield_stress\n",
    "        _H = pm.Gamma(\"H_norm\", alpha = alphas[2], beta = betas[2]) #Prior over plastic_modulus\n",
    "        noise = pm.Gamma(\"noise\", alpha = alphas[3], beta = betas[3]) #Prior over the noise\n",
    "        \n",
    "        #Define the generative model\n",
    "        x_obs = pm.Normal(\n",
    "        \"x_obs\",\n",
    "        mu = material_model(strain, [_E, _yield, _H]),\n",
    "        sigma = noise,\n",
    "        observed=stress,\n",
    "        )\n",
    "\n",
    "    return linear_model"
   ]
  },
  {
   "cell_type": "code",
   "execution_count": 27,
   "id": "5357c333",
   "metadata": {},
   "outputs": [],
   "source": [
    "pymc_material_model = linear_regression(strain, stress)"
   ]
  },
  {
   "cell_type": "code",
   "execution_count": 28,
   "id": "03a8c012",
   "metadata": {},
   "outputs": [
    {
     "data": {
      "text/latex": [
       "$\\text{E_norm} \\sim \\text{Gamma}(\\mathit{alpha}=3.0,~\\mathit{beta}=1.0)$"
      ],
      "text/plain": [
       "E_norm ~ Gamma"
      ]
     },
     "execution_count": 28,
     "metadata": {},
     "output_type": "execute_result"
    }
   ],
   "source": [
    "#Check out the model\n",
    "pymc_material_model.E_norm"
   ]
  },
  {
   "cell_type": "code",
   "execution_count": 29,
   "id": "62af612a",
   "metadata": {},
   "outputs": [
    {
     "data": {
      "text/latex": [
       "$\\text{yield_norm} \\sim \\text{Gamma}(\\mathit{alpha}=3.0,~\\mathit{beta}=1.0)$"
      ],
      "text/plain": [
       "yield_norm ~ Gamma"
      ]
     },
     "execution_count": 29,
     "metadata": {},
     "output_type": "execute_result"
    }
   ],
   "source": [
    "#Check out the model\n",
    "pymc_material_model.yield_norm"
   ]
  },
  {
   "cell_type": "code",
   "execution_count": 30,
   "id": "51f40de5",
   "metadata": {},
   "outputs": [
    {
     "data": {
      "text/latex": [
       "$\\text{H_norm} \\sim \\text{Gamma}(\\mathit{alpha}=3.0,~\\mathit{beta}=1.0)$"
      ],
      "text/plain": [
       "H_norm ~ Gamma"
      ]
     },
     "execution_count": 30,
     "metadata": {},
     "output_type": "execute_result"
    }
   ],
   "source": [
    "#Check out the model\n",
    "pymc_material_model.H_norm"
   ]
  },
  {
   "cell_type": "code",
   "execution_count": 31,
   "id": "85f099bb",
   "metadata": {},
   "outputs": [
    {
     "data": {
      "text/latex": [
       "$\\text{noise} \\sim \\text{Gamma}(\\mathit{alpha}=3.0,~\\mathit{beta}=1.0)$"
      ],
      "text/plain": [
       "noise ~ Gamma"
      ]
     },
     "execution_count": 31,
     "metadata": {},
     "output_type": "execute_result"
    }
   ],
   "source": [
    "#Check out the model\n",
    "pymc_material_model.noise"
   ]
  },
  {
   "cell_type": "code",
   "execution_count": 32,
   "id": "d5121af1",
   "metadata": {},
   "outputs": [
    {
     "data": {
      "text/latex": [
       "$\\text{x_obs} \\sim \\text{Normal}(\\mathit{mu}=f(f(f(f(f(f(\\text{E_norm})),~array),~f(f(),~f(f(array,~f(f(f(\\text{yield_norm}),~f(\\text{E_norm})))),~f()))),~f(f(f(f(\\text{yield_norm})),~f(f(f(f(f(\\text{H_norm}),~f(\\text{E_norm})),~f(f(\\text{H_norm}),~f(\\text{E_norm})))),~f(array,~f(f(f(\\text{yield_norm}),~f(\\text{E_norm})))))),~f(f(array,~f(f(f(\\text{yield_norm}),~f(\\text{E_norm})))),~f()))),~f()),~\\mathit{sigma}=f(\\text{noise}))$"
      ],
      "text/plain": [
       "x_obs ~ Normal"
      ]
     },
     "execution_count": 32,
     "metadata": {},
     "output_type": "execute_result"
    }
   ],
   "source": [
    "#Check out the model\n",
    "pymc_material_model.x_obs"
   ]
  },
  {
   "cell_type": "markdown",
   "id": "7c81c4fa",
   "metadata": {},
   "source": [
    "### Get samples and MAP"
   ]
  },
  {
   "cell_type": "code",
   "execution_count": 130,
   "id": "2ae77ba7",
   "metadata": {},
   "outputs": [
    {
     "name": "stderr",
     "output_type": "stream",
     "text": [
      "Auto-assigning NUTS sampler...\n",
      "Initializing NUTS using jitter+adapt_diag...\n",
      "Multiprocess sampling (4 chains in 4 jobs)\n",
      "NUTS: [noise, H_norm, yield_norm, E_norm]\n"
     ]
    },
    {
     "data": {
      "text/html": [
       "\n",
       "<style>\n",
       "    /* Turns off some styling */\n",
       "    progress {\n",
       "        /* gets rid of default border in Firefox and Opera. */\n",
       "        border: none;\n",
       "        /* Needs to be in here for Safari polyfill so background images work as expected. */\n",
       "        background-size: auto;\n",
       "    }\n",
       "    .progress-bar-interrupted, .progress-bar-interrupted::-webkit-progress-bar {\n",
       "        background: #F44336;\n",
       "    }\n",
       "</style>\n"
      ],
      "text/plain": [
       "<IPython.core.display.HTML object>"
      ]
     },
     "metadata": {},
     "output_type": "display_data"
    },
    {
     "data": {
      "text/html": [
       "\n",
       "    <div>\n",
       "      <progress value='36000' class='' max='36000' style='width:300px; height:20px; vertical-align: middle;'></progress>\n",
       "      100.00% [36000/36000 00:23<00:00 Sampling 4 chains, 0 divergences]\n",
       "    </div>\n",
       "    "
      ],
      "text/plain": [
       "<IPython.core.display.HTML object>"
      ]
     },
     "metadata": {},
     "output_type": "display_data"
    },
    {
     "name": "stderr",
     "output_type": "stream",
     "text": [
      "Sampling 4 chains for 4_000 tune and 5_000 draw iterations (16_000 + 20_000 draws total) took 38 seconds.\n"
     ]
    },
    {
     "data": {
      "text/html": [
       "\n",
       "<style>\n",
       "    /* Turns off some styling */\n",
       "    progress {\n",
       "        /* gets rid of default border in Firefox and Opera. */\n",
       "        border: none;\n",
       "        /* Needs to be in here for Safari polyfill so background images work as expected. */\n",
       "        background-size: auto;\n",
       "    }\n",
       "    .progress-bar-interrupted, .progress-bar-interrupted::-webkit-progress-bar {\n",
       "        background: #F44336;\n",
       "    }\n",
       "</style>\n"
      ],
      "text/plain": [
       "<IPython.core.display.HTML object>"
      ]
     },
     "metadata": {},
     "output_type": "display_data"
    },
    {
     "data": {
      "text/html": [
       "\n",
       "    <div>\n",
       "      <progress value='20000' class='' max='20000' style='width:300px; height:20px; vertical-align: middle;'></progress>\n",
       "      100.00% [20000/20000 00:20<00:00]\n",
       "    </div>\n",
       "    "
      ],
      "text/plain": [
       "<IPython.core.display.HTML object>"
      ]
     },
     "metadata": {},
     "output_type": "display_data"
    },
    {
     "data": {
      "text/html": [
       "\n",
       "<style>\n",
       "    /* Turns off some styling */\n",
       "    progress {\n",
       "        /* gets rid of default border in Firefox and Opera. */\n",
       "        border: none;\n",
       "        /* Needs to be in here for Safari polyfill so background images work as expected. */\n",
       "        background-size: auto;\n",
       "    }\n",
       "    .progress-bar-interrupted, .progress-bar-interrupted::-webkit-progress-bar {\n",
       "        background: #F44336;\n",
       "    }\n",
       "</style>\n"
      ],
      "text/plain": [
       "<IPython.core.display.HTML object>"
      ]
     },
     "metadata": {},
     "output_type": "display_data"
    },
    {
     "data": {
      "text/html": [
       "\n",
       "    <div>\n",
       "      <progress value='24' class='' max='24' style='width:300px; height:20px; vertical-align: middle;'></progress>\n",
       "      100.00% [24/24 00:00<00:00 logp = -442.59, ||grad|| = 0.65897]\n",
       "    </div>\n",
       "    "
      ],
      "text/plain": [
       "<IPython.core.display.HTML object>"
      ]
     },
     "metadata": {},
     "output_type": "display_data"
    },
    {
     "name": "stdout",
     "output_type": "stream",
     "text": [
      "\n"
     ]
    }
   ],
   "source": [
    "#with pymc_material_model:\n",
    "#Sample the prior predictive distribution\n",
    "prior = pm.sample_prior_predictive(samples = 5000, \n",
    "                                   model = pymc_material_model)\n",
    "\n",
    "#Sample the posterior\n",
    "posterior = pm.sample(draws = 5000, \n",
    "                      tune = 4000, \n",
    "                      model = pymc_material_model, \n",
    "                      discard_tuned_samples = True,\n",
    "                     return_inferencedata=False,\n",
    "                     cores = None)#Uses max available\n",
    "\n",
    "#Sample the posterior predictive distribution\n",
    "posterior_pred = pm.sample_posterior_predictive(trace = posterior, \n",
    "                                                model = pymc_material_model)\n",
    "\n",
    "#Get the MAP estimate\n",
    "map_estimate = pm.find_MAP(model = pymc_material_model)"
   ]
  },
  {
   "cell_type": "code",
   "execution_count": null,
   "id": "15426b20",
   "metadata": {},
   "outputs": [],
   "source": []
  },
  {
   "cell_type": "markdown",
   "id": "dd6f618a",
   "metadata": {},
   "source": [
    "### MAP estimate"
   ]
  },
  {
   "cell_type": "code",
   "execution_count": 131,
   "id": "ae203420",
   "metadata": {},
   "outputs": [
    {
     "name": "stdout",
     "output_type": "stream",
     "text": [
      "{'E_norm_log__': array(0.64103132), 'yield_norm_log__': array(1.10192988), 'H_norm_log__': array(-0.61270477), 'noise_log__': array(2.77272101), 'E_norm': array(1.89843776), 'yield_norm': array(3.0099693), 'H_norm': array(0.54188321), 'noise': array(16.0021168)}\n",
      "\n",
      "\n",
      "MAP estimate: \n",
      "Young's Modulus : 189.844 GPa\n",
      "Yield stress: 300.997 MPa\n",
      " Plastic modulus: 54.188 GPa\n",
      "Noise: 16.002\n"
     ]
    }
   ],
   "source": [
    "#map_estimate = pm.find_MAP(model = pymc_material_model, maxeval=10000)\n",
    "print(map_estimate)\n",
    "\n",
    "norm_samples = np.array([map_estimate[\"E_norm\"], map_estimate[\"yield_norm\"], map_estimate[\"H_norm\"]])\n",
    "scaled_samples = scale_parameters_method(*norm_samples)\n",
    "\n",
    "print(\"\\n\\nMAP estimate: \\nYoung's Modulus : {:.3f} GPa\\nYield stress: {:.3f} MPa\\n Plastic modulus: {:.3f} GPa\\nNoise: {:.3f}\".format(scaled_samples[0] / 1e9, \n",
    "                                                          scaled_samples[1] / 1e6,\n",
    "                                                          scaled_samples[2] / 1e9, map_estimate[\"noise\"]))"
   ]
  },
  {
   "cell_type": "markdown",
   "id": "08f3c3f6",
   "metadata": {},
   "source": [
    "### Prior samples"
   ]
  },
  {
   "cell_type": "code",
   "execution_count": 144,
   "id": "07dfaf58",
   "metadata": {},
   "outputs": [
    {
     "data": {
      "image/png": "[encoded data removed]",
      "text/plain": [
       "<Figure size 432x288 with 1 Axes>"
      ]
     },
     "metadata": {
      "needs_background": "light"
     },
     "output_type": "display_data"
    },
    {
     "data": {
      "image/png": "[encoded data removed]",
      "text/plain": [
       "<Figure size 432x288 with 1 Axes>"
      ]
     },
     "metadata": {
      "needs_background": "light"
     },
     "output_type": "display_data"
    },
    {
     "data": {
      "image/png": "[encoded data removed]",
      "text/plain": [
       "<Figure size 432x288 with 1 Axes>"
      ]
     },
     "metadata": {
      "needs_background": "light"
     },
     "output_type": "display_data"
    },
    {
     "data": {
      "image/png": "[encoded data removed]",
      "text/plain": [
       "<Figure size 432x288 with 1 Axes>"
      ]
     },
     "metadata": {
      "needs_background": "light"
     },
     "output_type": "display_data"
    },
    {
     "data": {
      "image/png": "[encoded data removed]",
      "text/plain": [
       "<Figure size 432x288 with 1 Axes>"
      ]
     },
     "metadata": {
      "needs_background": "light"
     },
     "output_type": "display_data"
    }
   ],
   "source": [
    "plt.figure()\n",
    "plt.hist(prior[\"E_norm\"], color = \"b\", density = True, bins = 40)\n",
    "plt.xlabel(r\"$\\tilde{E}$\", fontsize = 14)\n",
    "plt.ylabel(\"density\", fontsize = 14)\n",
    "plt.grid()\n",
    "plt.savefig(\"./images/Q3a_1.pdf\")\n",
    "plt.show()\n",
    "\n",
    "plt.figure()\n",
    "plt.hist(prior[\"yield_norm\"], color = \"b\", density = True, bins = 40)\n",
    "plt.xlabel(r\"$\\tilde{\\sigma}_{y_{0}}$\", fontsize = 14)\n",
    "plt.ylabel(\"density\", fontsize = 14)\n",
    "plt.grid()\n",
    "plt.savefig(\"./images/Q3a_2.pdf\")\n",
    "plt.show()\n",
    "\n",
    "plt.figure()\n",
    "plt.hist(prior[\"H_norm\"], color = \"b\", density = True, bins = 40)\n",
    "plt.xlabel(r\"$\\tilde{H}$\", fontsize = 14)\n",
    "plt.ylabel(\"density\", fontsize = 14)\n",
    "plt.grid()\n",
    "plt.savefig(\"./images/Q3a_3.pdf\")\n",
    "plt.show()\n",
    "\n",
    "plt.figure()\n",
    "plt.hist(prior[\"noise\"], color = \"b\", density = True, bins = 40)\n",
    "plt.xlabel(r\"$\\tilde{\\eta}$\", fontsize = 14)\n",
    "plt.ylabel(\"density\", fontsize = 14)\n",
    "plt.grid()\n",
    "plt.savefig(\"./images/Q3a_4.pdf\")\n",
    "plt.show()\n",
    "\n",
    "plt.figure()\n",
    "plt.title(\"Prior predictive samples\")\n",
    "strain_plot = np.linspace(np.min(strain), np.max(strain), 1000)\n",
    "\n",
    "for i in range(len(prior[\"E_norm\"])):\n",
    "    \n",
    "    stress_plot = material_model(strain_plot, [prior[\"E_norm\"][i],\n",
    "                                                       prior[\"yield_norm\"][i],\n",
    "                                                       prior[\"H_norm\"][i]])\n",
    "    \n",
    "    stress_plot += np.random.randn(len(stress_plot))* prior[\"noise\"][i]\n",
    "    \n",
    "    plt.plot(strain_plot, stress_plot, color = \"m\", alpha = 0.3)\n",
    "plt.xlabel(r\"Strain ($\\epsilon$)\")\n",
    "plt.ylabel(r\"Stress ($\\sigma$ - MPa)\")\n",
    "plt.grid()\n",
    "plt.savefig(\"./images/Q3a_5.pdf\")\n",
    "plt.savefig(\"./images/Q3a_5.png\")\n",
    "plt.show()"
   ]
  },
  {
   "cell_type": "markdown",
   "id": "20f72e31",
   "metadata": {},
   "source": [
    "### Posterior distributions"
   ]
  },
  {
   "cell_type": "code",
   "execution_count": 145,
   "id": "91e37117",
   "metadata": {},
   "outputs": [
    {
     "data": {
      "image/png": "[encoded data removed]",
      "text/plain": [
       "<Figure size 432x288 with 1 Axes>"
      ]
     },
     "metadata": {
      "needs_background": "light"
     },
     "output_type": "display_data"
    },
    {
     "data": {
      "image/png": "[encoded data removed]",
      "text/plain": [
       "<Figure size 432x288 with 1 Axes>"
      ]
     },
     "metadata": {
      "needs_background": "light"
     },
     "output_type": "display_data"
    },
    {
     "data": {
      "image/png": "[encoded data removed]",
      "text/plain": [
       "<Figure size 432x288 with 1 Axes>"
      ]
     },
     "metadata": {
      "needs_background": "light"
     },
     "output_type": "display_data"
    },
    {
     "data": {
      "image/png": "[encoded data removed]",
      "text/plain": [
       "<Figure size 432x288 with 1 Axes>"
      ]
     },
     "metadata": {
      "needs_background": "light"
     },
     "output_type": "display_data"
    },
    {
     "data": {
      "image/png": "[encoded data removed]",
      "text/plain": [
       "<Figure size 432x288 with 1 Axes>"
      ]
     },
     "metadata": {
      "needs_background": "light"
     },
     "output_type": "display_data"
    }
   ],
   "source": [
    "plt.figure()\n",
    "plt.hist(posterior[\"E_norm\"], color = \"b\", density = True, bins = 40)\n",
    "plt.xlabel(r\"$\\tilde{E} \\vert \\sigma, \\epsilon$\", fontsize = 14)\n",
    "plt.ylabel(\"density\", fontsize = 14)\n",
    "plt.grid()\n",
    "plt.savefig(\"./images/Q3a_6.pdf\")\n",
    "plt.show()\n",
    "\n",
    "plt.figure()\n",
    "plt.hist(posterior[\"yield_norm\"], color = \"b\", density = True, bins = 40)\n",
    "plt.xlabel(r\"$\\tilde{\\sigma}_{y_0} \\vert \\sigma, \\epsilon$\", fontsize = 14)\n",
    "plt.ylabel(\"density\", fontsize = 14)\n",
    "plt.grid()\n",
    "plt.savefig(\"./images/Q3a_7.pdf\")\n",
    "plt.show()\n",
    "\n",
    "plt.figure()\n",
    "plt.hist(posterior[\"H_norm\"], color = \"b\", density = True, bins = 40)\n",
    "plt.xlabel(r\"$\\tilde{H} \\vert \\sigma, \\epsilon$\", fontsize = 14)\n",
    "plt.ylabel(\"density\", fontsize = 14)\n",
    "plt.grid()\n",
    "plt.savefig(\"./images/Q3a_8.pdf\")\n",
    "plt.show()\n",
    "\n",
    "plt.figure()\n",
    "plt.hist(posterior[\"noise\"], color = \"b\", density = True, bins = 40)\n",
    "plt.xlabel(r\"$\\tilde{\\eta} \\vert \\sigma, \\epsilon$\", fontsize = 14)\n",
    "plt.ylabel(\"density\", fontsize = 14)\n",
    "plt.grid()\n",
    "plt.savefig(\"./images/Q3a_9.pdf\")\n",
    "plt.show()\n",
    "\n",
    "plt.figure()\n",
    "\n",
    "strain_plot = np.linspace(np.min(strain), np.max(strain), 1000)\n",
    "\n",
    "for i in range(len(posterior[\"E_norm\"])):\n",
    "    \n",
    "    stress_plot = material_model(strain_plot, [posterior[\"E_norm\"][i],\n",
    "                                                       posterior[\"yield_norm\"][i],\n",
    "                                                       posterior[\"H_norm\"][i]])\n",
    "    \n",
    "    stress_plot += np.random.randn(len(stress_plot))* posterior[\"noise\"][i]\n",
    "    \n",
    "    plt.plot(strain_plot, stress_plot, color = \"m\", alpha = 0.3)\n",
    "plt.xlabel(r\"Strain ($\\epsilon$)\")\n",
    "plt.ylabel(r\"Stress ($\\sigma$ - MPa)\")\n",
    "plt.grid()\n",
    "plt.savefig(\"./images/Q3a_10.pdf\")\n",
    "plt.savefig(\"./images/Q3a_10.png\")\n",
    "plt.show()"
   ]
  },
  {
   "cell_type": "code",
   "execution_count": 37,
   "id": "3b35df4e",
   "metadata": {},
   "outputs": [],
   "source": [
    "#import arviz as az\n",
    "\n",
    "#az.plot_trace(posterior, var_names=[\"E_norm\", \"yield_norm\", \"H_norm\", \"noise\"], figsize = (10, 15));\n",
    "#az.plot_energy(posterior)\n",
    "#az.summary(posterior, round_to=2)"
   ]
  },
  {
   "cell_type": "markdown",
   "id": "6d081263",
   "metadata": {},
   "source": [
    "### Check the posterior covariance"
   ]
  },
  {
   "cell_type": "code",
   "execution_count": 143,
   "id": "3d6defd4",
   "metadata": {},
   "outputs": [
    {
     "name": "stdout",
     "output_type": "stream",
     "text": [
      "[190400.1572643     299.92543113  54681.86722043] 16.387052921533993 \n",
      "\n",
      "\n",
      "[[ 1.50051001e+07 -1.22798791e+04  1.77793306e+06]\n",
      " [-1.22798791e+04  4.19284084e+01 -1.94636393e+04]\n",
      " [ 1.77793306e+06 -1.94636393e+04  1.30896745e+07]]\n",
      "\n",
      "\n",
      "\n",
      "MAP estimate: \n",
      "Young's Modulus : 189.844 GPa\n",
      "Yield stress: 300.997 MPa\n",
      " Plastic modulus: 54.188 GPa\n",
      "Noise: 16.002\n"
     ]
    }
   ],
   "source": [
    "X = np.vstack([posterior[\"E_norm\"] * 1e11, posterior['yield_norm'] * 1e8, posterior['H_norm'] * 1e11]).T / 1e6\n",
    "\n",
    "cov = np.cov(X, rowvar = False)\n",
    "\n",
    "#with np.printoptions(suppress=False, formatter={'float_kind':'{:0.2f}'.format}):\n",
    "    \n",
    "print(np.mean(X, axis = 0), np.mean(posterior['noise']), \"\\n\\n\")\n",
    "print(cov) #Units are MPa\n",
    "\n",
    "print(\"\")\n",
    "\n",
    "print(\"\\n\\nMAP estimate: \\nYoung's Modulus : {:.3f} GPa\\nYield stress: {:.3f} MPa\\n Plastic modulus: {:.3f} GPa\\nNoise: {:.3f}\".format(scaled_samples[0] / 1e9, \n",
    "                                                          scaled_samples[1] / 1e6,\n",
    "                                                          scaled_samples[2] / 1e9, map_estimate[\"noise\"]))"
   ]
  },
  {
   "cell_type": "markdown",
   "id": "6c804112",
   "metadata": {},
   "source": [
    "### Posterior predictive"
   ]
  },
  {
   "cell_type": "code",
   "execution_count": 146,
   "id": "bf776904",
   "metadata": {},
   "outputs": [
    {
     "name": "stdout",
     "output_type": "stream",
     "text": [
      "(20000, 100)\n"
     ]
    },
    {
     "data": {
      "image/png": "[encoded data removed]",
      "text/plain": [
       "<Figure size 432x288 with 1 Axes>"
      ]
     },
     "metadata": {
      "needs_background": "light"
     },
     "output_type": "display_data"
    },
    {
     "data": {
      "image/png": "[encoded data removed]",
      "text/plain": [
       "<Figure size 432x288 with 1 Axes>"
      ]
     },
     "metadata": {
      "needs_background": "light"
     },
     "output_type": "display_data"
    }
   ],
   "source": [
    "print(posterior_pred['x_obs'].shape)\n",
    "\n",
    "plt.figure()\n",
    "plt.title(\"Posterior predictive samples\")\n",
    "for i in range(posterior_pred['x_obs'].shape[0] // 2):\n",
    "    plt.plot(posterior_pred[\"x_obs\"][i, :], color = \"r\", alpha = 0.5)\n",
    "plt.xlabel(\"Strain\")\n",
    "plt.ylabel(\"Stress (MPa)\")\n",
    "plt.grid()\n",
    "plt.savefig(\"./images/Q3a_11.pdf\")\n",
    "plt.savefig(\"./images/Q3a_11.png\")\n",
    "plt.show()\n",
    "    \n",
    "pp_mean = np.mean(posterior_pred[\"x_obs\"], axis = 0)\n",
    "pp_std = np.std(posterior_pred[\"x_obs\"], axis = 0)\n",
    "plt.figure()\n",
    "plt.plot(strain, stress, color = \"k\", linestyle = \"--\", label = \"observed data\")\n",
    "plt.plot(strain, pp_mean, color = \"r\", linestyle = \"-\", label = \"Posterior mean\")\n",
    "\n",
    "plt.fill_between(strain, pp_mean - 3 * pp_std, pp_mean + 3 * pp_std, color = \"b\", alpha = 0.5, label = r\"$\\mu \\pm 3 \\cdot \\sigma$\")\n",
    "plt.legend()\n",
    "plt.xlabel(r\"Strain ($\\epsilon)$\")\n",
    "plt.ylabel(\"Stress (MPa)\")\n",
    "plt.grid()\n",
    "plt.savefig(\"./images/Q3a_12.pdf\")\n",
    "plt.show()"
   ]
  },
  {
   "cell_type": "markdown",
   "id": "9ceca6da",
   "metadata": {},
   "source": [
    "### How do the parameters affect the results?"
   ]
  },
  {
   "cell_type": "code",
   "execution_count": 40,
   "id": "570481b0",
   "metadata": {},
   "outputs": [
    {
     "name": "stderr",
     "output_type": "stream",
     "text": [
      "Auto-assigning NUTS sampler...\n",
      "Initializing NUTS using jitter+adapt_diag...\n",
      "Multiprocess sampling (3 chains in 3 jobs)\n",
      "NUTS: [noise, H_norm, yield_norm, E_norm]\n"
     ]
    },
    {
     "data": {
      "text/html": [
       "\n",
       "<style>\n",
       "    /* Turns off some styling */\n",
       "    progress {\n",
       "        /* gets rid of default border in Firefox and Opera. */\n",
       "        border: none;\n",
       "        /* Needs to be in here for Safari polyfill so background images work as expected. */\n",
       "        background-size: auto;\n",
       "    }\n",
       "    .progress-bar-interrupted, .progress-bar-interrupted::-webkit-progress-bar {\n",
       "        background: #F44336;\n",
       "    }\n",
       "</style>\n"
      ],
      "text/plain": [
       "<IPython.core.display.HTML object>"
      ]
     },
     "metadata": {},
     "output_type": "display_data"
    },
    {
     "data": {
      "text/html": [
       "\n",
       "    <div>\n",
       "      <progress value='27000' class='' max='27000' style='width:300px; height:20px; vertical-align: middle;'></progress>\n",
       "      100.00% [27000/27000 00:17<00:00 Sampling 3 chains, 0 divergences]\n",
       "    </div>\n",
       "    "
      ],
      "text/plain": [
       "<IPython.core.display.HTML object>"
      ]
     },
     "metadata": {},
     "output_type": "display_data"
    },
    {
     "name": "stderr",
     "output_type": "stream",
     "text": [
      "Sampling 3 chains for 4_000 tune and 5_000 draw iterations (12_000 + 15_000 draws total) took 29 seconds.\n",
      "The acceptance probability does not match the target. It is 0.882851606923619, but should be close to 0.8. Try to increase the number of tuning steps.\n"
     ]
    },
    {
     "data": {
      "text/html": [
       "\n",
       "<style>\n",
       "    /* Turns off some styling */\n",
       "    progress {\n",
       "        /* gets rid of default border in Firefox and Opera. */\n",
       "        border: none;\n",
       "        /* Needs to be in here for Safari polyfill so background images work as expected. */\n",
       "        background-size: auto;\n",
       "    }\n",
       "    .progress-bar-interrupted, .progress-bar-interrupted::-webkit-progress-bar {\n",
       "        background: #F44336;\n",
       "    }\n",
       "</style>\n"
      ],
      "text/plain": [
       "<IPython.core.display.HTML object>"
      ]
     },
     "metadata": {},
     "output_type": "display_data"
    },
    {
     "data": {
      "text/html": [
       "\n",
       "    <div>\n",
       "      <progress value='28' class='' max='28' style='width:300px; height:20px; vertical-align: middle;'></progress>\n",
       "      100.00% [28/28 00:00<00:00 logp = -443.74, ||grad|| = 29.122]\n",
       "    </div>\n",
       "    "
      ],
      "text/plain": [
       "<IPython.core.display.HTML object>"
      ]
     },
     "metadata": {},
     "output_type": "display_data"
    },
    {
     "name": "stdout",
     "output_type": "stream",
     "text": [
      "\n",
      "{'E_norm_log__': array(0.64091703), 'yield_norm_log__': array(1.1025516), 'H_norm_log__': array(-0.6153971), 'noise_log__': array(2.76860861), 'E_norm': array(1.89822081), 'yield_norm': array(3.01184124), 'H_norm': array(0.54042625), 'noise': array(15.9364448)}\n"
     ]
    },
    {
     "name": "stderr",
     "output_type": "stream",
     "text": [
      "Auto-assigning NUTS sampler...\n",
      "Initializing NUTS using jitter+adapt_diag...\n",
      "Multiprocess sampling (3 chains in 3 jobs)\n",
      "NUTS: [noise, H_norm, yield_norm, E_norm]\n"
     ]
    },
    {
     "data": {
      "text/html": [
       "\n",
       "<style>\n",
       "    /* Turns off some styling */\n",
       "    progress {\n",
       "        /* gets rid of default border in Firefox and Opera. */\n",
       "        border: none;\n",
       "        /* Needs to be in here for Safari polyfill so background images work as expected. */\n",
       "        background-size: auto;\n",
       "    }\n",
       "    .progress-bar-interrupted, .progress-bar-interrupted::-webkit-progress-bar {\n",
       "        background: #F44336;\n",
       "    }\n",
       "</style>\n"
      ],
      "text/plain": [
       "<IPython.core.display.HTML object>"
      ]
     },
     "metadata": {},
     "output_type": "display_data"
    },
    {
     "data": {
      "text/html": [
       "\n",
       "    <div>\n",
       "      <progress value='27000' class='' max='27000' style='width:300px; height:20px; vertical-align: middle;'></progress>\n",
       "      100.00% [27000/27000 00:16<00:00 Sampling 3 chains, 0 divergences]\n",
       "    </div>\n",
       "    "
      ],
      "text/plain": [
       "<IPython.core.display.HTML object>"
      ]
     },
     "metadata": {},
     "output_type": "display_data"
    },
    {
     "name": "stderr",
     "output_type": "stream",
     "text": [
      "Sampling 3 chains for 4_000 tune and 5_000 draw iterations (12_000 + 15_000 draws total) took 28 seconds.\n",
      "The acceptance probability does not match the target. It is 0.8792341096235569, but should be close to 0.8. Try to increase the number of tuning steps.\n"
     ]
    },
    {
     "data": {
      "text/html": [
       "\n",
       "<style>\n",
       "    /* Turns off some styling */\n",
       "    progress {\n",
       "        /* gets rid of default border in Firefox and Opera. */\n",
       "        border: none;\n",
       "        /* Needs to be in here for Safari polyfill so background images work as expected. */\n",
       "        background-size: auto;\n",
       "    }\n",
       "    .progress-bar-interrupted, .progress-bar-interrupted::-webkit-progress-bar {\n",
       "        background: #F44336;\n",
       "    }\n",
       "</style>\n"
      ],
      "text/plain": [
       "<IPython.core.display.HTML object>"
      ]
     },
     "metadata": {},
     "output_type": "display_data"
    },
    {
     "data": {
      "text/html": [
       "\n",
       "    <div>\n",
       "      <progress value='25' class='' max='25' style='width:300px; height:20px; vertical-align: middle;'></progress>\n",
       "      100.00% [25/25 00:00<00:00 logp = -442.62, ||grad|| = 5.4701]\n",
       "    </div>\n",
       "    "
      ],
      "text/plain": [
       "<IPython.core.display.HTML object>"
      ]
     },
     "metadata": {},
     "output_type": "display_data"
    },
    {
     "name": "stdout",
     "output_type": "stream",
     "text": [
      "\n",
      "{'E_norm_log__': array(0.64101903), 'yield_norm_log__': array(1.1019996), 'H_norm_log__': array(-0.61300577), 'noise_log__': array(2.77226493), 'E_norm': array(1.89841443), 'yield_norm': array(3.01017915), 'H_norm': array(0.54172013), 'noise': array(15.99482023)}\n"
     ]
    },
    {
     "name": "stderr",
     "output_type": "stream",
     "text": [
      "Auto-assigning NUTS sampler...\n",
      "Initializing NUTS using jitter+adapt_diag...\n",
      "Multiprocess sampling (3 chains in 3 jobs)\n",
      "NUTS: [noise, H_norm, yield_norm, E_norm]\n"
     ]
    },
    {
     "data": {
      "text/html": [
       "\n",
       "<style>\n",
       "    /* Turns off some styling */\n",
       "    progress {\n",
       "        /* gets rid of default border in Firefox and Opera. */\n",
       "        border: none;\n",
       "        /* Needs to be in here for Safari polyfill so background images work as expected. */\n",
       "        background-size: auto;\n",
       "    }\n",
       "    .progress-bar-interrupted, .progress-bar-interrupted::-webkit-progress-bar {\n",
       "        background: #F44336;\n",
       "    }\n",
       "</style>\n"
      ],
      "text/plain": [
       "<IPython.core.display.HTML object>"
      ]
     },
     "metadata": {},
     "output_type": "display_data"
    },
    {
     "data": {
      "text/html": [
       "\n",
       "    <div>\n",
       "      <progress value='27000' class='' max='27000' style='width:300px; height:20px; vertical-align: middle;'></progress>\n",
       "      100.00% [27000/27000 00:17<00:00 Sampling 3 chains, 0 divergences]\n",
       "    </div>\n",
       "    "
      ],
      "text/plain": [
       "<IPython.core.display.HTML object>"
      ]
     },
     "metadata": {},
     "output_type": "display_data"
    },
    {
     "name": "stderr",
     "output_type": "stream",
     "text": [
      "Sampling 3 chains for 4_000 tune and 5_000 draw iterations (12_000 + 15_000 draws total) took 28 seconds.\n"
     ]
    },
    {
     "data": {
      "text/html": [
       "\n",
       "<style>\n",
       "    /* Turns off some styling */\n",
       "    progress {\n",
       "        /* gets rid of default border in Firefox and Opera. */\n",
       "        border: none;\n",
       "        /* Needs to be in here for Safari polyfill so background images work as expected. */\n",
       "        background-size: auto;\n",
       "    }\n",
       "    .progress-bar-interrupted, .progress-bar-interrupted::-webkit-progress-bar {\n",
       "        background: #F44336;\n",
       "    }\n",
       "</style>\n"
      ],
      "text/plain": [
       "<IPython.core.display.HTML object>"
      ]
     },
     "metadata": {},
     "output_type": "display_data"
    },
    {
     "data": {
      "text/html": [
       "\n",
       "    <div>\n",
       "      <progress value='30' class='' max='30' style='width:300px; height:20px; vertical-align: middle;'></progress>\n",
       "      100.00% [30/30 00:00<00:00 logp = -444.72, ||grad|| = 82.47]\n",
       "    </div>\n",
       "    "
      ],
      "text/plain": [
       "<IPython.core.display.HTML object>"
      ]
     },
     "metadata": {},
     "output_type": "display_data"
    },
    {
     "name": "stdout",
     "output_type": "stream",
     "text": [
      "\n",
      "{'E_norm_log__': array(0.64112132), 'yield_norm_log__': array(1.10144095), 'H_norm_log__': array(-0.61059185), 'noise_log__': array(2.7759512), 'E_norm': array(1.89860864), 'yield_norm': array(3.00849801), 'H_norm': array(0.54302938), 'noise': array(16.05389014)}\n"
     ]
    },
    {
     "name": "stderr",
     "output_type": "stream",
     "text": [
      "Auto-assigning NUTS sampler...\n",
      "Initializing NUTS using jitter+adapt_diag...\n",
      "Multiprocess sampling (3 chains in 3 jobs)\n",
      "NUTS: [noise, H_norm, yield_norm, E_norm]\n"
     ]
    },
    {
     "data": {
      "text/html": [
       "\n",
       "<style>\n",
       "    /* Turns off some styling */\n",
       "    progress {\n",
       "        /* gets rid of default border in Firefox and Opera. */\n",
       "        border: none;\n",
       "        /* Needs to be in here for Safari polyfill so background images work as expected. */\n",
       "        background-size: auto;\n",
       "    }\n",
       "    .progress-bar-interrupted, .progress-bar-interrupted::-webkit-progress-bar {\n",
       "        background: #F44336;\n",
       "    }\n",
       "</style>\n"
      ],
      "text/plain": [
       "<IPython.core.display.HTML object>"
      ]
     },
     "metadata": {},
     "output_type": "display_data"
    },
    {
     "data": {
      "text/html": [
       "\n",
       "    <div>\n",
       "      <progress value='27000' class='' max='27000' style='width:300px; height:20px; vertical-align: middle;'></progress>\n",
       "      100.00% [27000/27000 00:17<00:00 Sampling 3 chains, 5 divergences]\n",
       "    </div>\n",
       "    "
      ],
      "text/plain": [
       "<IPython.core.display.HTML object>"
      ]
     },
     "metadata": {},
     "output_type": "display_data"
    },
    {
     "name": "stderr",
     "output_type": "stream",
     "text": [
      "Sampling 3 chains for 4_000 tune and 5_000 draw iterations (12_000 + 15_000 draws total) took 29 seconds.\n",
      "There were 5 divergences after tuning. Increase `target_accept` or reparameterize.\n",
      "The acceptance probability does not match the target. It is 0.643293460048231, but should be close to 0.8. Try to increase the number of tuning steps.\n"
     ]
    },
    {
     "data": {
      "text/html": [
       "\n",
       "<style>\n",
       "    /* Turns off some styling */\n",
       "    progress {\n",
       "        /* gets rid of default border in Firefox and Opera. */\n",
       "        border: none;\n",
       "        /* Needs to be in here for Safari polyfill so background images work as expected. */\n",
       "        background-size: auto;\n",
       "    }\n",
       "    .progress-bar-interrupted, .progress-bar-interrupted::-webkit-progress-bar {\n",
       "        background: #F44336;\n",
       "    }\n",
       "</style>\n"
      ],
      "text/plain": [
       "<IPython.core.display.HTML object>"
      ]
     },
     "metadata": {},
     "output_type": "display_data"
    },
    {
     "data": {
      "text/html": [
       "\n",
       "    <div>\n",
       "      <progress value='33' class='' max='33' style='width:300px; height:20px; vertical-align: middle;'></progress>\n",
       "      100.00% [33/33 00:00<00:00 logp = -444.05, ||grad|| = 0.1261]\n",
       "    </div>\n",
       "    "
      ],
      "text/plain": [
       "<IPython.core.display.HTML object>"
      ]
     },
     "metadata": {},
     "output_type": "display_data"
    },
    {
     "name": "stdout",
     "output_type": "stream",
     "text": [
      "\n",
      "{'E_norm_log__': array(0.64122373), 'yield_norm_log__': array(1.10087621), 'H_norm_log__': array(-0.60815518), 'noise_log__': array(2.77968232), 'E_norm': array(1.89880308), 'yield_norm': array(3.00679947), 'H_norm': array(0.54435418), 'noise': array(16.11390106)}\n"
     ]
    },
    {
     "name": "stderr",
     "output_type": "stream",
     "text": [
      "Auto-assigning NUTS sampler...\n",
      "Initializing NUTS using jitter+adapt_diag...\n",
      "Multiprocess sampling (3 chains in 3 jobs)\n",
      "NUTS: [noise, H_norm, yield_norm, E_norm]\n"
     ]
    },
    {
     "data": {
      "text/html": [
       "\n",
       "<style>\n",
       "    /* Turns off some styling */\n",
       "    progress {\n",
       "        /* gets rid of default border in Firefox and Opera. */\n",
       "        border: none;\n",
       "        /* Needs to be in here for Safari polyfill so background images work as expected. */\n",
       "        background-size: auto;\n",
       "    }\n",
       "    .progress-bar-interrupted, .progress-bar-interrupted::-webkit-progress-bar {\n",
       "        background: #F44336;\n",
       "    }\n",
       "</style>\n"
      ],
      "text/plain": [
       "<IPython.core.display.HTML object>"
      ]
     },
     "metadata": {},
     "output_type": "display_data"
    },
    {
     "data": {
      "text/html": [
       "\n",
       "    <div>\n",
       "      <progress value='27000' class='' max='27000' style='width:300px; height:20px; vertical-align: middle;'></progress>\n",
       "      100.00% [27000/27000 00:17<00:00 Sampling 3 chains, 0 divergences]\n",
       "    </div>\n",
       "    "
      ],
      "text/plain": [
       "<IPython.core.display.HTML object>"
      ]
     },
     "metadata": {},
     "output_type": "display_data"
    },
    {
     "name": "stderr",
     "output_type": "stream",
     "text": [
      "Sampling 3 chains for 4_000 tune and 5_000 draw iterations (12_000 + 15_000 draws total) took 29 seconds.\n"
     ]
    },
    {
     "data": {
      "text/html": [
       "\n",
       "<style>\n",
       "    /* Turns off some styling */\n",
       "    progress {\n",
       "        /* gets rid of default border in Firefox and Opera. */\n",
       "        border: none;\n",
       "        /* Needs to be in here for Safari polyfill so background images work as expected. */\n",
       "        background-size: auto;\n",
       "    }\n",
       "    .progress-bar-interrupted, .progress-bar-interrupted::-webkit-progress-bar {\n",
       "        background: #F44336;\n",
       "    }\n",
       "</style>\n"
      ],
      "text/plain": [
       "<IPython.core.display.HTML object>"
      ]
     },
     "metadata": {},
     "output_type": "display_data"
    },
    {
     "data": {
      "text/html": [
       "\n",
       "    <div>\n",
       "      <progress value='39' class='' max='39' style='width:300px; height:20px; vertical-align: middle;'></progress>\n",
       "      100.00% [39/39 00:00<00:00 logp = -446.14, ||grad|| = 32.857]\n",
       "    </div>\n",
       "    "
      ],
      "text/plain": [
       "<IPython.core.display.HTML object>"
      ]
     },
     "metadata": {},
     "output_type": "display_data"
    },
    {
     "name": "stdout",
     "output_type": "stream",
     "text": [
      "\n",
      "{'E_norm_log__': array(0.64132755), 'yield_norm_log__': array(1.10030496), 'H_norm_log__': array(-0.60569651), 'noise_log__': array(2.78345223), 'E_norm': array(1.89900023), 'yield_norm': array(3.00508233), 'H_norm': array(0.54569422), 'noise': array(16.17476375)}\n"
     ]
    },
    {
     "name": "stderr",
     "output_type": "stream",
     "text": [
      "Auto-assigning NUTS sampler...\n",
      "Initializing NUTS using jitter+adapt_diag...\n",
      "Multiprocess sampling (3 chains in 3 jobs)\n",
      "NUTS: [noise, H_norm, yield_norm, E_norm]\n"
     ]
    },
    {
     "data": {
      "text/html": [
       "\n",
       "<style>\n",
       "    /* Turns off some styling */\n",
       "    progress {\n",
       "        /* gets rid of default border in Firefox and Opera. */\n",
       "        border: none;\n",
       "        /* Needs to be in here for Safari polyfill so background images work as expected. */\n",
       "        background-size: auto;\n",
       "    }\n",
       "    .progress-bar-interrupted, .progress-bar-interrupted::-webkit-progress-bar {\n",
       "        background: #F44336;\n",
       "    }\n",
       "</style>\n"
      ],
      "text/plain": [
       "<IPython.core.display.HTML object>"
      ]
     },
     "metadata": {},
     "output_type": "display_data"
    },
    {
     "data": {
      "text/html": [
       "\n",
       "    <div>\n",
       "      <progress value='27000' class='' max='27000' style='width:300px; height:20px; vertical-align: middle;'></progress>\n",
       "      100.00% [27000/27000 00:17<00:00 Sampling 3 chains, 0 divergences]\n",
       "    </div>\n",
       "    "
      ],
      "text/plain": [
       "<IPython.core.display.HTML object>"
      ]
     },
     "metadata": {},
     "output_type": "display_data"
    },
    {
     "name": "stderr",
     "output_type": "stream",
     "text": [
      "Sampling 3 chains for 4_000 tune and 5_000 draw iterations (12_000 + 15_000 draws total) took 28 seconds.\n"
     ]
    },
    {
     "data": {
      "text/html": [
       "\n",
       "<style>\n",
       "    /* Turns off some styling */\n",
       "    progress {\n",
       "        /* gets rid of default border in Firefox and Opera. */\n",
       "        border: none;\n",
       "        /* Needs to be in here for Safari polyfill so background images work as expected. */\n",
       "        background-size: auto;\n",
       "    }\n",
       "    .progress-bar-interrupted, .progress-bar-interrupted::-webkit-progress-bar {\n",
       "        background: #F44336;\n",
       "    }\n",
       "</style>\n"
      ],
      "text/plain": [
       "<IPython.core.display.HTML object>"
      ]
     },
     "metadata": {},
     "output_type": "display_data"
    },
    {
     "data": {
      "text/html": [
       "\n",
       "    <div>\n",
       "      <progress value='39' class='' max='39' style='width:300px; height:20px; vertical-align: middle;'></progress>\n",
       "      100.00% [39/39 00:00<00:00 logp = -459.78, ||grad|| = 627.27]\n",
       "    </div>\n",
       "    "
      ],
      "text/plain": [
       "<IPython.core.display.HTML object>"
      ]
     },
     "metadata": {},
     "output_type": "display_data"
    },
    {
     "name": "stdout",
     "output_type": "stream",
     "text": [
      "\n",
      "{'E_norm_log__': array(0.64143329), 'yield_norm_log__': array(1.09972716), 'H_norm_log__': array(-0.60321444), 'noise_log__': array(2.78726005), 'E_norm': array(1.89920104), 'yield_norm': array(3.00334647), 'H_norm': array(0.54705034), 'noise': array(16.23647171)}\n"
     ]
    },
    {
     "name": "stderr",
     "output_type": "stream",
     "text": [
      "Auto-assigning NUTS sampler...\n",
      "Initializing NUTS using jitter+adapt_diag...\n",
      "Multiprocess sampling (3 chains in 3 jobs)\n",
      "NUTS: [noise, H_norm, yield_norm, E_norm]\n"
     ]
    },
    {
     "data": {
      "text/html": [
       "\n",
       "<style>\n",
       "    /* Turns off some styling */\n",
       "    progress {\n",
       "        /* gets rid of default border in Firefox and Opera. */\n",
       "        border: none;\n",
       "        /* Needs to be in here for Safari polyfill so background images work as expected. */\n",
       "        background-size: auto;\n",
       "    }\n",
       "    .progress-bar-interrupted, .progress-bar-interrupted::-webkit-progress-bar {\n",
       "        background: #F44336;\n",
       "    }\n",
       "</style>\n"
      ],
      "text/plain": [
       "<IPython.core.display.HTML object>"
      ]
     },
     "metadata": {},
     "output_type": "display_data"
    },
    {
     "data": {
      "text/html": [
       "\n",
       "    <div>\n",
       "      <progress value='27000' class='' max='27000' style='width:300px; height:20px; vertical-align: middle;'></progress>\n",
       "      100.00% [27000/27000 00:16<00:00 Sampling 3 chains, 0 divergences]\n",
       "    </div>\n",
       "    "
      ],
      "text/plain": [
       "<IPython.core.display.HTML object>"
      ]
     },
     "metadata": {},
     "output_type": "display_data"
    },
    {
     "name": "stderr",
     "output_type": "stream",
     "text": [
      "Sampling 3 chains for 4_000 tune and 5_000 draw iterations (12_000 + 15_000 draws total) took 28 seconds.\n"
     ]
    },
    {
     "data": {
      "text/html": [
       "\n",
       "<style>\n",
       "    /* Turns off some styling */\n",
       "    progress {\n",
       "        /* gets rid of default border in Firefox and Opera. */\n",
       "        border: none;\n",
       "        /* Needs to be in here for Safari polyfill so background images work as expected. */\n",
       "        background-size: auto;\n",
       "    }\n",
       "    .progress-bar-interrupted, .progress-bar-interrupted::-webkit-progress-bar {\n",
       "        background: #F44336;\n",
       "    }\n",
       "</style>\n"
      ],
      "text/plain": [
       "<IPython.core.display.HTML object>"
      ]
     },
     "metadata": {},
     "output_type": "display_data"
    },
    {
     "data": {
      "text/html": [
       "\n",
       "    <div>\n",
       "      <progress value='43' class='' max='43' style='width:300px; height:20px; vertical-align: middle;'></progress>\n",
       "      100.00% [43/43 00:00<00:00 logp = -451.69, ||grad|| = 0.22093]\n",
       "    </div>\n",
       "    "
      ],
      "text/plain": [
       "<IPython.core.display.HTML object>"
      ]
     },
     "metadata": {},
     "output_type": "display_data"
    },
    {
     "name": "stdout",
     "output_type": "stream",
     "text": [
      "\n",
      "{'E_norm_log__': array(0.64153792), 'yield_norm_log__': array(1.09914293), 'H_norm_log__': array(-0.60071397), 'noise_log__': array(2.79111572), 'E_norm': array(1.89939975), 'yield_norm': array(3.00159234), 'H_norm': array(0.54841994), 'noise': array(16.29919499)}\n"
     ]
    },
    {
     "name": "stderr",
     "output_type": "stream",
     "text": [
      "Auto-assigning NUTS sampler...\n",
      "Initializing NUTS using jitter+adapt_diag...\n",
      "Multiprocess sampling (3 chains in 3 jobs)\n",
      "NUTS: [noise, H_norm, yield_norm, E_norm]\n"
     ]
    },
    {
     "data": {
      "text/html": [
       "\n",
       "<style>\n",
       "    /* Turns off some styling */\n",
       "    progress {\n",
       "        /* gets rid of default border in Firefox and Opera. */\n",
       "        border: none;\n",
       "        /* Needs to be in here for Safari polyfill so background images work as expected. */\n",
       "        background-size: auto;\n",
       "    }\n",
       "    .progress-bar-interrupted, .progress-bar-interrupted::-webkit-progress-bar {\n",
       "        background: #F44336;\n",
       "    }\n",
       "</style>\n"
      ],
      "text/plain": [
       "<IPython.core.display.HTML object>"
      ]
     },
     "metadata": {},
     "output_type": "display_data"
    },
    {
     "data": {
      "text/html": [
       "\n",
       "    <div>\n",
       "      <progress value='27000' class='' max='27000' style='width:300px; height:20px; vertical-align: middle;'></progress>\n",
       "      100.00% [27000/27000 00:17<00:00 Sampling 3 chains, 0 divergences]\n",
       "    </div>\n",
       "    "
      ],
      "text/plain": [
       "<IPython.core.display.HTML object>"
      ]
     },
     "metadata": {},
     "output_type": "display_data"
    },
    {
     "name": "stderr",
     "output_type": "stream",
     "text": [
      "Sampling 3 chains for 4_000 tune and 5_000 draw iterations (12_000 + 15_000 draws total) took 28 seconds.\n"
     ]
    },
    {
     "data": {
      "text/html": [
       "\n",
       "<style>\n",
       "    /* Turns off some styling */\n",
       "    progress {\n",
       "        /* gets rid of default border in Firefox and Opera. */\n",
       "        border: none;\n",
       "        /* Needs to be in here for Safari polyfill so background images work as expected. */\n",
       "        background-size: auto;\n",
       "    }\n",
       "    .progress-bar-interrupted, .progress-bar-interrupted::-webkit-progress-bar {\n",
       "        background: #F44336;\n",
       "    }\n",
       "</style>\n"
      ],
      "text/plain": [
       "<IPython.core.display.HTML object>"
      ]
     },
     "metadata": {},
     "output_type": "display_data"
    },
    {
     "data": {
      "text/html": [
       "\n",
       "    <div>\n",
       "      <progress value='54' class='' max='54' style='width:300px; height:20px; vertical-align: middle;'></progress>\n",
       "      100.00% [54/54 00:00<00:00 logp = -455.25, ||grad|| = 2.6476]\n",
       "    </div>\n",
       "    "
      ],
      "text/plain": [
       "<IPython.core.display.HTML object>"
      ]
     },
     "metadata": {},
     "output_type": "display_data"
    },
    {
     "name": "stdout",
     "output_type": "stream",
     "text": [
      "\n",
      "{'E_norm_log__': array(0.6416467), 'yield_norm_log__': array(1.09855344), 'H_norm_log__': array(-0.5981942), 'noise_log__': array(2.79501558), 'E_norm': array(1.89960639), 'yield_norm': array(2.99982346), 'H_norm': array(0.54980357), 'noise': array(16.36288361)}\n"
     ]
    },
    {
     "name": "stderr",
     "output_type": "stream",
     "text": [
      "Auto-assigning NUTS sampler...\n",
      "Initializing NUTS using jitter+adapt_diag...\n",
      "Multiprocess sampling (3 chains in 3 jobs)\n",
      "NUTS: [noise, H_norm, yield_norm, E_norm]\n"
     ]
    },
    {
     "data": {
      "text/html": [
       "\n",
       "<style>\n",
       "    /* Turns off some styling */\n",
       "    progress {\n",
       "        /* gets rid of default border in Firefox and Opera. */\n",
       "        border: none;\n",
       "        /* Needs to be in here for Safari polyfill so background images work as expected. */\n",
       "        background-size: auto;\n",
       "    }\n",
       "    .progress-bar-interrupted, .progress-bar-interrupted::-webkit-progress-bar {\n",
       "        background: #F44336;\n",
       "    }\n",
       "</style>\n"
      ],
      "text/plain": [
       "<IPython.core.display.HTML object>"
      ]
     },
     "metadata": {},
     "output_type": "display_data"
    },
    {
     "data": {
      "text/html": [
       "\n",
       "    <div>\n",
       "      <progress value='27000' class='' max='27000' style='width:300px; height:20px; vertical-align: middle;'></progress>\n",
       "      100.00% [27000/27000 00:17<00:00 Sampling 3 chains, 0 divergences]\n",
       "    </div>\n",
       "    "
      ],
      "text/plain": [
       "<IPython.core.display.HTML object>"
      ]
     },
     "metadata": {},
     "output_type": "display_data"
    },
    {
     "name": "stderr",
     "output_type": "stream",
     "text": [
      "Sampling 3 chains for 4_000 tune and 5_000 draw iterations (12_000 + 15_000 draws total) took 28 seconds.\n"
     ]
    },
    {
     "data": {
      "text/html": [
       "\n",
       "<style>\n",
       "    /* Turns off some styling */\n",
       "    progress {\n",
       "        /* gets rid of default border in Firefox and Opera. */\n",
       "        border: none;\n",
       "        /* Needs to be in here for Safari polyfill so background images work as expected. */\n",
       "        background-size: auto;\n",
       "    }\n",
       "    .progress-bar-interrupted, .progress-bar-interrupted::-webkit-progress-bar {\n",
       "        background: #F44336;\n",
       "    }\n",
       "</style>\n"
      ],
      "text/plain": [
       "<IPython.core.display.HTML object>"
      ]
     },
     "metadata": {},
     "output_type": "display_data"
    },
    {
     "data": {
      "text/html": [
       "\n",
       "    <div>\n",
       "      <progress value='53' class='' max='53' style='width:300px; height:20px; vertical-align: middle;'></progress>\n",
       "      100.00% [53/53 00:00<00:00 logp = -459.25, ||grad|| = 1.1566]\n",
       "    </div>\n",
       "    "
      ],
      "text/plain": [
       "<IPython.core.display.HTML object>"
      ]
     },
     "metadata": {},
     "output_type": "display_data"
    },
    {
     "name": "stdout",
     "output_type": "stream",
     "text": [
      "\n",
      "{'E_norm_log__': array(0.64721157), 'yield_norm_log__': array(1.09206716), 'H_norm_log__': array(-0.58430272), 'noise_log__': array(2.79999088), 'E_norm': array(1.91020692), 'yield_norm': array(2.98042872), 'H_norm': array(0.55749446), 'noise': array(16.44449672)}\n"
     ]
    },
    {
     "name": "stderr",
     "output_type": "stream",
     "text": [
      "Auto-assigning NUTS sampler...\n",
      "Initializing NUTS using jitter+adapt_diag...\n",
      "Multiprocess sampling (3 chains in 3 jobs)\n",
      "NUTS: [noise, H_norm, yield_norm, E_norm]\n"
     ]
    },
    {
     "data": {
      "text/html": [
       "\n",
       "<style>\n",
       "    /* Turns off some styling */\n",
       "    progress {\n",
       "        /* gets rid of default border in Firefox and Opera. */\n",
       "        border: none;\n",
       "        /* Needs to be in here for Safari polyfill so background images work as expected. */\n",
       "        background-size: auto;\n",
       "    }\n",
       "    .progress-bar-interrupted, .progress-bar-interrupted::-webkit-progress-bar {\n",
       "        background: #F44336;\n",
       "    }\n",
       "</style>\n"
      ],
      "text/plain": [
       "<IPython.core.display.HTML object>"
      ]
     },
     "metadata": {},
     "output_type": "display_data"
    },
    {
     "data": {
      "text/html": [
       "\n",
       "    <div>\n",
       "      <progress value='27000' class='' max='27000' style='width:300px; height:20px; vertical-align: middle;'></progress>\n",
       "      100.00% [27000/27000 00:17<00:00 Sampling 3 chains, 0 divergences]\n",
       "    </div>\n",
       "    "
      ],
      "text/plain": [
       "<IPython.core.display.HTML object>"
      ]
     },
     "metadata": {},
     "output_type": "display_data"
    },
    {
     "name": "stderr",
     "output_type": "stream",
     "text": [
      "Sampling 3 chains for 4_000 tune and 5_000 draw iterations (12_000 + 15_000 draws total) took 28 seconds.\n",
      "The acceptance probability does not match the target. It is 0.7012438570388089, but should be close to 0.8. Try to increase the number of tuning steps.\n"
     ]
    },
    {
     "data": {
      "text/html": [
       "\n",
       "<style>\n",
       "    /* Turns off some styling */\n",
       "    progress {\n",
       "        /* gets rid of default border in Firefox and Opera. */\n",
       "        border: none;\n",
       "        /* Needs to be in here for Safari polyfill so background images work as expected. */\n",
       "        background-size: auto;\n",
       "    }\n",
       "    .progress-bar-interrupted, .progress-bar-interrupted::-webkit-progress-bar {\n",
       "        background: #F44336;\n",
       "    }\n",
       "</style>\n"
      ],
      "text/plain": [
       "<IPython.core.display.HTML object>"
      ]
     },
     "metadata": {},
     "output_type": "display_data"
    },
    {
     "data": {
      "text/html": [
       "\n",
       "    <div>\n",
       "      <progress value='31' class='' max='31' style='width:300px; height:20px; vertical-align: middle;'></progress>\n",
       "      100.00% [31/31 00:00<00:00 logp = -625.73, ||grad|| = 0.0096842]\n",
       "    </div>\n",
       "    "
      ],
      "text/plain": [
       "<IPython.core.display.HTML object>"
      ]
     },
     "metadata": {},
     "output_type": "display_data"
    },
    {
     "name": "stdout",
     "output_type": "stream",
     "text": [
      "\n",
      "{'E_norm_log__': array(0.09544426), 'yield_norm_log__': array(2.19720315), 'H_norm_log__': array(2.19720548), 'noise_log__': array(4.07128109), 'E_norm': array(1.1001475), 'yield_norm': array(8.99980713), 'H_norm': array(8.99982809), 'noise': array(58.6320274)}\n"
     ]
    },
    {
     "data": {
      "image/png": "[encoded data removed]",
      "text/plain": [
       "<Figure size 432x288 with 1 Axes>"
      ]
     },
     "metadata": {
      "needs_background": "light"
     },
     "output_type": "display_data"
    }
   ],
   "source": [
    "alpha_range = np.linspace(2, 10, 10)\n",
    "Es = np.zeros_like(alpha_range)\n",
    "yields = np.zeros_like(alpha_range)\n",
    "Hs = np.zeros_like(alpha_range)\n",
    "noises = np.zeros_like(alpha_range)\n",
    "\n",
    "for cnt, alpha in enumerate(alpha_range):\n",
    "    pymc_material_model_iter = linear_regression(strain, stress, alphas = [alpha] * 4, betas = [1] * 4)\n",
    "    \n",
    "    posterior_iter = pm.sample(draws = 5000, \n",
    "                      tune = 4000, \n",
    "                      model = pymc_material_model_iter, \n",
    "                      discard_tuned_samples = True,\n",
    "                     return_inferencedata=True,\n",
    "                     cores = 3)\n",
    "    \n",
    "    map_estimate_iter = pm.find_MAP(model = pymc_material_model_iter)\n",
    "    \n",
    "    Es[cnt] = map_estimate_iter['E_norm']\n",
    "    yields[cnt] = map_estimate_iter['yield_norm']\n",
    "    Hs[cnt] = map_estimate_iter['H_norm']\n",
    "    noises[cnt] = map_estimate_iter['noise']\n",
    "\n",
    "    print(map_estimate_iter)\n",
    "    \n",
    "plt.figure()\n",
    "plt.plot(alpha_range, Es, color = \"#003f5c\", label = r\"$\\tilde{E}$\")\n",
    "plt.plot(alpha_range, yields, color = \"#7a5195\", label = r\"$\\tilde{\\sigma}_{y_0}$\")\n",
    "plt.plot(alpha_range, Hs, color = \"#ef5675\", label = r\"$\\tilde{H}$\")\n",
    "plt.plot(alpha_range, noises, color = \"#ffa600\", label = r\"$\\eta$\")\n",
    "plt.legend()\n",
    "plt.xlabel(r\"$\\alpha$ prior parameter variation\")\n",
    "plt.grid()\n",
    "plt.savefig(\"./images/Q3a_13.pdf\")\n",
    "plt.show()"
   ]
  },
  {
   "cell_type": "code",
   "execution_count": 41,
   "id": "19ea63e9",
   "metadata": {
    "scrolled": true
   },
   "outputs": [
    {
     "name": "stderr",
     "output_type": "stream",
     "text": [
      "Auto-assigning NUTS sampler...\n",
      "Initializing NUTS using jitter+adapt_diag...\n",
      "Multiprocess sampling (3 chains in 3 jobs)\n",
      "NUTS: [noise, H_norm, yield_norm, E_norm]\n"
     ]
    },
    {
     "data": {
      "text/html": [
       "\n",
       "<style>\n",
       "    /* Turns off some styling */\n",
       "    progress {\n",
       "        /* gets rid of default border in Firefox and Opera. */\n",
       "        border: none;\n",
       "        /* Needs to be in here for Safari polyfill so background images work as expected. */\n",
       "        background-size: auto;\n",
       "    }\n",
       "    .progress-bar-interrupted, .progress-bar-interrupted::-webkit-progress-bar {\n",
       "        background: #F44336;\n",
       "    }\n",
       "</style>\n"
      ],
      "text/plain": [
       "<IPython.core.display.HTML object>"
      ]
     },
     "metadata": {},
     "output_type": "display_data"
    },
    {
     "data": {
      "text/html": [
       "\n",
       "    <div>\n",
       "      <progress value='27000' class='' max='27000' style='width:300px; height:20px; vertical-align: middle;'></progress>\n",
       "      100.00% [27000/27000 00:17<00:00 Sampling 3 chains, 0 divergences]\n",
       "    </div>\n",
       "    "
      ],
      "text/plain": [
       "<IPython.core.display.HTML object>"
      ]
     },
     "metadata": {},
     "output_type": "display_data"
    },
    {
     "name": "stderr",
     "output_type": "stream",
     "text": [
      "Sampling 3 chains for 4_000 tune and 5_000 draw iterations (12_000 + 15_000 draws total) took 29 seconds.\n"
     ]
    },
    {
     "data": {
      "text/html": [
       "\n",
       "<style>\n",
       "    /* Turns off some styling */\n",
       "    progress {\n",
       "        /* gets rid of default border in Firefox and Opera. */\n",
       "        border: none;\n",
       "        /* Needs to be in here for Safari polyfill so background images work as expected. */\n",
       "        background-size: auto;\n",
       "    }\n",
       "    .progress-bar-interrupted, .progress-bar-interrupted::-webkit-progress-bar {\n",
       "        background: #F44336;\n",
       "    }\n",
       "</style>\n"
      ],
      "text/plain": [
       "<IPython.core.display.HTML object>"
      ]
     },
     "metadata": {},
     "output_type": "display_data"
    },
    {
     "data": {
      "text/html": [
       "\n",
       "    <div>\n",
       "      <progress value='39' class='' max='39' style='width:300px; height:20px; vertical-align: middle;'></progress>\n",
       "      100.00% [39/39 00:00<00:00 logp = -590.07, ||grad|| = 1.3498]\n",
       "    </div>\n",
       "    "
      ],
      "text/plain": [
       "<IPython.core.display.HTML object>"
      ]
     },
     "metadata": {},
     "output_type": "display_data"
    },
    {
     "name": "stdout",
     "output_type": "stream",
     "text": [
      "\n",
      "{'E_norm_log__': array(0.09370303), 'yield_norm_log__': array(2.99121379), 'H_norm_log__': array(2.99911458), 'noise_log__': array(4.24820893), 'E_norm': array(1.09823355), 'yield_norm': array(19.90983411), 'H_norm': array(20.06776068), 'noise': array(69.97996109)}\n"
     ]
    },
    {
     "name": "stderr",
     "output_type": "stream",
     "text": [
      "Auto-assigning NUTS sampler...\n",
      "Initializing NUTS using jitter+adapt_diag...\n",
      "Multiprocess sampling (3 chains in 3 jobs)\n",
      "NUTS: [noise, H_norm, yield_norm, E_norm]\n"
     ]
    },
    {
     "data": {
      "text/html": [
       "\n",
       "<style>\n",
       "    /* Turns off some styling */\n",
       "    progress {\n",
       "        /* gets rid of default border in Firefox and Opera. */\n",
       "        border: none;\n",
       "        /* Needs to be in here for Safari polyfill so background images work as expected. */\n",
       "        background-size: auto;\n",
       "    }\n",
       "    .progress-bar-interrupted, .progress-bar-interrupted::-webkit-progress-bar {\n",
       "        background: #F44336;\n",
       "    }\n",
       "</style>\n"
      ],
      "text/plain": [
       "<IPython.core.display.HTML object>"
      ]
     },
     "metadata": {},
     "output_type": "display_data"
    },
    {
     "data": {
      "text/html": [
       "\n",
       "    <div>\n",
       "      <progress value='27000' class='' max='27000' style='width:300px; height:20px; vertical-align: middle;'></progress>\n",
       "      100.00% [27000/27000 00:17<00:00 Sampling 3 chains, 0 divergences]\n",
       "    </div>\n",
       "    "
      ],
      "text/plain": [
       "<IPython.core.display.HTML object>"
      ]
     },
     "metadata": {},
     "output_type": "display_data"
    },
    {
     "name": "stderr",
     "output_type": "stream",
     "text": [
      "Sampling 3 chains for 4_000 tune and 5_000 draw iterations (12_000 + 15_000 draws total) took 29 seconds.\n"
     ]
    },
    {
     "data": {
      "text/html": [
       "\n",
       "<style>\n",
       "    /* Turns off some styling */\n",
       "    progress {\n",
       "        /* gets rid of default border in Firefox and Opera. */\n",
       "        border: none;\n",
       "        /* Needs to be in here for Safari polyfill so background images work as expected. */\n",
       "        background-size: auto;\n",
       "    }\n",
       "    .progress-bar-interrupted, .progress-bar-interrupted::-webkit-progress-bar {\n",
       "        background: #F44336;\n",
       "    }\n",
       "</style>\n"
      ],
      "text/plain": [
       "<IPython.core.display.HTML object>"
      ]
     },
     "metadata": {},
     "output_type": "display_data"
    },
    {
     "data": {
      "text/html": [
       "\n",
       "    <div>\n",
       "      <progress value='37' class='' max='37' style='width:300px; height:20px; vertical-align: middle;'></progress>\n",
       "      100.00% [37/37 00:00<00:00 logp = -590.37, ||grad|| = 0.020643]\n",
       "    </div>\n",
       "    "
      ],
      "text/plain": [
       "<IPython.core.display.HTML object>"
      ]
     },
     "metadata": {},
     "output_type": "display_data"
    },
    {
     "name": "stdout",
     "output_type": "stream",
     "text": [
      "\n",
      "{'E_norm_log__': array(0.09362704), 'yield_norm_log__': array(2.58636327), 'H_norm_log__': array(2.58634194), 'noise_log__': array(4.23253196), 'E_norm': array(1.09815011), 'yield_norm': array(13.2813829), 'H_norm': array(13.28109954), 'noise': array(68.89144194)}\n"
     ]
    },
    {
     "name": "stderr",
     "output_type": "stream",
     "text": [
      "Auto-assigning NUTS sampler...\n",
      "Initializing NUTS using jitter+adapt_diag...\n",
      "Multiprocess sampling (3 chains in 3 jobs)\n",
      "NUTS: [noise, H_norm, yield_norm, E_norm]\n"
     ]
    },
    {
     "data": {
      "text/html": [
       "\n",
       "<style>\n",
       "    /* Turns off some styling */\n",
       "    progress {\n",
       "        /* gets rid of default border in Firefox and Opera. */\n",
       "        border: none;\n",
       "        /* Needs to be in here for Safari polyfill so background images work as expected. */\n",
       "        background-size: auto;\n",
       "    }\n",
       "    .progress-bar-interrupted, .progress-bar-interrupted::-webkit-progress-bar {\n",
       "        background: #F44336;\n",
       "    }\n",
       "</style>\n"
      ],
      "text/plain": [
       "<IPython.core.display.HTML object>"
      ]
     },
     "metadata": {},
     "output_type": "display_data"
    },
    {
     "data": {
      "text/html": [
       "\n",
       "    <div>\n",
       "      <progress value='27000' class='' max='27000' style='width:300px; height:20px; vertical-align: middle;'></progress>\n",
       "      100.00% [27000/27000 00:17<00:00 Sampling 3 chains, 0 divergences]\n",
       "    </div>\n",
       "    "
      ],
      "text/plain": [
       "<IPython.core.display.HTML object>"
      ]
     },
     "metadata": {},
     "output_type": "display_data"
    },
    {
     "name": "stderr",
     "output_type": "stream",
     "text": [
      "Sampling 3 chains for 4_000 tune and 5_000 draw iterations (12_000 + 15_000 draws total) took 28 seconds.\n"
     ]
    },
    {
     "data": {
      "text/html": [
       "\n",
       "<style>\n",
       "    /* Turns off some styling */\n",
       "    progress {\n",
       "        /* gets rid of default border in Firefox and Opera. */\n",
       "        border: none;\n",
       "        /* Needs to be in here for Safari polyfill so background images work as expected. */\n",
       "        background-size: auto;\n",
       "    }\n",
       "    .progress-bar-interrupted, .progress-bar-interrupted::-webkit-progress-bar {\n",
       "        background: #F44336;\n",
       "    }\n",
       "</style>\n"
      ],
      "text/plain": [
       "<IPython.core.display.HTML object>"
      ]
     },
     "metadata": {},
     "output_type": "display_data"
    },
    {
     "data": {
      "text/html": [
       "\n",
       "    <div>\n",
       "      <progress value='29' class='' max='29' style='width:300px; height:20px; vertical-align: middle;'></progress>\n",
       "      100.00% [29/29 00:00<00:00 logp = -592.39, ||grad|| = 1.0564]\n",
       "    </div>\n",
       "    "
      ],
      "text/plain": [
       "<IPython.core.display.HTML object>"
      ]
     },
     "metadata": {},
     "output_type": "display_data"
    },
    {
     "name": "stdout",
     "output_type": "stream",
     "text": [
      "\n",
      "{'E_norm_log__': array(0.09355157), 'yield_norm_log__': array(2.17606261), 'H_norm_log__': array(2.17395443), 'noise_log__': array(4.21040241), 'E_norm': array(1.09806723), 'yield_norm': array(8.8115434), 'H_norm': array(8.79298661), 'noise': array(67.38365052)}\n"
     ]
    },
    {
     "name": "stderr",
     "output_type": "stream",
     "text": [
      "Auto-assigning NUTS sampler...\n",
      "Initializing NUTS using jitter+adapt_diag...\n",
      "Multiprocess sampling (3 chains in 3 jobs)\n",
      "NUTS: [noise, H_norm, yield_norm, E_norm]\n"
     ]
    },
    {
     "data": {
      "text/html": [
       "\n",
       "<style>\n",
       "    /* Turns off some styling */\n",
       "    progress {\n",
       "        /* gets rid of default border in Firefox and Opera. */\n",
       "        border: none;\n",
       "        /* Needs to be in here for Safari polyfill so background images work as expected. */\n",
       "        background-size: auto;\n",
       "    }\n",
       "    .progress-bar-interrupted, .progress-bar-interrupted::-webkit-progress-bar {\n",
       "        background: #F44336;\n",
       "    }\n",
       "</style>\n"
      ],
      "text/plain": [
       "<IPython.core.display.HTML object>"
      ]
     },
     "metadata": {},
     "output_type": "display_data"
    },
    {
     "data": {
      "text/html": [
       "\n",
       "    <div>\n",
       "      <progress value='27000' class='' max='27000' style='width:300px; height:20px; vertical-align: middle;'></progress>\n",
       "      100.00% [27000/27000 00:17<00:00 Sampling 3 chains, 79 divergences]\n",
       "    </div>\n",
       "    "
      ],
      "text/plain": [
       "<IPython.core.display.HTML object>"
      ]
     },
     "metadata": {},
     "output_type": "display_data"
    },
    {
     "name": "stderr",
     "output_type": "stream",
     "text": [
      "Sampling 3 chains for 4_000 tune and 5_000 draw iterations (12_000 + 15_000 draws total) took 28 seconds.\n",
      "There were 79 divergences after tuning. Increase `target_accept` or reparameterize.\n",
      "The acceptance probability does not match the target. It is 0.5559248179838738, but should be close to 0.8. Try to increase the number of tuning steps.\n"
     ]
    },
    {
     "data": {
      "text/html": [
       "\n",
       "<style>\n",
       "    /* Turns off some styling */\n",
       "    progress {\n",
       "        /* gets rid of default border in Firefox and Opera. */\n",
       "        border: none;\n",
       "        /* Needs to be in here for Safari polyfill so background images work as expected. */\n",
       "        background-size: auto;\n",
       "    }\n",
       "    .progress-bar-interrupted, .progress-bar-interrupted::-webkit-progress-bar {\n",
       "        background: #F44336;\n",
       "    }\n",
       "</style>\n"
      ],
      "text/plain": [
       "<IPython.core.display.HTML object>"
      ]
     },
     "metadata": {},
     "output_type": "display_data"
    },
    {
     "data": {
      "text/html": [
       "\n",
       "    <div>\n",
       "      <progress value='48' class='' max='48' style='width:300px; height:20px; vertical-align: middle;'></progress>\n",
       "      100.00% [48/48 00:00<00:00 logp = -441.74, ||grad|| = 73.437]\n",
       "    </div>\n",
       "    "
      ],
      "text/plain": [
       "<IPython.core.display.HTML object>"
      ]
     },
     "metadata": {},
     "output_type": "display_data"
    },
    {
     "name": "stdout",
     "output_type": "stream",
     "text": [
      "\n",
      "{'E_norm_log__': array(0.64120126), 'yield_norm_log__': array(1.10199274), 'H_norm_log__': array(-0.61261987), 'noise_log__': array(2.81994505), 'E_norm': array(1.89876041), 'yield_norm': array(3.01015851), 'H_norm': array(0.54192922), 'noise': array(16.7759288)}\n"
     ]
    },
    {
     "name": "stderr",
     "output_type": "stream",
     "text": [
      "Auto-assigning NUTS sampler...\n",
      "Initializing NUTS using jitter+adapt_diag...\n",
      "Multiprocess sampling (3 chains in 3 jobs)\n",
      "NUTS: [noise, H_norm, yield_norm, E_norm]\n"
     ]
    },
    {
     "data": {
      "text/html": [
       "\n",
       "<style>\n",
       "    /* Turns off some styling */\n",
       "    progress {\n",
       "        /* gets rid of default border in Firefox and Opera. */\n",
       "        border: none;\n",
       "        /* Needs to be in here for Safari polyfill so background images work as expected. */\n",
       "        background-size: auto;\n",
       "    }\n",
       "    .progress-bar-interrupted, .progress-bar-interrupted::-webkit-progress-bar {\n",
       "        background: #F44336;\n",
       "    }\n",
       "</style>\n"
      ],
      "text/plain": [
       "<IPython.core.display.HTML object>"
      ]
     },
     "metadata": {},
     "output_type": "display_data"
    },
    {
     "data": {
      "text/html": [
       "\n",
       "    <div>\n",
       "      <progress value='27000' class='' max='27000' style='width:300px; height:20px; vertical-align: middle;'></progress>\n",
       "      100.00% [27000/27000 00:17<00:00 Sampling 3 chains, 0 divergences]\n",
       "    </div>\n",
       "    "
      ],
      "text/plain": [
       "<IPython.core.display.HTML object>"
      ]
     },
     "metadata": {},
     "output_type": "display_data"
    },
    {
     "name": "stderr",
     "output_type": "stream",
     "text": [
      "Sampling 3 chains for 4_000 tune and 5_000 draw iterations (12_000 + 15_000 draws total) took 28 seconds.\n"
     ]
    },
    {
     "data": {
      "text/html": [
       "\n",
       "<style>\n",
       "    /* Turns off some styling */\n",
       "    progress {\n",
       "        /* gets rid of default border in Firefox and Opera. */\n",
       "        border: none;\n",
       "        /* Needs to be in here for Safari polyfill so background images work as expected. */\n",
       "        background-size: auto;\n",
       "    }\n",
       "    .progress-bar-interrupted, .progress-bar-interrupted::-webkit-progress-bar {\n",
       "        background: #F44336;\n",
       "    }\n",
       "</style>\n"
      ],
      "text/plain": [
       "<IPython.core.display.HTML object>"
      ]
     },
     "metadata": {},
     "output_type": "display_data"
    },
    {
     "data": {
      "text/html": [
       "\n",
       "    <div>\n",
       "      <progress value='43' class='' max='43' style='width:300px; height:20px; vertical-align: middle;'></progress>\n",
       "      100.00% [43/43 00:00<00:00 logp = -440.02, ||grad|| = 0.3673]\n",
       "    </div>\n",
       "    "
      ],
      "text/plain": [
       "<IPython.core.display.HTML object>"
      ]
     },
     "metadata": {},
     "output_type": "display_data"
    },
    {
     "name": "stdout",
     "output_type": "stream",
     "text": [
      "\n",
      "{'E_norm_log__': array(0.64115392), 'yield_norm_log__': array(1.10197723), 'H_norm_log__': array(-0.61265575), 'noise_log__': array(2.8066997), 'E_norm': array(1.89867054), 'yield_norm': array(3.01011182), 'H_norm': array(0.54190978), 'noise': array(16.55519089)}\n"
     ]
    },
    {
     "name": "stderr",
     "output_type": "stream",
     "text": [
      "Auto-assigning NUTS sampler...\n",
      "Initializing NUTS using jitter+adapt_diag...\n",
      "Multiprocess sampling (3 chains in 3 jobs)\n",
      "NUTS: [noise, H_norm, yield_norm, E_norm]\n"
     ]
    },
    {
     "data": {
      "text/html": [
       "\n",
       "<style>\n",
       "    /* Turns off some styling */\n",
       "    progress {\n",
       "        /* gets rid of default border in Firefox and Opera. */\n",
       "        border: none;\n",
       "        /* Needs to be in here for Safari polyfill so background images work as expected. */\n",
       "        background-size: auto;\n",
       "    }\n",
       "    .progress-bar-interrupted, .progress-bar-interrupted::-webkit-progress-bar {\n",
       "        background: #F44336;\n",
       "    }\n",
       "</style>\n"
      ],
      "text/plain": [
       "<IPython.core.display.HTML object>"
      ]
     },
     "metadata": {},
     "output_type": "display_data"
    },
    {
     "data": {
      "text/html": [
       "\n",
       "    <div>\n",
       "      <progress value='27000' class='' max='27000' style='width:300px; height:20px; vertical-align: middle;'></progress>\n",
       "      100.00% [27000/27000 00:17<00:00 Sampling 3 chains, 0 divergences]\n",
       "    </div>\n",
       "    "
      ],
      "text/plain": [
       "<IPython.core.display.HTML object>"
      ]
     },
     "metadata": {},
     "output_type": "display_data"
    },
    {
     "name": "stderr",
     "output_type": "stream",
     "text": [
      "Sampling 3 chains for 4_000 tune and 5_000 draw iterations (12_000 + 15_000 draws total) took 28 seconds.\n"
     ]
    },
    {
     "data": {
      "text/html": [
       "\n",
       "<style>\n",
       "    /* Turns off some styling */\n",
       "    progress {\n",
       "        /* gets rid of default border in Firefox and Opera. */\n",
       "        border: none;\n",
       "        /* Needs to be in here for Safari polyfill so background images work as expected. */\n",
       "        background-size: auto;\n",
       "    }\n",
       "    .progress-bar-interrupted, .progress-bar-interrupted::-webkit-progress-bar {\n",
       "        background: #F44336;\n",
       "    }\n",
       "</style>\n"
      ],
      "text/plain": [
       "<IPython.core.display.HTML object>"
      ]
     },
     "metadata": {},
     "output_type": "display_data"
    },
    {
     "data": {
      "text/html": [
       "\n",
       "    <div>\n",
       "      <progress value='30' class='' max='30' style='width:300px; height:20px; vertical-align: middle;'></progress>\n",
       "      100.00% [30/30 00:00<00:00 logp = -446, ||grad|| = 329.3]\n",
       "    </div>\n",
       "    "
      ],
      "text/plain": [
       "<IPython.core.display.HTML object>"
      ]
     },
     "metadata": {},
     "output_type": "display_data"
    },
    {
     "name": "stdout",
     "output_type": "stream",
     "text": [
      "\n",
      "{'E_norm_log__': array(0.64108628), 'yield_norm_log__': array(1.10195177), 'H_norm_log__': array(-0.61268607), 'noise_log__': array(2.78795984), 'E_norm': array(1.89854211), 'yield_norm': array(3.0100352), 'H_norm': array(0.54189335), 'noise': array(16.24783772)}\n"
     ]
    },
    {
     "name": "stderr",
     "output_type": "stream",
     "text": [
      "Auto-assigning NUTS sampler...\n",
      "Initializing NUTS using jitter+adapt_diag...\n",
      "Multiprocess sampling (3 chains in 3 jobs)\n",
      "NUTS: [noise, H_norm, yield_norm, E_norm]\n"
     ]
    },
    {
     "data": {
      "text/html": [
       "\n",
       "<style>\n",
       "    /* Turns off some styling */\n",
       "    progress {\n",
       "        /* gets rid of default border in Firefox and Opera. */\n",
       "        border: none;\n",
       "        /* Needs to be in here for Safari polyfill so background images work as expected. */\n",
       "        background-size: auto;\n",
       "    }\n",
       "    .progress-bar-interrupted, .progress-bar-interrupted::-webkit-progress-bar {\n",
       "        background: #F44336;\n",
       "    }\n",
       "</style>\n"
      ],
      "text/plain": [
       "<IPython.core.display.HTML object>"
      ]
     },
     "metadata": {},
     "output_type": "display_data"
    },
    {
     "data": {
      "text/html": [
       "\n",
       "    <div>\n",
       "      <progress value='27000' class='' max='27000' style='width:300px; height:20px; vertical-align: middle;'></progress>\n",
       "      100.00% [27000/27000 00:16<00:00 Sampling 3 chains, 0 divergences]\n",
       "    </div>\n",
       "    "
      ],
      "text/plain": [
       "<IPython.core.display.HTML object>"
      ]
     },
     "metadata": {},
     "output_type": "display_data"
    },
    {
     "name": "stderr",
     "output_type": "stream",
     "text": [
      "Sampling 3 chains for 4_000 tune and 5_000 draw iterations (12_000 + 15_000 draws total) took 28 seconds.\n"
     ]
    },
    {
     "data": {
      "text/html": [
       "\n",
       "<style>\n",
       "    /* Turns off some styling */\n",
       "    progress {\n",
       "        /* gets rid of default border in Firefox and Opera. */\n",
       "        border: none;\n",
       "        /* Needs to be in here for Safari polyfill so background images work as expected. */\n",
       "        background-size: auto;\n",
       "    }\n",
       "    .progress-bar-interrupted, .progress-bar-interrupted::-webkit-progress-bar {\n",
       "        background: #F44336;\n",
       "    }\n",
       "</style>\n"
      ],
      "text/plain": [
       "<IPython.core.display.HTML object>"
      ]
     },
     "metadata": {},
     "output_type": "display_data"
    },
    {
     "data": {
      "text/html": [
       "\n",
       "    <div>\n",
       "      <progress value='26' class='' max='26' style='width:300px; height:20px; vertical-align: middle;'></progress>\n",
       "      100.00% [26/26 00:00<00:00 logp = -444.3, ||grad|| = 4.2012]\n",
       "    </div>\n",
       "    "
      ],
      "text/plain": [
       "<IPython.core.display.HTML object>"
      ]
     },
     "metadata": {},
     "output_type": "display_data"
    },
    {
     "name": "stdout",
     "output_type": "stream",
     "text": [
      "\n",
      "{'E_norm_log__': array(0.64099315), 'yield_norm_log__': array(1.10191379), 'H_norm_log__': array(-0.6127152), 'noise_log__': array(2.7620585), 'E_norm': array(1.89836531), 'yield_norm': array(3.00992087), 'H_norm': array(0.54187756), 'noise': array(15.83240035)}\n"
     ]
    },
    {
     "name": "stderr",
     "output_type": "stream",
     "text": [
      "Auto-assigning NUTS sampler...\n",
      "Initializing NUTS using jitter+adapt_diag...\n",
      "Multiprocess sampling (3 chains in 3 jobs)\n",
      "NUTS: [noise, H_norm, yield_norm, E_norm]\n"
     ]
    },
    {
     "data": {
      "text/html": [
       "\n",
       "<style>\n",
       "    /* Turns off some styling */\n",
       "    progress {\n",
       "        /* gets rid of default border in Firefox and Opera. */\n",
       "        border: none;\n",
       "        /* Needs to be in here for Safari polyfill so background images work as expected. */\n",
       "        background-size: auto;\n",
       "    }\n",
       "    .progress-bar-interrupted, .progress-bar-interrupted::-webkit-progress-bar {\n",
       "        background: #F44336;\n",
       "    }\n",
       "</style>\n"
      ],
      "text/plain": [
       "<IPython.core.display.HTML object>"
      ]
     },
     "metadata": {},
     "output_type": "display_data"
    },
    {
     "data": {
      "text/html": [
       "\n",
       "    <div>\n",
       "      <progress value='27000' class='' max='27000' style='width:300px; height:20px; vertical-align: middle;'></progress>\n",
       "      100.00% [27000/27000 00:16<00:00 Sampling 3 chains, 0 divergences]\n",
       "    </div>\n",
       "    "
      ],
      "text/plain": [
       "<IPython.core.display.HTML object>"
      ]
     },
     "metadata": {},
     "output_type": "display_data"
    },
    {
     "name": "stderr",
     "output_type": "stream",
     "text": [
      "Sampling 3 chains for 4_000 tune and 5_000 draw iterations (12_000 + 15_000 draws total) took 28 seconds.\n"
     ]
    },
    {
     "data": {
      "text/html": [
       "\n",
       "<style>\n",
       "    /* Turns off some styling */\n",
       "    progress {\n",
       "        /* gets rid of default border in Firefox and Opera. */\n",
       "        border: none;\n",
       "        /* Needs to be in here for Safari polyfill so background images work as expected. */\n",
       "        background-size: auto;\n",
       "    }\n",
       "    .progress-bar-interrupted, .progress-bar-interrupted::-webkit-progress-bar {\n",
       "        background: #F44336;\n",
       "    }\n",
       "</style>\n"
      ],
      "text/plain": [
       "<IPython.core.display.HTML object>"
      ]
     },
     "metadata": {},
     "output_type": "display_data"
    },
    {
     "data": {
      "text/html": [
       "\n",
       "    <div>\n",
       "      <progress value='27' class='' max='27' style='width:300px; height:20px; vertical-align: middle;'></progress>\n",
       "      100.00% [27/27 00:00<00:00 logp = -451.79, ||grad|| = 8.1088]\n",
       "    </div>\n",
       "    "
      ],
      "text/plain": [
       "<IPython.core.display.HTML object>"
      ]
     },
     "metadata": {},
     "output_type": "display_data"
    },
    {
     "name": "stdout",
     "output_type": "stream",
     "text": [
      "\n",
      "{'E_norm_log__': array(0.6408686), 'yield_norm_log__': array(1.10185723), 'H_norm_log__': array(-0.61273104), 'noise_log__': array(2.72728738), 'E_norm': array(1.89812887), 'yield_norm': array(3.00975063), 'H_norm': array(0.54186898), 'noise': array(15.29135104)}\n"
     ]
    },
    {
     "name": "stderr",
     "output_type": "stream",
     "text": [
      "Auto-assigning NUTS sampler...\n",
      "Initializing NUTS using jitter+adapt_diag...\n",
      "Multiprocess sampling (3 chains in 3 jobs)\n",
      "NUTS: [noise, H_norm, yield_norm, E_norm]\n"
     ]
    },
    {
     "data": {
      "text/html": [
       "\n",
       "<style>\n",
       "    /* Turns off some styling */\n",
       "    progress {\n",
       "        /* gets rid of default border in Firefox and Opera. */\n",
       "        border: none;\n",
       "        /* Needs to be in here for Safari polyfill so background images work as expected. */\n",
       "        background-size: auto;\n",
       "    }\n",
       "    .progress-bar-interrupted, .progress-bar-interrupted::-webkit-progress-bar {\n",
       "        background: #F44336;\n",
       "    }\n",
       "</style>\n"
      ],
      "text/plain": [
       "<IPython.core.display.HTML object>"
      ]
     },
     "metadata": {},
     "output_type": "display_data"
    },
    {
     "data": {
      "text/html": [
       "\n",
       "    <div>\n",
       "      <progress value='27000' class='' max='27000' style='width:300px; height:20px; vertical-align: middle;'></progress>\n",
       "      100.00% [27000/27000 00:16<00:00 Sampling 3 chains, 0 divergences]\n",
       "    </div>\n",
       "    "
      ],
      "text/plain": [
       "<IPython.core.display.HTML object>"
      ]
     },
     "metadata": {},
     "output_type": "display_data"
    },
    {
     "name": "stderr",
     "output_type": "stream",
     "text": [
      "Sampling 3 chains for 4_000 tune and 5_000 draw iterations (12_000 + 15_000 draws total) took 28 seconds.\n"
     ]
    },
    {
     "data": {
      "text/html": [
       "\n",
       "<style>\n",
       "    /* Turns off some styling */\n",
       "    progress {\n",
       "        /* gets rid of default border in Firefox and Opera. */\n",
       "        border: none;\n",
       "        /* Needs to be in here for Safari polyfill so background images work as expected. */\n",
       "        background-size: auto;\n",
       "    }\n",
       "    .progress-bar-interrupted, .progress-bar-interrupted::-webkit-progress-bar {\n",
       "        background: #F44336;\n",
       "    }\n",
       "</style>\n"
      ],
      "text/plain": [
       "<IPython.core.display.HTML object>"
      ]
     },
     "metadata": {},
     "output_type": "display_data"
    },
    {
     "data": {
      "text/html": [
       "\n",
       "    <div>\n",
       "      <progress value='27' class='' max='27' style='width:300px; height:20px; vertical-align: middle;'></progress>\n",
       "      100.00% [27/27 00:00<00:00 logp = -465.01, ||grad|| = 35.821]\n",
       "    </div>\n",
       "    "
      ],
      "text/plain": [
       "<IPython.core.display.HTML object>"
      ]
     },
     "metadata": {},
     "output_type": "display_data"
    },
    {
     "name": "stdout",
     "output_type": "stream",
     "text": [
      "\n",
      "{'E_norm_log__': array(0.64070835), 'yield_norm_log__': array(1.10177522), 'H_norm_log__': array(-0.61271715), 'noise_log__': array(2.68215204), 'E_norm': array(1.89782472), 'yield_norm': array(3.00950382), 'H_norm': array(0.54187651), 'noise': array(14.61651474)}\n"
     ]
    },
    {
     "name": "stderr",
     "output_type": "stream",
     "text": [
      "Auto-assigning NUTS sampler...\n",
      "Initializing NUTS using jitter+adapt_diag...\n",
      "Multiprocess sampling (3 chains in 3 jobs)\n",
      "NUTS: [noise, H_norm, yield_norm, E_norm]\n"
     ]
    },
    {
     "data": {
      "text/html": [
       "\n",
       "<style>\n",
       "    /* Turns off some styling */\n",
       "    progress {\n",
       "        /* gets rid of default border in Firefox and Opera. */\n",
       "        border: none;\n",
       "        /* Needs to be in here for Safari polyfill so background images work as expected. */\n",
       "        background-size: auto;\n",
       "    }\n",
       "    .progress-bar-interrupted, .progress-bar-interrupted::-webkit-progress-bar {\n",
       "        background: #F44336;\n",
       "    }\n",
       "</style>\n"
      ],
      "text/plain": [
       "<IPython.core.display.HTML object>"
      ]
     },
     "metadata": {},
     "output_type": "display_data"
    },
    {
     "data": {
      "text/html": [
       "\n",
       "    <div>\n",
       "      <progress value='27000' class='' max='27000' style='width:300px; height:20px; vertical-align: middle;'></progress>\n",
       "      100.00% [27000/27000 00:19<00:00 Sampling 3 chains, 5 divergences]\n",
       "    </div>\n",
       "    "
      ],
      "text/plain": [
       "<IPython.core.display.HTML object>"
      ]
     },
     "metadata": {},
     "output_type": "display_data"
    },
    {
     "name": "stderr",
     "output_type": "stream",
     "text": [
      "Sampling 3 chains for 4_000 tune and 5_000 draw iterations (12_000 + 15_000 draws total) took 30 seconds.\n",
      "The acceptance probability does not match the target. It is 0.8826271957888417, but should be close to 0.8. Try to increase the number of tuning steps.\n",
      "There were 5 divergences after tuning. Increase `target_accept` or reparameterize.\n",
      "The acceptance probability does not match the target. It is 0.5988794305082447, but should be close to 0.8. Try to increase the number of tuning steps.\n"
     ]
    },
    {
     "data": {
      "text/html": [
       "\n",
       "<style>\n",
       "    /* Turns off some styling */\n",
       "    progress {\n",
       "        /* gets rid of default border in Firefox and Opera. */\n",
       "        border: none;\n",
       "        /* Needs to be in here for Safari polyfill so background images work as expected. */\n",
       "        background-size: auto;\n",
       "    }\n",
       "    .progress-bar-interrupted, .progress-bar-interrupted::-webkit-progress-bar {\n",
       "        background: #F44336;\n",
       "    }\n",
       "</style>\n"
      ],
      "text/plain": [
       "<IPython.core.display.HTML object>"
      ]
     },
     "metadata": {},
     "output_type": "display_data"
    },
    {
     "data": {
      "text/html": [
       "\n",
       "    <div>\n",
       "      <progress value='29' class='' max='29' style='width:300px; height:20px; vertical-align: middle;'></progress>\n",
       "      100.00% [29/29 00:00<00:00 logp = -493.16, ||grad|| = 318.62]\n",
       "    </div>\n",
       "    "
      ],
      "text/plain": [
       "<IPython.core.display.HTML object>"
      ]
     },
     "metadata": {},
     "output_type": "display_data"
    },
    {
     "name": "stdout",
     "output_type": "stream",
     "text": [
      "\n",
      "{'E_norm_log__': array(0.64050851), 'yield_norm_log__': array(1.10165902), 'H_norm_log__': array(-0.61264603), 'noise_log__': array(2.62565153), 'E_norm': array(1.89744551), 'yield_norm': array(3.00915413), 'H_norm': array(0.54191505), 'noise': array(13.81357124)}\n"
     ]
    },
    {
     "data": {
      "image/png": "[encoded data removed]",
      "text/plain": [
       "<Figure size 432x288 with 1 Axes>"
      ]
     },
     "metadata": {
      "needs_background": "light"
     },
     "output_type": "display_data"
    }
   ],
   "source": [
    "beta_range = np.logspace(-1, 0.6, 10)\n",
    "Es = np.zeros_like(beta_range)\n",
    "yields = np.zeros_like(beta_range)\n",
    "Hs = np.zeros_like(beta_range)\n",
    "noises = np.zeros_like(beta_range)\n",
    "\n",
    "for cnt, beta in enumerate(beta_range):\n",
    "    pymc_material_model_iter = linear_regression(strain, stress, alphas = [3] * 4, betas = [beta] * 4)\n",
    "    \n",
    "    posterior_iter = pm.sample(draws = 5000, \n",
    "                      tune = 4000, \n",
    "                      model = pymc_material_model_iter, \n",
    "                      discard_tuned_samples = True,\n",
    "                     return_inferencedata=True,\n",
    "                     cores = 3)\n",
    "    \n",
    "    map_estimate_iter = pm.find_MAP(model = pymc_material_model_iter)\n",
    "    \n",
    "    Es[cnt] = map_estimate_iter['E_norm']\n",
    "    yields[cnt] = map_estimate_iter['yield_norm']\n",
    "    Hs[cnt] = map_estimate_iter['H_norm']\n",
    "    noises[cnt] = map_estimate_iter['noise']\n",
    "\n",
    "    print(map_estimate_iter)\n",
    "    \n",
    "plt.figure()\n",
    "plt.plot(beta_range, Es, color = \"#003f5c\", label = r\"$\\tilde{E}$\")\n",
    "plt.plot(beta_range, yields, color = \"#7a5195\", label = r\"$\\tilde{\\sigma}_{y_0}$\")\n",
    "plt.plot(beta_range, Hs, color = \"#ef5675\", label = r\"$\\tilde{H}$\")\n",
    "plt.plot(beta_range, noises, color = \"#ffa600\", label = r\"$\\eta$\")\n",
    "plt.legend()\n",
    "plt.xlabel(r\"$\\beta$ prior parameter variation\")\n",
    "plt.savefig(\"./images/Q3a_14.pdf\")\n",
    "plt.show()"
   ]
  },
  {
   "cell_type": "markdown",
   "id": "9866d4ef",
   "metadata": {},
   "source": [
    "## Q3b) General application and inference"
   ]
  },
  {
   "cell_type": "code",
   "execution_count": 42,
   "id": "c695472a",
   "metadata": {},
   "outputs": [],
   "source": [
    "def generative_model_likelihood(strain, stress, scaled_parameters, noise_sigma):\n",
    "    \n",
    "    stress_mean = material_model(strain,scaled_parameters)\n",
    "    \n",
    "    p1 = 1 / np.sqrt(2 * np.pi * noise_sigma**2)\n",
    "    p2 = np.exp(-1/ (2 * noise_sigma**2) * (stress - stress_mean)**2)\n",
    "    \n",
    "    return p1 * p2\n",
    "\n",
    "def generative_model_log_likelihood(strain, stress, scaled_parameters, noise_sigma):\n",
    "    \n",
    "    stress_mean = material_model(strain,scaled_parameters)\n",
    "    \n",
    "    p1 = -1/2 * np.log(2 * np.pi) \n",
    "    p2 = -1/2 * np.log(noise_sigma**2)\n",
    "    p3 = -1/ (2 * noise_sigma**2) * (stress - stress_mean)**2\n",
    "    \n",
    "    return p1 + p2 + p3\n",
    "\n",
    "def sample_generative_model(n_samples, strain, stress, scaled_parameters, noise_sigma):\n",
    "    \n",
    "    stress_mean = material_model(strain,scaled_parameters)\n",
    "    \n",
    "    return np.random.normal(loc = stress_mean, scale = noise_sigma, size = n_samples)"
   ]
  },
  {
   "cell_type": "code",
   "execution_count": 43,
   "id": "84a17205",
   "metadata": {},
   "outputs": [
    {
     "name": "stdout",
     "output_type": "stream",
     "text": [
      "[190000    300  55000     18] \n",
      "\n",
      " [[ 2.e+07 -1.e+04  1.e+06  0.e+00]\n",
      " [-1.e+04  3.e+01 -1.e+04  0.e+00]\n",
      " [ 1.e+06 -1.e+04  1.e+07  0.e+00]\n",
      " [ 0.e+00  0.e+00  0.e+00  1.e+00]] \n",
      "\n",
      "[190000    300  55000] \n",
      "\n",
      " [[ 2.e+07 -1.e+04  1.e+06]\n",
      " [-1.e+04  3.e+01 -1.e+04]\n",
      " [ 1.e+06 -1.e+04  1.e+07]] \n",
      "\n",
      "[190376.22092608    300.06201927  54591.76218586] \n",
      "\n",
      " [[ 1.55644463e+07 -1.27127568e+04  1.82328159e+06]\n",
      " [-1.27127568e+04  4.13350692e+01 -1.87941796e+04]\n",
      " [ 1.82328159e+06 -1.87941796e+04  1.26393881e+07]] \n",
      "\n",
      "[1.9e+05 3.0e+02 5.5e+04 1.8e+01] \n",
      "\n",
      " [[ 2.e+07 -1.e+04  1.e+06  0.e+00]\n",
      " [-1.e+04  3.e+01 -1.e+04  0.e+00]\n",
      " [ 1.e+06 -1.e+04  1.e+07  0.e+00]\n",
      " [ 0.e+00  0.e+00  0.e+00  1.e+00]] \n",
      "\n",
      "(50000, 3)\n",
      "(50000, 4)\n"
     ]
    }
   ],
   "source": [
    "post_mean = Q3_post_normal[\"mean_of_posterior_MPa\"][0, :]\n",
    "post_cov = Q3_post_normal[\"covariance_of_posterior_MPa\"]\n",
    "\n",
    "post_mean_u = Q3_post_normal_updated[\"mean_of_posterior_MPa\"][0, :]\n",
    "post_cov_u = Q3_post_normal_updated[\"covariance_of_posterior_MPa\"]\n",
    "\n",
    "X = np.vstack([posterior[\"E_norm\"] * 1e11, posterior['yield_norm'] * 1e8, posterior['H_norm'] * 1e11]).T  / 1e6\n",
    "\n",
    "pymc_mean = np.mean(X, axis = 0)\n",
    "pymc_cov = np.cov(X, rowvar = False)\n",
    "\n",
    "mean_given = np.array([190000, 300, 55000, 18])\n",
    "cov_given = np.array([[2 * 1e7, -1e4, 1e6, 0],\n",
    "                      [-1e4, 30, -1e4, 0],\n",
    "                      [1e6, -1e4, 1e7, 0],\n",
    "                      [0, 0, 0, 1]])\n",
    "\n",
    "print(mean_given, \"\\n\\n\", cov_given, \"\\n\")\n",
    "\n",
    "print(post_mean, \"\\n\\n\", post_cov, \"\\n\")\n",
    "\n",
    "print(pymc_mean, \"\\n\\n\", pymc_cov, \"\\n\")\n",
    "\n",
    "print(post_mean_u, \"\\n\\n\", post_cov_u, \"\\n\")\n",
    "\n",
    "#Sample the posterior\n",
    "post_samples = np.random.multivariate_normal(post_mean, post_cov, size = 50000)\n",
    "print(post_samples.shape)\n",
    "\n",
    "#Sample the updated posterior\n",
    "post_samples_u = np.random.multivariate_normal(post_mean_u, post_cov_u, size = 50000)\n",
    "print(post_samples_u.shape)"
   ]
  },
  {
   "cell_type": "markdown",
   "id": "0bd8cbdf",
   "metadata": {},
   "source": [
    "### What is the log-likelihood of the following model parameters E = 200.0 GPa, $\\sigma_{y_0}$ = 300MPa, H = 45 GPa, and $\\eta = 18$ given the the supplied stress $\\sigma$ and strain $\\epsilon$ measurements?"
   ]
  },
  {
   "cell_type": "code",
   "execution_count": 151,
   "id": "463da1cb",
   "metadata": {},
   "outputs": [
    {
     "name": "stdout",
     "output_type": "stream",
     "text": [
      "If the noise is known:\n",
      "Log-likelihood: -437.306980446364\n",
      "Likelihood: 1.2022408885773674e-190\n",
      "1.2022408885773948e-190\n"
     ]
    },
    {
     "name": "stderr",
     "output_type": "stream",
     "text": [
      "C:\\Users\\ryanb.LAPTOP-4EHB9TVB\\AppData\\Local\\Temp\\ipykernel_22624\\82116298.py:26: RuntimeWarning: divide by zero encountered in log\n",
      "  plt.semilogx(noise_range, np.log(l_noise), \"k--\")\n"
     ]
    },
    {
     "data": {
      "image/png": "[encoded data removed]",
      "text/plain": [
       "<Figure size 432x288 with 1 Axes>"
      ]
     },
     "metadata": {
      "needs_background": "light"
     },
     "output_type": "display_data"
    },
    {
     "data": {
      "image/png": "[encoded data removed]",
      "text/plain": [
       "<Figure size 432x288 with 1 Axes>"
      ]
     },
     "metadata": {
      "needs_background": "light"
     },
     "output_type": "display_data"
    },
    {
     "name": "stdout",
     "output_type": "stream",
     "text": [
      "Noise that maximised LL: 19.023\n"
     ]
    }
   ],
   "source": [
    "E_ll = 200e9\n",
    "yield_ll = 300e6\n",
    "H_ll = 45e9\n",
    "noise_ll = 18\n",
    "\n",
    "norm_parameters = normalise_parameters_method(E_ll, yield_ll, H_ll)\n",
    "ll_all_params = np.sum(generative_model_log_likelihood(strain, stress, norm_parameters, noise_ll))\n",
    "l_all_params = np.product(generative_model_likelihood(strain, stress, norm_parameters, noise_ll))\n",
    "\n",
    "print(\"If the noise is known:\")\n",
    "print(\"Log-likelihood: {}\".format(ll_all_params))\n",
    "print(\"Likelihood: {}\".format(l_all_params))\n",
    "print(np.exp(ll_all_params))\n",
    "\n",
    "noise_range = np.logspace(-3, 2, 1000)\n",
    "\n",
    "ll_noise  = np.zeros_like(noise_range)\n",
    "l_noise = np.zeros_like(noise_range)\n",
    "\n",
    "for cnt, noise in enumerate(noise_range):\n",
    "    \n",
    "    ll_noise[cnt] = np.sum(generative_model_log_likelihood(strain, stress, norm_parameters, noise))\n",
    "    l_noise[cnt] = np.product(generative_model_likelihood(strain, stress, norm_parameters, noise))\n",
    "    \n",
    "plt.figure()\n",
    "plt.semilogx(noise_range, np.log(l_noise), \"k--\")\n",
    "plt.semilogx(noise_range, ll_noise, color = \"b\")\n",
    "plt.xlabel(r\"$\\eta$\")\n",
    "plt.ylabel(r\"$\\mathcal{LL}(\\eta) = \\log p(\\mathbf{\\sigma}_{meas} \\vert \\mathbf{\\epsilon}, \\mathbf{\\theta}, \\eta)$\")\n",
    "plt.grid()\n",
    "plt.savefig(\"./images/Q3b_1.pdf\")\n",
    "plt.show()\n",
    "\n",
    "plt.figure()\n",
    "plt.semilogx(noise_range, l_noise, \"k--\")\n",
    "plt.semilogx(noise_range, np.exp(ll_noise), color = \"b\")\n",
    "plt.xlabel(r\"$\\eta$\")\n",
    "plt.ylabel(r\"$\\mathcal{L}(\\eta) = p(\\mathbf{\\sigma}_{meas} \\vert \\mathbf{\\epsilon}, \\mathbf{\\theta}, \\eta)$\")\n",
    "plt.grid()\n",
    "plt.savefig(\"./images/Q3b_2.pdf\")\n",
    "plt.show()\n",
    "\n",
    "LL_max_noise = noise_range[np.argmax(np.exp(ll_noise))]\n",
    "\n",
    "print(\"Noise that maximised LL: {:.3f}\".format(LL_max_noise))"
   ]
  },
  {
   "cell_type": "markdown",
   "id": "8af522e9",
   "metadata": {},
   "source": [
    "### What is the 95% credible interval of $\\sigma_{y_0} \\vert \\sigma, \\epsilon$ in MPa? Note that $\\sigma_{y_0} \\vert \\sigma, \\epsilon$ denotes the posterior yield strength parameter. Show evidence of the calculation process."
   ]
  },
  {
   "cell_type": "code",
   "execution_count": 45,
   "id": "71a3b6e7",
   "metadata": {},
   "outputs": [
    {
     "name": "stdout",
     "output_type": "stream",
     "text": [
      "Given:\n",
      "289.274 <= yield stress <= 310.702 MPa\n",
      "\n",
      "PyMC:\n",
      "286.801 <= yield stress <= 312.087 MPa\n"
     ]
    }
   ],
   "source": [
    "#Get the yield_stress samples\n",
    "post_yield_samples = post_samples[:, 1] * 1e6\n",
    "\n",
    "lower = np.percentile(post_yield_samples, 2.5)\n",
    "upper = np.percentile(post_yield_samples, 97.5)\n",
    "\n",
    "print(\"Given:\\n{:.3f} <= yield stress <= {:.3f} MPa\".format(lower / 1e6, upper / 1e6))\n",
    "\n",
    "#Get the yield_stress samples (PyMC)\n",
    "post_yield_samples_pymc = posterior[\"yield_norm\"] * 1e8\n",
    "\n",
    "lower_pymc = np.percentile(post_yield_samples_pymc, 2.5)\n",
    "upper_pymc = np.percentile(post_yield_samples_pymc, 97.5)\n",
    "print(\"\\nPyMC:\")\n",
    "print(\"{:.3f} <= yield stress <= {:.3f} MPa\".format(lower_pymc / 1e6, upper_pymc / 1e6))\n"
   ]
  },
  {
   "cell_type": "markdown",
   "id": "eec3cf00",
   "metadata": {},
   "source": [
    "### Calculate $\\mathbb{E} \\{  H \\vert \\sigma, \\epsilon \\}$ in MPa. Show evidence of the calculate process."
   ]
  },
  {
   "cell_type": "code",
   "execution_count": 46,
   "id": "c166d5a2",
   "metadata": {},
   "outputs": [
    {
     "name": "stdout",
     "output_type": "stream",
     "text": [
      "E(H | s, e) = 54.987 GPa\n",
      "MAP estimate: 55.000 GPa\n",
      "\n",
      "PyMC:\n",
      "E(H | s, e) = 54.592 GPa\n",
      "MAP estimate: 54.188 GPa\n"
     ]
    }
   ],
   "source": [
    "#Get plastic samples (PyMC)\n",
    "post_H_samples = post_samples[:, 2]\n",
    "\n",
    "expectation = np.mean(post_H_samples) / 1e3\n",
    "\n",
    "print(\"E(H | s, e) = {:.3f} GPa\".format(expectation))\n",
    "print(\"MAP estimate: {:.3f} GPa\".format(post_mean[2] / 1e3))\n",
    "\n",
    "#Get plastic samples\n",
    "post_H_samples_pymc = posterior['H_norm'] \n",
    "\n",
    "expectation_pymc = np.mean(post_H_samples_pymc)* 1e11 / 1e9\n",
    "\n",
    "print(\"\\nPyMC:\")\n",
    "print(\"E(H | s, e) = {:.3f} GPa\".format(expectation_pymc))\n",
    "print(\"MAP estimate: {:.3f} GPa\".format(map_estimate[\"H_norm\"]* 1e11 / 1e9))"
   ]
  },
  {
   "cell_type": "markdown",
   "id": "5d7cbd89",
   "metadata": {},
   "source": [
    "### The maximum stress in the mechanical component will be 250 MPa when using the material under consideration. What is the probability that the material will yield? Show evidence of the calculation process.\n",
    "\n",
    "$P(\\sigma_{y_0} \\leq 250 \\vert \\sigma, \\epsilon) = \\mathbb{E}_{\\sigma \\sim p(\\sigma_{y_0} \\vert \\sigma, \\epsilon)}\\{f_{250}(\\sigma)\\}$"
   ]
  },
  {
   "cell_type": "code",
   "execution_count": 47,
   "id": "112da28e",
   "metadata": {},
   "outputs": [
    {
     "name": "stdout",
     "output_type": "stream",
     "text": [
      "Probability of yielding, based on posterior distribution: 0.0%\n",
      "Probability of yielding, based on posterior distribution: 0.0%\n"
     ]
    },
    {
     "data": {
      "image/png": "[encoded data removed]",
      "text/plain": [
       "<Figure size 432x288 with 1 Axes>"
      ]
     },
     "metadata": {
      "needs_background": "light"
     },
     "output_type": "display_data"
    }
   ],
   "source": [
    "#Get the yield_stress samples\n",
    "post_yield_samples = post_samples[:, 1] #MPa\n",
    "max_stress = 250 #MPa\n",
    "\n",
    "Prob = np.mean(post_yield_samples <= max_stress)\n",
    "print(\"Probability of yielding, based on posterior distribution: {}%\".format(Prob * 100))\n",
    "\n",
    "#Get the yield_stress samples (PyMC)\n",
    "post_yield_samples_pymc = posterior[\"yield_norm\"] * 1e8 #Pa\n",
    "max_stress = 250 * 1e6 #Pa\n",
    "\n",
    "Prob_pymc = np.mean(post_yield_samples_pymc <= max_stress)\n",
    "print(\"Probability of yielding, based on posterior distribution: {}%\".format(Prob_pymc * 100))\n",
    "\n",
    "plt.figure()\n",
    "plt.hist(post_yield_samples, density = True, bins = 20, color = \"b\", label = \"Gaussian posterior samples\", alpha = 0.5)\n",
    "plt.hist(post_yield_samples_pymc / 1e6, density = True, bins = 20, color = \"r\",  label = \"PyMC posterior samples\", alpha = 0.5)\n",
    "plt.xlabel(r\"$\\sigma_{y_0} \\sim p(\\sigma_{y_0} \\vert \\mathbf{\\sigma}_{meas}, \\mathbf{\\epsilon})$\")\n",
    "plt.ylabel(r\"$p(\\sigma_{y_0} \\vert \\mathbf{\\sigma}_{meas}, \\mathbf{\\epsilon})$\")\n",
    "plt.plot([max_stress / 1e6, max_stress / 1e6], [0, 0.06], \"k--\", label = \"max stress (250 MPa)\")\n",
    "plt.legend()\n",
    "plt.grid()\n",
    "plt.savefig(\"./images/Q3b_3.pdf\")\n",
    "plt.show()"
   ]
  },
  {
   "cell_type": "markdown",
   "id": "5755be57",
   "metadata": {},
   "source": [
    "### Given the historical data, what is the probability that the measured stress σ will be more than 200 MPa for a strain of 0.001? Show evidence of the calculation process.\n",
    "\n",
    "$p(\\sigma > 200 \\vert \\sigma, \\epsilon) = 1 - p(\\sigma \\leq 200 \\vert \\sigma, \\epsilon)$."
   ]
  },
  {
   "cell_type": "code",
   "execution_count": 161,
   "id": "54f05ed8",
   "metadata": {},
   "outputs": [
    {
     "name": "stdout",
     "output_type": "stream",
     "text": [
      "(1.9, 3.0, 0.55)\n"
     ]
    },
    {
     "data": {
      "image/png": "[encoded data removed]",
      "text/plain": [
       "<Figure size 432x288 with 1 Axes>"
      ]
     },
     "metadata": {
      "needs_background": "light"
     },
     "output_type": "display_data"
    },
    {
     "name": "stdout",
     "output_type": "stream",
     "text": [
      "Noise that maximised the LL using the MAP parameters: 17.149\n",
      "H1 0.28705692 0.28705692000000005\n"
     ]
    },
    {
     "data": {
      "image/png": "[encoded data removed]",
      "text/plain": [
       "<Figure size 432x288 with 1 Axes>"
      ]
     },
     "metadata": {
      "needs_background": "light"
     },
     "output_type": "display_data"
    },
    {
     "name": "stdout",
     "output_type": "stream",
     "text": [
      "H2 0.28348921 0.28348921000000005\n"
     ]
    },
    {
     "data": {
      "image/png": "[encoded data removed]",
      "text/plain": [
       "<Figure size 432x288 with 1 Axes>"
      ]
     },
     "metadata": {
      "needs_background": "light"
     },
     "output_type": "display_data"
    }
   ],
   "source": [
    "#Gaussian posterior approach\n",
    "\n",
    "#Sample the posterior - done\n",
    "\n",
    "#Get the MLE estimate for the noise based off the MAP values\n",
    "norm_parameters = normalise_parameters_method(190000e6, 300e6, 55000e6)\n",
    "print(norm_parameters)\n",
    "noise_range = np.logspace(-3, 2, 1000)\n",
    "\n",
    "ll_noise  = np.zeros_like(noise_range)\n",
    "l_noise = np.zeros_like(noise_range)\n",
    "\n",
    "for cnt, noise in enumerate(noise_range):\n",
    "    \n",
    "    ll_noise[cnt] = np.sum(generative_model_log_likelihood(strain, stress, norm_parameters, noise))\n",
    "    l_noise[cnt] = np.product(generative_model_likelihood(strain, stress, norm_parameters, noise))\n",
    "\n",
    "plt.figure()\n",
    "plt.semilogx(noise_range, l_noise, \"k--\")\n",
    "plt.semilogx(noise_range, np.exp(ll_noise))\n",
    "plt.xlabel(r\"$\\eta$\")\n",
    "plt.ylabel(r\"$\\mathcal{L}(\\eta) = p(\\mathbf{\\sigma}_{meas} \\vert \\mathbf{\\epsilon}, \\mathbf{\\theta}, \\eta)$\")\n",
    "plt.grid()\n",
    "plt.savefig(\"./images/Q3b_4.pdf\")\n",
    "plt.show()\n",
    "\n",
    "MLE_max_noise = noise_range[np.argmax(np.exp(ll_noise))]\n",
    "print(\"Noise that maximised the LL using the MAP parameters: {:.3f}\".format(MLE_max_noise))\n",
    "\n",
    "#Based off the posterior samples, generate samples from each posterior to get the probability of interest. \n",
    "prob_list = np.zeros(post_samples.shape[0])\n",
    "x_sample_iter = []\n",
    "n_samples = 10000\n",
    "strain_val = 0.001\n",
    "max_stress = 200\n",
    "\n",
    "\n",
    "#Iterate through parameters\n",
    "for i in range(post_samples.shape[0]):\n",
    "    \n",
    "    #Adjust parameters\n",
    "    E_i, yield_i, H_i = post_samples[i, :] * 1e6\n",
    "    \n",
    "    scaled_parameters_i = normalise_parameters_method(E_i, yield_i, H_i)\n",
    "    \n",
    "    #Sample generative model\n",
    "    post_stress_samples = sample_generative_model(n_samples, strain_val, stress, scaled_parameters_i, MLE_max_noise)\n",
    "    \n",
    "    #Determine probability\n",
    "    prob_list[i] = 1 - np.mean(post_stress_samples <= max_stress)\n",
    "    \n",
    "    x_sample_iter.append(post_stress_samples)\n",
    "\n",
    "x_plot = np.array(x_sample_iter).reshape(-1)\n",
    "\n",
    "print(\"H1\", np.mean(prob_list), 1 - np.mean(x_plot <= max_stress))\n",
    "\n",
    "\n",
    "plt.figure()\n",
    "plt.hist(x_plot, density = True, bins = 100, color = \"b\")\n",
    "plt.xlabel(r\"$\\sigma_{meas} \\sim p(\\sigma_{meas} \\vert \\epsilon = 0.001, \\mathbf{\\sigma}_{meas}, \\mathbf{\\epsilon})$\")\n",
    "plt.ylabel(r\"$p(\\sigma_{meas} \\vert \\epsilon = 0.001, \\mathbf{\\sigma}_{meas}, \\mathbf{\\epsilon})$\")\n",
    "plt.grid()\n",
    "plt.savefig(\"./images/Q3b_5.pdf\")\n",
    "plt.show()\n",
    "\n",
    "    \n",
    "#Correct PyMC approach\n",
    "prob_list_PyMC = np.zeros(len(posterior[\"E_norm\"]))\n",
    "x_sample_iter = []\n",
    "\n",
    "for i in range(len(posterior[\"E_norm\"])):\n",
    "    \n",
    "    E_i = posterior[\"E_norm\"][i]\n",
    "    yield_i = posterior[\"yield_norm\"][i]\n",
    "    H_i = posterior[\"H_norm\"][i]\n",
    "    eta_i = posterior['noise'][i]\n",
    "    \n",
    "    scaled_parameters_i = [E_i, yield_i, H_i]\n",
    "    \n",
    "    #Sample generative model\n",
    "    post_stress_samples = sample_generative_model(n_samples, strain_val, stress, scaled_parameters_i, eta_i)\n",
    "    \n",
    "    #Update\n",
    "    prob_list_PyMC[i] = 1 - np.mean(post_stress_samples <= max_stress)\n",
    "    \n",
    "    #Store\n",
    "    x_sample_iter.append(post_stress_samples)\n",
    "\n",
    "x_plot = np.array(x_sample_iter).reshape(-1)\n",
    "\n",
    "print(\"H2\", np.mean(prob_list_PyMC), 1 - np.mean(x_plot <= max_stress))\n",
    "\n",
    "plt.figure()\n",
    "plt.hist(x_plot, density = True, bins = 100, color = \"b\")\n",
    "plt.xlabel(r\"$\\sigma_{meas} \\sim p(\\sigma_{meas} \\vert \\epsilon = 0.001, \\mathbf{\\sigma}_{meas}, \\mathbf{\\epsilon})$\")\n",
    "plt.ylabel(r\"$p(\\sigma_{meas} \\vert \\epsilon = 0.001, \\mathbf{\\sigma}_{meas}, \\mathbf{\\epsilon})$\")\n",
    "plt.grid()\n",
    "plt.savefig(\"./images/Q3b_6.pdf\")\n",
    "plt.show()\n",
    "    \n"
   ]
  },
  {
   "cell_type": "markdown",
   "id": "0133b509",
   "metadata": {},
   "source": [
    "### Using the updated noise ($\\eta = 18$)"
   ]
  },
  {
   "cell_type": "code",
   "execution_count": 164,
   "id": "8c768d09",
   "metadata": {},
   "outputs": [
    {
     "name": "stdout",
     "output_type": "stream",
     "text": [
      "Noise that maximised LL using the MAP parameters: 18.000\n",
      "H1 0.29564059400000003 0.295640594\n"
     ]
    },
    {
     "data": {
      "image/png": "[encoded data removed]",
      "text/plain": [
       "<Figure size 432x288 with 1 Axes>"
      ]
     },
     "metadata": {
      "needs_background": "light"
     },
     "output_type": "display_data"
    },
    {
     "name": "stdout",
     "output_type": "stream",
     "text": [
      "H1 0.29564059400000003 0.295640594\n"
     ]
    }
   ],
   "source": [
    "MLE_max_noise = 18#noise_range[np.argmax(np.exp(ll_noise))]\n",
    "print(\"Noise that maximised LL using the MAP parameters: {:.3f}\".format(MLE_max_noise))\n",
    "\n",
    "#Based off the posterior samples, generate samples from each posterior to get the probability of interest. \n",
    "prob_list = np.zeros(post_samples.shape[0])\n",
    "x_sample_iter = []\n",
    "n_samples = 10000\n",
    "strain_val = 0.001\n",
    "max_stress = 200\n",
    "\n",
    "\n",
    "#Iterate through parameters\n",
    "for i in range(post_samples.shape[0]):\n",
    "    \n",
    "    #Adjust parameters\n",
    "    E_i, yield_i, H_i = post_samples[i, :] * 1e6\n",
    "    \n",
    "    scaled_parameters_i = normalise_parameters_method(E_i, yield_i, H_i)\n",
    "    \n",
    "    #Sample generative model\n",
    "    post_stress_samples = sample_generative_model(n_samples, strain_val, stress, scaled_parameters_i, MLE_max_noise)\n",
    "    \n",
    "    #Update\n",
    "    prob_list[i] = 1 - np.mean(post_stress_samples <= max_stress)\n",
    "    \n",
    "    #Store\n",
    "    x_sample_iter.append(post_stress_samples)\n",
    "\n",
    "x_plot = np.array(x_sample_iter).reshape(-1)\n",
    "\n",
    "print(\"H1\", np.mean(prob_list), 1 - np.mean(x_plot <= max_stress))\n",
    "\n",
    "plt.figure()\n",
    "plt.hist(x_plot, density = True, bins = 100, color = \"b\")\n",
    "plt.xlabel(r\"$\\sigma_{meas} \\sim p(\\sigma_{meas} \\vert \\epsilon = 0.001, \\mathbf{\\sigma}_{meas}, \\mathbf{\\epsilon})$\")\n",
    "plt.ylabel(r\"$p(\\sigma_{meas} \\vert \\epsilon = 0.001, \\mathbf{\\sigma}_{meas}, \\mathbf{\\epsilon})$\")\n",
    "plt.grid()\n",
    "plt.savefig(\"./images/Q3b_7.pdf\")\n",
    "plt.show()\n",
    "\n",
    "print(\"H1\", np.mean(prob_list), 1 - np.mean(x_plot <= max_stress))"
   ]
  },
  {
   "cell_type": "markdown",
   "id": "8f2046e0",
   "metadata": {},
   "source": [
    "# Problem 4"
   ]
  },
  {
   "cell_type": "markdown",
   "id": "42d66055",
   "metadata": {},
   "source": [
    "The purpose of this question is to expose you to some applications of the concepts and theory that were covered in this course.\n",
    "\n",
    "Select a field in engineering (e.g. heat transfer). It would be best if you can focus on a specific problem in the field. Identify and read through at least one journal paper that applies the theory covered in this course on an engineering problem. Ideally, the methods are applied on experimental data. Summarise in your own words the problem addressed in the paper(s) and how the methods (e.g. MCMC, maximum likelihood) were used to solve the problem. Discuss why specific decisions were made (e.g. why the specific Bayesian sampling method was selected, why specific software was used, how the prior was selected) and how the results are summarised.\n",
    "\n",
    "How to get good marks:\n",
    "In addition to the requirements of the previous category, the ideas are demonstrated on the problem covered in a paper (e.g. for example, if the paper uses a finite element heat transfer model as part of the inference process, you can simplify the problem to a one-dimensional heat transfer problem and generate your own experimental data to demonstrate the ideas). Some bonus marks might be awarded for critical investigations that combine different aspects covered in this course (e.g. the influence of model errors, comparison of different estimation/inference procedures). NB: The previous problem in this assignment focused on a simplified case of material calibration. It will be inadequate to redo the previous question on the same or similar problem (e.g. using a different material model) here."
   ]
  },
  {
   "cell_type": "markdown",
   "id": "47e8c9ff",
   "metadata": {},
   "source": [
    "There is a shaft encoder with $N$ sections used to record $M$ revolutions of the shaft. \n",
    "\n",
    "Assumptions:\n",
    "- Each shaft section distance remains constant for all M revolutions.\n",
    "- The sum of the $N$ sections add up to one ($2\\pi$).\n",
    "- The IAS between zero-crossing times can be expressed as a second order polynomial.\n",
    "- The IAS is a continuous function throughout time. So no abrupt jumps in the IAS are allowed.\n",
    "\n"
   ]
  }
 ],
 "metadata": {
  "kernelspec": {
   "display_name": "PyMC3 Python",
   "language": "python",
   "name": "pymc_env"
  },
  "language_info": {
   "codemirror_mode": {
    "name": "ipython",
    "version": 3
   },
   "file_extension": ".py",
   "mimetype": "text/x-python",
   "name": "python",
   "nbconvert_exporter": "python",
   "pygments_lexer": "ipython3",
   "version": "3.10.4"
  },
  "toc": {
   "base_numbering": 1,
   "nav_menu": {},
   "number_sections": true,
   "sideBar": true,
   "skip_h1_title": false,
   "title_cell": "Table of Contents",
   "title_sidebar": "Contents",
   "toc_cell": false,
   "toc_position": {
    "height": "calc(100% - 180px)",
    "left": "10px",
    "top": "150px",
    "width": "165px"
   },
   "toc_section_display": true,
   "toc_window_display": true
  },
  "varInspector": {
   "cols": {
    "lenName": 16,
    "lenType": 16,
    "lenVar": 40
   },
   "kernels_config": {
    "python": {
     "delete_cmd_postfix": "",
     "delete_cmd_prefix": "del ",
     "library": "var_list.py",
     "varRefreshCmd": "print(var_dic_list())"
    },
    "r": {
     "delete_cmd_postfix": ") ",
     "delete_cmd_prefix": "rm(",
     "library": "var_list.r",
     "varRefreshCmd": "cat(var_dic_list()) "
    }
   },
   "types_to_exclude": [
    "module",
    "function",
    "builtin_function_or_method",
    "instance",
    "_Feature"
   ],
   "window_display": false
  }
 },
 "nbformat": 4,
 "nbformat_minor": 5
}
